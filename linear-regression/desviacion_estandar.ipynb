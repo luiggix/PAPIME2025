{
 "cells": [
  {
   "cell_type": "markdown",
   "id": "5028fad9",
   "metadata": {},
   "source": [
    "# Desviación Estándar\n",
    "En este notebook exploraremos el concepto de **desviación estándar**, su fórmula, interpretación y ejemplos prácticos con Python."
   ]
  },
  {
   "cell_type": "markdown",
   "id": "4b47f3a9",
   "metadata": {},
   "source": [
    "\n",
    "\n",
    "##  Concepto de Desviación Estándar\n",
    "\n",
    "La **desviación estándar** es una medida de dispersión que indica cuánto se alejan, en promedio, los datos respecto a la media aritmética.\n",
    "\n",
    "Se representa comúnmente con la letra griega sigma ( **σ** ) para la población, o con **s** para la muestra.\n",
    "\n",
    "---\n",
    "\n",
    "### Fórmulas\n",
    "\n",
    "**🔹 Desviación estándar para población completa**  \n",
    "<div style=\"color:#003366; font-weight:bold; font-size:16px\">\n",
    "$$\\sigma = \\sqrt{ \\frac{\\sum (x_i - \\mu)^2}{N} }$$\n",
    "</div>\n",
    "\n",
    "**🔹 Desviación estándar para muestra**  \n",
    "<div style=\"color:#003366; font-weight:bold; font-size:16px\">\n",
    "$$s = \\sqrt{ \\frac{\\sum (x_i - \\bar{x})^2}{n - 1} }$$\n",
    "</div>\n",
    "\n",
    "---\n",
    "\n",
    "###  Donde:\n",
    "$ x_i $ = cada valor individual del conjunto de datos\n",
    "\n",
    "$ \\mu $ = media poblacional\n",
    "\n",
    "$ \\bar{x} $ = media muestral\n",
    "\n",
    "$ N $ = tamaño total de la población\n",
    "\n",
    "$ n $ = tamaño de la muestración  \n",
    "- \\( n \\) = tamaño de la muestra\n",
    "\n",
    "\n",
    " tamaño de la muestra\r\n",
    "no como Jupyter con HTML.)*"
   ]
  },
  {
   "cell_type": "markdown",
   "id": "1d848adc-20f9-46ab-8204-145bcd4d38d4",
   "metadata": {},
   "source": [
    "# Datos\n",
    "Para este ejercicio decidimos crear un una serie similar a la del ejercicio anterior de 1000 evaluaciones (pueden representar días, semanas o exámenes) para dos grupos de estudiantes. Cada grupo tiene un perfil distinto de rendimiento:\n",
    "- Grupo A: alumnos con rendimiento alto y estable. Sus calificaciones giran en torno a los 90 puntos, con pequeñas fluctuaciones. Representan un grupo disciplinado, con buen dominio de los contenidos.\n",
    "- Grupo B: alumnos con rendimiento medio y más variable. Sus calificaciones rondan los 75 puntos, pero con altibajos más marcados. Este grupo podría estar influenciado por factores externos como carga académica, motivación o hábitos de estudio.\n"
   ]
  },
  {
   "cell_type": "code",
   "execution_count": 6,
   "id": "34c3b250",
   "metadata": {},
   "outputs": [
    {
     "data": {
      "text/html": [
       "<div>\n",
       "<style scoped>\n",
       "    .dataframe tbody tr th:only-of-type {\n",
       "        vertical-align: middle;\n",
       "    }\n",
       "\n",
       "    .dataframe tbody tr th {\n",
       "        vertical-align: top;\n",
       "    }\n",
       "\n",
       "    .dataframe thead th {\n",
       "        text-align: right;\n",
       "    }\n",
       "</style>\n",
       "<table border=\"1\" class=\"dataframe\">\n",
       "  <thead>\n",
       "    <tr style=\"text-align: right;\">\n",
       "      <th></th>\n",
       "      <th>Grupo A (pts)</th>\n",
       "      <th>Grupo B (pts)</th>\n",
       "      <th>Evaluación</th>\n",
       "    </tr>\n",
       "  </thead>\n",
       "  <tbody>\n",
       "    <tr>\n",
       "      <th>0</th>\n",
       "      <td>87.5</td>\n",
       "      <td>67.0</td>\n",
       "      <td>1</td>\n",
       "    </tr>\n",
       "    <tr>\n",
       "      <th>1</th>\n",
       "      <td>89.9</td>\n",
       "      <td>76.9</td>\n",
       "      <td>2</td>\n",
       "    </tr>\n",
       "    <tr>\n",
       "      <th>2</th>\n",
       "      <td>86.8</td>\n",
       "      <td>69.8</td>\n",
       "      <td>3</td>\n",
       "    </tr>\n",
       "    <tr>\n",
       "      <th>3</th>\n",
       "      <td>90.1</td>\n",
       "      <td>75.5</td>\n",
       "      <td>4</td>\n",
       "    </tr>\n",
       "    <tr>\n",
       "      <th>4</th>\n",
       "      <td>87.4</td>\n",
       "      <td>72.6</td>\n",
       "      <td>5</td>\n",
       "    </tr>\n",
       "    <tr>\n",
       "      <th>...</th>\n",
       "      <td>...</td>\n",
       "      <td>...</td>\n",
       "      <td>...</td>\n",
       "    </tr>\n",
       "    <tr>\n",
       "      <th>995</th>\n",
       "      <td>93.1</td>\n",
       "      <td>79.5</td>\n",
       "      <td>996</td>\n",
       "    </tr>\n",
       "    <tr>\n",
       "      <th>996</th>\n",
       "      <td>88.6</td>\n",
       "      <td>69.8</td>\n",
       "      <td>997</td>\n",
       "    </tr>\n",
       "    <tr>\n",
       "      <th>997</th>\n",
       "      <td>83.4</td>\n",
       "      <td>70.0</td>\n",
       "      <td>998</td>\n",
       "    </tr>\n",
       "    <tr>\n",
       "      <th>998</th>\n",
       "      <td>90.7</td>\n",
       "      <td>81.0</td>\n",
       "      <td>999</td>\n",
       "    </tr>\n",
       "    <tr>\n",
       "      <th>999</th>\n",
       "      <td>89.6</td>\n",
       "      <td>74.5</td>\n",
       "      <td>1000</td>\n",
       "    </tr>\n",
       "  </tbody>\n",
       "</table>\n",
       "<p>1000 rows × 3 columns</p>\n",
       "</div>"
      ],
      "text/plain": [
       "     Grupo A (pts)  Grupo B (pts)  Evaluación\n",
       "0             87.5           67.0           1\n",
       "1             89.9           76.9           2\n",
       "2             86.8           69.8           3\n",
       "3             90.1           75.5           4\n",
       "4             87.4           72.6           5\n",
       "..             ...            ...         ...\n",
       "995           93.1           79.5         996\n",
       "996           88.6           69.8         997\n",
       "997           83.4           70.0         998\n",
       "998           90.7           81.0         999\n",
       "999           89.6           74.5        1000\n",
       "\n",
       "[1000 rows x 3 columns]"
      ]
     },
     "execution_count": 6,
     "metadata": {},
     "output_type": "execute_result"
    }
   ],
   "source": [
    "import numpy as np\n",
    "import pandas as pd\n",
    "\n",
    "# Fijamos la semilla para reproducibilidad\n",
    "np.random.seed(433)\n",
    "\n",
    "# Número de evaluaciones simuladas\n",
    "evaluaciones = 1000\n",
    "\n",
    "# Grupo A: rendimiento alto y estable\n",
    "grupo_A = 90 + 5 * np.sin(np.linspace(0, 4 * np.pi, evaluaciones)) + np.random.normal(0, 3, evaluaciones)\n",
    "\n",
    "# Grupo B: rendimiento medio con altibajos\n",
    "grupo_B = 75 + 10 * np.sin(np.linspace(0, 4 * np.pi, evaluaciones)) + np.random.normal(0, 5, evaluaciones)\n",
    "\n",
    "# Redondeamos y agrupamos los datos\n",
    "calificaciones_AB = np.round(np.column_stack([grupo_A, grupo_B]), 1)\n",
    "\n",
    "# Creamos el DataFrame\n",
    "df_AB = pd.DataFrame(calificaciones_AB, columns=[\n",
    "    \"Grupo A (pts)\", \"Grupo B (pts)\"\n",
    "])\n",
    "df_AB[\"Evaluación\"] = np.arange(1, evaluaciones + 1)\n",
    "\n",
    "# Visualizamos las primeras filas\n",
    "df_AB"
   ]
  },
  {
   "cell_type": "markdown",
   "id": "a78e0577-c33b-47b0-9dc4-2750ec1303d4",
   "metadata": {},
   "source": [
    "# Problema 1\n",
    "Basado en lo anterior y en el notebook de media.ipynb, asumiendo que  nuestros datos son una muestra  del grupo A genera una lista de los valores Cuadrado de la desviación o cuadrado de la diferencia respecto a la media \n",
    "$$ (x_i - \\bar{x})^2 $$ esto debe ser guardado en una lista llamadac1 ademas de hacer obtener la suma de estos ${\\sum {(x_i - \\bar{x})^2}}$ y guardarlo en la variable s1 \n",
    "#### consejo \n",
    "Recuerda que las potencias se pueden hacer de la siguiente manera:\n",
    "x**y "
   ]
  },
  {
   "cell_type": "code",
   "execution_count": 23,
   "id": "9bb09659-b699-4fc9-b89b-5e41d0fb0f6e",
   "metadata": {},
   "outputs": [
    {
     "name": "stdout",
     "output_type": "stream",
     "text": [
      "20962.378095672888\n"
     ]
    }
   ],
   "source": [
    "import math\n",
    "\n",
    "### BEGIN SOLUTION\n",
    "c1=(grupo_A-grupo_A.mean())**2\n",
    "s1=sum(c1)\n",
    "\n",
    "# END SOLUTION\n",
    "print(s1)"
   ]
  },
  {
   "cell_type": "markdown",
   "id": "20fb5377-43a0-444a-ab7f-c7ea093efa7f",
   "metadata": {},
   "source": [
    "# Problema 2\n",
    "Ahora termina de calcular la desviacion estandar para el grupo A y guardarla en std1  no puedes ocupar  <span style=\"color:red\">.std()  </span>\n"
   ]
  },
  {
   "cell_type": "code",
   "execution_count": 24,
   "id": "789cb6c0-1a9a-4fb9-8a07-f9cd2d75c398",
   "metadata": {},
   "outputs": [
    {
     "name": "stdout",
     "output_type": "stream",
     "text": [
      "4.578468968516974\n"
     ]
    }
   ],
   "source": [
    "### BEGIN SOLUTION\n",
    "std=(s1/len(grupo_A))**.5\n",
    "\n",
    "# END SOLUTION\n",
    "print(std)"
   ]
  },
  {
   "cell_type": "code",
   "execution_count": 25,
   "id": "05f35700-b346-44bb-bdc7-b7af8f1a0b01",
   "metadata": {},
   "outputs": [
    {
     "name": "stdout",
     "output_type": "stream",
     "text": [
      "4.578468968516977\n"
     ]
    }
   ],
   "source": [
    "print(grupo_A.std())"
   ]
  },
  {
   "cell_type": "markdown",
   "id": "0a100a00-7af9-459d-92dc-4c62d5e103cb",
   "metadata": {},
   "source": [
    "# Problema 3\n",
    "Crea una  funciom que calcule la desviacion estandar para muestra o poblacion, dando como entrada una lista y un valor booleano en el cual si es una población debera ser verdadero, en caso de ser una muestra debera ser falso, guarda los valores en `std_muestral_A`, `std_poblacional_A` `std_muestral_B`, `std_poblacional_B` "
   ]
  },
  {
   "cell_type": "code",
   "execution_count": 59,
   "id": "3090f89a-519a-4891-8ec2-05badb86bec6",
   "metadata": {},
   "outputs": [
    {
     "name": "stdout",
     "output_type": "stream",
     "text": [
      "La desviacion estandar poblacional es del grupo A es:\n",
      " 4.580759921359121\n",
      "La desviacion estandar muestral es del grupo A es:\n",
      " 4.578468968516974\n",
      "La desviacion estandar poblacional es del grupo B es:\n",
      " 8.615564198209722\n",
      "La desviacion estandar muestral es del grupo B es:\n",
      " 8.611255338626282\n"
     ]
    }
   ],
   "source": [
    "### BEGIN SOLUTION\n",
    "def std (datos, poblacion):\n",
    "    resta=len(datos)\n",
    "    if not poblacion:resta-=1\n",
    "    c=(datos-datos.mean())**2\n",
    "    s=sum(c)\n",
    "    return (s/resta)**.5\n",
    "\n",
    "std_poblacional_A=std(grupo_A,False)\n",
    "std_muestral_A=std(grupo_A,True)\n",
    "\n",
    "std_poblacional_B=std(grupo_B,False)\n",
    "std_muestral_B=std(grupo_B,True)\n",
    "\n",
    "\n",
    "\n",
    "print(f\"La desviacion estandar poblacional es del grupo A es:\\n {std_poblacional_A}\")\n",
    "print(f\"La desviacion estandar muestral es del grupo A es:\\n {std_muestral_A}\")\n",
    "\n",
    "print(f\"La desviacion estandar poblacional es del grupo B es:\\n {std_poblacional_B}\")\n",
    "print(f\"La desviacion estandar muestral es del grupo B es:\\n {std_muestral_B}\")\n",
    "\n",
    "# END SOLUTION"
   ]
  },
  {
   "cell_type": "markdown",
   "id": "e1bf647e-307f-485f-91ed-0a580dcf620b",
   "metadata": {},
   "source": [
    "##  ¿Por qué ocuparla?\n",
    "\n",
    "La desviación estándar es una medida importante ya que permite conocer qué tan dispersos están los datos respecto a su promedio. Al cuantificar la variabilidad, nos ayuda a entender si los valores se agrupan cerca de la media o si están más alejados. Esta información es esencial para interpretar la consistencia de los datos, comparar distribuciones y evaluar el grado de incertidumbre en observaciones o predicciones. En contextos analíticos, conocer la dispersión es tan relevante como conocer el promedio, ya que permite tomar decisiones más informadas y detectar patrones o anomalías con mayor precisión."
   ]
  },
  {
   "cell_type": "code",
   "execution_count": null,
   "id": "a5f233c0-6376-4c52-b29d-3c67b1a4bc72",
   "metadata": {},
   "outputs": [],
   "source": []
  }
 ],
 "metadata": {
  "kernelspec": {
   "display_name": "Python 3 (ipykernel)",
   "language": "python",
   "name": "python3"
  },
  "language_info": {
   "codemirror_mode": {
    "name": "ipython",
    "version": 3
   },
   "file_extension": ".py",
   "mimetype": "text/x-python",
   "name": "python",
   "nbconvert_exporter": "python",
   "pygments_lexer": "ipython3",
   "version": "3.13.3"
  }
 },
 "nbformat": 4,
 "nbformat_minor": 5
}
