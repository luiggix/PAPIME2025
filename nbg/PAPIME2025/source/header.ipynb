{
 "cells": [
  {
   "cell_type": "markdown",
   "metadata": {},
   "source": [
    "**Proyecto PAPIME PE106025**"
   ]
  },
  {
   "cell_type": "markdown",
   "metadata": {},
   "source": [
    "<div class=\"alert alert-block alert-info\">\n",
    "\n",
    "**Instrucciones.**\n",
    "\n",
    "1. Antes de comenzar reinicia el kernel. En la barra de menu selecciona:\n",
    "    - `Kernel` $\\rightarrow$ `Restart Kernel and Clear Outputs of All Cells...`\n",
    "2. Ejecuta todas las celdas de código como se indica en la notebook.\n",
    "    - Para ejecutar una celda haz clic en ella y luego presiona las teclas `<Shift> + <Enter>`.\n",
    "3. Asegurate de realizar todos los ejercicios y escribir los códigos donde encuentres el texto: `YOUR CODE HERE`.\n",
    "    - No olvides comentar o eliminar las líneas de código que dicen:\n",
    "        + `raise NotImplementedError()`\n",
    "4. NO DUPLIQUES CELDAS. Si necesitas realizar algunas pruebas, abre una nueva celda y copia ahí el código que deseas probar.\n",
    "    - Algunas celdas solo con de tipo READ ONLY por lo que no podrás modificarlas. Si deseas probar código de esas celdas, puedes abrir una nueva celda y copiar el código en esta útlima para hacer tus pruebas.\n",
    "  \n",
    "5. Para evaluar tus respuestas, ejecuta las celdas que contienen código como el siguiente:\n",
    "    - `quiz.eval_numeric('1', 𝑥𝑚_1)`\n",
    "    - Estas celdas te dirán si el trabajo está correctamente realizado y en caso de error te avisará y te dará algunas pistas.  \n",
    "6. Si las cosas se complican y obtienes muchos errores que no se pueden solucionar, regresa al paso 1 y vuelve a comenzar. ¡No te preocupes!, tu trabajo estará a salvo, solo se reiniciará el kernel para eliminar de la memoria la basura acumulada.\n",
    "</div>"
   ]
  },
  {
   "cell_type": "markdown",
   "metadata": {},
   "source": [
    "---"
   ]
  }
 ],
 "metadata": {
  "kernelspec": {
   "display_name": "Python 3 (ipykernel)",
   "language": "python",
   "name": "python3"
  },
  "language_info": {
   "codemirror_mode": {
    "name": "ipython",
    "version": 3
   },
   "file_extension": ".py",
   "mimetype": "text/x-python",
   "name": "python",
   "nbconvert_exporter": "python",
   "pygments_lexer": "ipython3",
   "version": "3.11.6"
  }
 },
 "nbformat": 4,
 "nbformat_minor": 4
}
