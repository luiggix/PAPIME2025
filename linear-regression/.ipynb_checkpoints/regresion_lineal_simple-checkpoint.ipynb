{
 "cells": [
  {
   "cell_type": "markdown",
   "id": "05920898",
   "metadata": {
    "nbgrader": {
     "grade": false,
     "grade_id": "cell-e5c6d0d2cb469069",
     "locked": true,
     "schema_version": 3,
     "solution": false,
     "task": false
    },
    "slideshow": {
     "slide_type": "slide"
    }
   },
   "source": [
    "# Regresión lineal."
   ]
  },
  {
   "cell_type": "markdown",
   "id": "2b434eb5-e4bc-4796-9dea-9e43c4f5760b",
   "metadata": {
    "nbgrader": {
     "grade": false,
     "grade_id": "cell-d7da176a64269906",
     "locked": true,
     "schema_version": 3,
     "solution": false,
     "task": false
    }
   },
   "source": [
    "## Introducción\n",
    "\n",
    "El concepto de regresión está relacionado con **intentar realizar predicciones acerca de cantidades del mundo real**. Por ejemplo, tratar de responder las siguientes preguntas:\n",
    "\n",
    "* ¿Si cambio el precio de un producto, cómo cambiará el volumen de las ventas?\n",
    "* ¿Cómo es que estas ventas pueden verse afectadas por el cambio en el clima?\n",
    "* ¿A qué hora debo viajar para evitar carga en el tránsito vehicular? ¿y si llueve, cómo cambia el tránsito?\n",
    "* ¿Cuál es la probabilidad de que llueva en ciertos días de un cierto mes del año?\n",
    "\n",
    "La(s) respuesta(s) a estas preguntas se pueden construir como una combinanción de una o más variables (independientes). El papel de la regresión es **construir un modelo que pueda predecir la respuesta con base en esas variables**. Este proceso involucra la transición de los datos hacia un modelo de predicción.\n",
    "\n",
    "El modelo de predicción puede ser útil para diferentes tareas, tales como:\n",
    "\n",
    "1. Analizar el comportamiento de los datos (la relación entre la respuesta y las variables).\n",
    "2. Predecir valores en los datos (ya sea continuos o discretos).\n",
    "3. Encontrar variables importantes en el modelo (cuáles de ellas tienen más impacto).\n",
    "\n",
    "Existen varios tipos de regresión conocidos como regresión lineal simple, lineal múltiple o logística. \n",
    "\n",
    "En esta notebook veremos ejemplos de regresión lineal simple.\n"
   ]
  },
  {
   "cell_type": "markdown",
   "id": "b6bd74ef-1d41-4395-b82f-09124e6b2aef",
   "metadata": {
    "nbgrader": {
     "grade": false,
     "grade_id": "cell-91d9c605564c5678",
     "locked": true,
     "schema_version": 3,
     "solution": false,
     "task": false
    }
   },
   "source": [
    "<div class=\"alert alert-info\">\n",
    "\n",
    "## Definición de datos.\n",
    "\n",
    "Considera los siguientes cuatro conjuntos de datos.\n",
    "\n",
    "|`   ` Dataset 1||`   ` Dataset 2||`   ` Dataset 3||`   ` Dataset 4||\n",
    "|:---:|:-----:|:----:|:----:|:----:|:-----:|:----:|:-----:|\n",
    "| $x$ |  $y$  | $x$  | $y$  |  $x$ |  $y$  | $x$  |  $y$  |\n",
    "|10.0 | 8.04  | 10.0 | 9.14 | 10.0 | 7.46  | 8.0  | 6.58  |\n",
    "|8.0  | 6.95  | 8.0  | 8.14 | 8.0  | 6.77  | 8.0  | 5.76  |\n",
    "|13.0 | 7.58  | 13.0 | 8.74 | 13.0 | 12.74 | 8.0  | 7.71  |\n",
    "|9.0  | 8.81  | 9.0  | 8.77 | 9.0  | 7.11  | 8.0  | 8.84  |\n",
    "|11.0 | 8.33  | 11.0 | 9.26 | 11.0 | 7.81  | 8.0  | 8.47  |\n",
    "|14.0 | 9.96  | 14.0 | 8.10 | 14.0 | 8.84  | 8.0  | 7.04  |\n",
    "|6.0  | 7.24  | 6.0  | 6.13 | 6.0  | 6.08  | 8.0  | 5.25  |\n",
    "|4.0  | 4.26  | 4.0  | 3.10 | 4.0  | 5.39  | 19.0 | 12.50 |\n",
    "|12.0 | 10.84 | 12.0 | 9.13 | 12.0 | 8.15  | 8.0  | 5.56  |\n",
    "|7.0  | 4.82  | 7.0  | 7.26 | 7.0  | 6.42  | 8.0  | 7.91  |\n",
    "|5.0  | 5.68  | 5.0  | 4.74 | 5.0  | 5.73  | 8.0  | 6.89  |\n",
    "\n",
    "donde $x$ es la variable independiente y $y$ es la respuesta (variable dependiente).\n",
    "\n",
    "Estos cuatro conjuntos de datos se conocen cómo  [Anscombe's quartet](https://en.wikipedia.org/wiki/Anscombe%27s_quartet).\n",
    "Los cuatro conjuntos tienen las mismas propiedades estadísticas:\n",
    "\n",
    "| Propiedad | Valor   |\n",
    "|---:|---|\n",
    "| Media $\\bar{x}$ | 9     |\n",
    "| Media $\\bar{y}$ | 7.50  |\n",
    "| Varianza muestral $s_x^2$   | 11    |\n",
    "| Varianza muestral $s_y^2$   | 4.125 |\n",
    "| Correlación entre $x$ y $y$ | 0.816 |\n",
    "| Regresión lineal | $y$ = 3.00 + 0.500$x$ |\n",
    "| Coef. de determinación $R^{2}$ | 0.67 |\n",
    "\n",
    "Referencia: Anscombe, F. J. (1973). \"Graphs in Statistical Analysis\". The American Statistician. 27 (1): 17–21. doi:10.2307/2682899. JSTOR 2682899. \n",
    "</div>"
   ]
  },
  {
   "cell_type": "markdown",
   "id": "4e967de6-5763-4226-afc8-4ee47cf53b8f",
   "metadata": {
    "nbgrader": {
     "grade": false,
     "grade_id": "cell-8e23cb980b892144",
     "locked": true,
     "schema_version": 3,
     "solution": false,
     "task": false
    }
   },
   "source": [
    "<div class=\"alert alert-success\">\n",
    "\n",
    "### Ejercicio 1.\n",
    "\n",
    "Leer el archivo `AnscombeQuartet.csv` e imprimir el conjunto de datos usando el siguiente código:\n",
    "\n",
    "```python\n",
    "datos = pd.read_csv(\"AnscombeQuartet.csv\")\n",
    "datos\n",
    "```\n",
    "</div>"
   ]
  },
  {
   "cell_type": "code",
   "execution_count": 1,
   "id": "012533d5-c590-4c6e-a238-0ed613e5858a",
   "metadata": {
    "nbgrader": {
     "grade": false,
     "grade_id": "cell-590e8325f37467aa",
     "locked": true,
     "schema_version": 3,
     "solution": false,
     "task": false
    }
   },
   "outputs": [],
   "source": [
    "# Ejecuta esta celda para importar las bibliotecas que usaremos en este ejemplo.\n",
    "import pandas as pd\n",
    "import numpy as np\n",
    "import matplotlib.pyplot as plt\n",
    "from macti.eval import Quiz \n",
    "quiz = Quiz(\"reg_lin_1\", \"PAPIME2025\", \"local\")"
   ]
  },
  {
   "cell_type": "code",
   "execution_count": 2,
   "id": "57ee03df-a71d-4faf-a9a4-2e893992c594",
   "metadata": {
    "nbgrader": {
     "grade": false,
     "grade_id": "cell-651db6fad2488ad1",
     "locked": false,
     "schema_version": 3,
     "solution": true,
     "task": false
    }
   },
   "outputs": [
    {
     "data": {
      "text/html": [
       "<div>\n",
       "<style scoped>\n",
       "    .dataframe tbody tr th:only-of-type {\n",
       "        vertical-align: middle;\n",
       "    }\n",
       "\n",
       "    .dataframe tbody tr th {\n",
       "        vertical-align: top;\n",
       "    }\n",
       "\n",
       "    .dataframe thead th {\n",
       "        text-align: right;\n",
       "    }\n",
       "</style>\n",
       "<table border=\"1\" class=\"dataframe\">\n",
       "  <thead>\n",
       "    <tr style=\"text-align: right;\">\n",
       "      <th></th>\n",
       "      <th>x1</th>\n",
       "      <th>y1</th>\n",
       "      <th>x2</th>\n",
       "      <th>y2</th>\n",
       "      <th>x3</th>\n",
       "      <th>y3</th>\n",
       "      <th>x4</th>\n",
       "      <th>y4</th>\n",
       "    </tr>\n",
       "  </thead>\n",
       "  <tbody>\n",
       "    <tr>\n",
       "      <th>0</th>\n",
       "      <td>10.0</td>\n",
       "      <td>8.04</td>\n",
       "      <td>10.0</td>\n",
       "      <td>9.14</td>\n",
       "      <td>10.0</td>\n",
       "      <td>7.46</td>\n",
       "      <td>8.0</td>\n",
       "      <td>6.58</td>\n",
       "    </tr>\n",
       "    <tr>\n",
       "      <th>1</th>\n",
       "      <td>8.0</td>\n",
       "      <td>6.95</td>\n",
       "      <td>8.0</td>\n",
       "      <td>8.14</td>\n",
       "      <td>8.0</td>\n",
       "      <td>6.77</td>\n",
       "      <td>8.0</td>\n",
       "      <td>5.76</td>\n",
       "    </tr>\n",
       "    <tr>\n",
       "      <th>2</th>\n",
       "      <td>13.0</td>\n",
       "      <td>7.58</td>\n",
       "      <td>13.0</td>\n",
       "      <td>8.74</td>\n",
       "      <td>13.0</td>\n",
       "      <td>12.74</td>\n",
       "      <td>8.0</td>\n",
       "      <td>7.71</td>\n",
       "    </tr>\n",
       "    <tr>\n",
       "      <th>3</th>\n",
       "      <td>9.0</td>\n",
       "      <td>8.81</td>\n",
       "      <td>9.0</td>\n",
       "      <td>8.77</td>\n",
       "      <td>9.0</td>\n",
       "      <td>7.11</td>\n",
       "      <td>8.0</td>\n",
       "      <td>8.84</td>\n",
       "    </tr>\n",
       "    <tr>\n",
       "      <th>4</th>\n",
       "      <td>11.0</td>\n",
       "      <td>8.33</td>\n",
       "      <td>11.0</td>\n",
       "      <td>9.26</td>\n",
       "      <td>11.0</td>\n",
       "      <td>7.81</td>\n",
       "      <td>8.0</td>\n",
       "      <td>8.47</td>\n",
       "    </tr>\n",
       "    <tr>\n",
       "      <th>5</th>\n",
       "      <td>14.0</td>\n",
       "      <td>9.96</td>\n",
       "      <td>14.0</td>\n",
       "      <td>8.10</td>\n",
       "      <td>14.0</td>\n",
       "      <td>8.84</td>\n",
       "      <td>8.0</td>\n",
       "      <td>7.04</td>\n",
       "    </tr>\n",
       "    <tr>\n",
       "      <th>6</th>\n",
       "      <td>6.0</td>\n",
       "      <td>7.24</td>\n",
       "      <td>6.0</td>\n",
       "      <td>6.13</td>\n",
       "      <td>6.0</td>\n",
       "      <td>6.08</td>\n",
       "      <td>8.0</td>\n",
       "      <td>5.25</td>\n",
       "    </tr>\n",
       "    <tr>\n",
       "      <th>7</th>\n",
       "      <td>4.0</td>\n",
       "      <td>4.26</td>\n",
       "      <td>4.0</td>\n",
       "      <td>3.10</td>\n",
       "      <td>4.0</td>\n",
       "      <td>5.39</td>\n",
       "      <td>19.0</td>\n",
       "      <td>12.50</td>\n",
       "    </tr>\n",
       "    <tr>\n",
       "      <th>8</th>\n",
       "      <td>12.0</td>\n",
       "      <td>10.84</td>\n",
       "      <td>12.0</td>\n",
       "      <td>9.13</td>\n",
       "      <td>12.0</td>\n",
       "      <td>8.15</td>\n",
       "      <td>8.0</td>\n",
       "      <td>5.56</td>\n",
       "    </tr>\n",
       "    <tr>\n",
       "      <th>9</th>\n",
       "      <td>7.0</td>\n",
       "      <td>4.82</td>\n",
       "      <td>7.0</td>\n",
       "      <td>7.26</td>\n",
       "      <td>7.0</td>\n",
       "      <td>6.42</td>\n",
       "      <td>8.0</td>\n",
       "      <td>7.91</td>\n",
       "    </tr>\n",
       "    <tr>\n",
       "      <th>10</th>\n",
       "      <td>5.0</td>\n",
       "      <td>5.68</td>\n",
       "      <td>5.0</td>\n",
       "      <td>4.74</td>\n",
       "      <td>5.0</td>\n",
       "      <td>5.73</td>\n",
       "      <td>8.0</td>\n",
       "      <td>6.89</td>\n",
       "    </tr>\n",
       "  </tbody>\n",
       "</table>\n",
       "</div>"
      ],
      "text/plain": [
       "      x1     y1    x2    y2    x3     y3    x4     y4\n",
       "0   10.0   8.04  10.0  9.14  10.0   7.46   8.0   6.58\n",
       "1    8.0   6.95   8.0  8.14   8.0   6.77   8.0   5.76\n",
       "2   13.0   7.58  13.0  8.74  13.0  12.74   8.0   7.71\n",
       "3    9.0   8.81   9.0  8.77   9.0   7.11   8.0   8.84\n",
       "4   11.0   8.33  11.0  9.26  11.0   7.81   8.0   8.47\n",
       "5   14.0   9.96  14.0  8.10  14.0   8.84   8.0   7.04\n",
       "6    6.0   7.24   6.0  6.13   6.0   6.08   8.0   5.25\n",
       "7    4.0   4.26   4.0  3.10   4.0   5.39  19.0  12.50\n",
       "8   12.0  10.84  12.0  9.13  12.0   8.15   8.0   5.56\n",
       "9    7.0   4.82   7.0  7.26   7.0   6.42   8.0   7.91\n",
       "10   5.0   5.68   5.0  4.74   5.0   5.73   8.0   6.89"
      ]
     },
     "execution_count": 2,
     "metadata": {},
     "output_type": "execute_result"
    }
   ],
   "source": [
    "# Copia aquí el código para la lectura de los datos.\n",
    "### BEGIN SOLUTION\n",
    "from macti.eval import FileAnswer \n",
    "file_answer = FileAnswer()\n",
    "file_answer.verb = 1\n",
    "\n",
    "datos = pd.read_csv(\"AnscombeQuartet.csv\")\n",
    "datos\n",
    "### END SOLUTION"
   ]
  },
  {
   "cell_type": "markdown",
   "id": "72e54b8e-fa32-4c24-bbcd-009e8cd38072",
   "metadata": {
    "nbgrader": {
     "grade": false,
     "grade_id": "cell-8c1c5710c51a2841",
     "locked": true,
     "schema_version": 3,
     "solution": false,
     "task": false
    }
   },
   "source": [
    "## Media y varianza\n",
    "\n",
    "Dados los $n$ números $\\{x_{1},x_{2},\\ldots ,x_{n}\\}$, la media se define como:\n",
    "\n",
    "$$\n",
    "\\bar{x}={\\frac{1}{n}}\\sum_{i=1}^{n}x_{i}\n",
    "$$\n",
    "\n",
    "\n",
    "y la varianza muestral se define como:\n",
    "\n",
    "$$\n",
    "s_x^2 = \\frac{1}{n-1} \\sum_{i=1}^{n} (x_i - \\bar{x})^2\n",
    "$$\n",
    "\n",
    "Ejecuta la siguiente celda para definir las funciones `media(X)` y `varianza(X)` que implementan las dos fórmulas anteriores."
   ]
  },
  {
   "cell_type": "code",
   "execution_count": 3,
   "id": "a7d8d56d-6405-49f1-a574-d47ff85f6445",
   "metadata": {
    "nbgrader": {
     "grade": false,
     "grade_id": "cell-a158b53919f22540",
     "locked": true,
     "schema_version": 3,
     "solution": false,
     "task": false
    }
   },
   "outputs": [],
   "source": [
    "def media(X):\n",
    "    suma = 0\n",
    "    for xi in X:\n",
    "        suma += xi\n",
    "    \n",
    "    return suma / len(X)\n",
    "\n",
    "def varianza(X):\n",
    "    𝑥𝑚 = media(X)\n",
    "    suma = 0\n",
    "    for xi in X:\n",
    "        suma += (xi - 𝑥𝑚)**2\n",
    "    \n",
    "    return suma / (len(X)-1)"
   ]
  },
  {
   "cell_type": "markdown",
   "id": "d6f9a484-6fd0-4d4a-a7f9-4b2a91c987bb",
   "metadata": {
    "nbgrader": {
     "grade": false,
     "grade_id": "cell-957d70532357b524",
     "locked": true,
     "schema_version": 3,
     "solution": false,
     "task": false
    }
   },
   "source": [
    "<div class=\"alert alert-success\">\n",
    "\n",
    "### Ejercicio 2.\n",
    "Usando la funciones `media(X)` y `varianza(Y)`, calcula la media y la varianza de $x$ y $y$ para cada uno de los conjuntos de datos (*Datasets*).\n",
    "\n",
    "Por ejemplo:\n",
    "\n",
    "```python\n",
    "# Dataset 1\n",
    "𝑥𝑚_1 = media(datos.x1)\n",
    "𝑦𝑚_1 = media(datos.y1)\n",
    "𝑠𝟸𝑥_1 = varianza(datos.x1)\n",
    "𝑠𝟸𝑦_1 = varianza(datos.y1)\n",
    "\n",
    "print(f\" 𝑥𝑚_1 = {𝑥𝑚_1:>5.2f}\")\n",
    "print(f\" 𝑦𝑚_1 = {𝑦𝑚_1:>5.2f}\")\n",
    "print(f\" 𝑠𝑥_1 = {𝑠𝟸𝑥_1:>6.3f}\")\n",
    "print(f\" 𝑠𝑦_1 = {𝑠𝟸𝑦_1:>6.3f}\\n\")\n",
    "\n",
    "# Dataset 2\n",
    "...\n",
    "```\n",
    "\n",
    "<br>\n",
    "\n",
    "Completa el código para todos los *Datasets* y comprueba que la media y la varianza tienen los valores mencionados por Anscombe.\n",
    "\n",
    "</div>"
   ]
  },
  {
   "cell_type": "code",
   "execution_count": 4,
   "id": "e9787987-7bb1-4582-a186-06ce9a7cd511",
   "metadata": {
    "nbgrader": {
     "grade": false,
     "grade_id": "cell-41f12092dd88d7b7",
     "locked": false,
     "schema_version": 3,
     "solution": true,
     "task": false
    }
   },
   "outputs": [
    {
     "name": "stdout",
     "output_type": "stream",
     "text": [
      " 𝑥𝑚_1 =  9.00\n",
      " 𝑦𝑚_1 =  7.50\n",
      " 𝑠𝟸𝑥_1 = 11.000\n",
      " 𝑠𝟸𝑦_1 =  4.127\n",
      "\n",
      "El directorio :/home/jovyan/PAPIME2025/.ans/linear-regression/ ya existe\n",
      "Respuestas y retroalimentación almacenadas.\n"
     ]
    }
   ],
   "source": [
    "# Calcula e imprime la media y la varianza.\n",
    "# Dataset 1\n",
    "### BEGIN SOLUTION\n",
    "𝑥𝑚_1 = media(datos.x1)\n",
    "𝑦𝑚_1 = media(datos.y1)\n",
    "𝑠𝟸𝑥_1 = varianza(datos.x1)\n",
    "𝑠𝟸𝑦_1 = varianza(datos.y1)\n",
    "\n",
    "print(f\" 𝑥𝑚_1 = {𝑥𝑚_1:>5.2f}\")\n",
    "print(f\" 𝑦𝑚_1 = {𝑦𝑚_1:>5.2f}\")\n",
    "print(f\" 𝑠𝟸𝑥_1 = {𝑠𝟸𝑥_1:>6.3f}\")\n",
    "print(f\" 𝑠𝟸𝑦_1 = {𝑠𝟸𝑦_1:>6.3f}\\n\")\n",
    "\n",
    "def msg_1(s_v, s_n, f):\n",
    "    msg = f\"\"\"\n",
    "    * Asegurate de haber ejecutado la celda donde se \n",
    "    definen las funciones 'media(X)' y 'varianza(Y)'.\n",
    "    * Revisa que hayas pasado 'datos.{s_v}{s_n}' a la función '{f}'.\n",
    "    \"\"\"\n",
    "    return msg\n",
    "    \n",
    "file_answer.write('1', 𝑥𝑚_1, msg_1(\"x\",\"1\",\"media(X)\"))\n",
    "file_answer.write('2', 𝑦𝑚_1, msg_1(\"y\",\"1\",\"media(X)\"))\n",
    "file_answer.write('3', 𝑠𝟸𝑥_1, msg_1(\"x\",\"1\",\"varianza(X,Y)\"))\n",
    "file_answer.write('4', 𝑠𝟸𝑦_1, msg_1(\"y\",\"1\",\"varianza(X,Y)\"))\n",
    "file_answer.to_file(\"reg_lin_1\")\n",
    "### END SOLUTION"
   ]
  },
  {
   "cell_type": "code",
   "execution_count": 5,
   "id": "8ae051de-b7f1-449a-83c3-805febcbd3bb",
   "metadata": {
    "nbgrader": {
     "grade": true,
     "grade_id": "cell-eaee200cdf757c8a",
     "locked": true,
     "points": 4,
     "schema_version": 3,
     "solution": false,
     "task": false
    }
   },
   "outputs": [
    {
     "name": "stdout",
     "output_type": "stream",
     "text": [
      "\u001b[39m――――――――――――――――――――――――――――――――――――――――\n",
      "\u001b[32m1 | Tu resultado es correcto.\n",
      "\u001b[39m――――――――――――――――――――――――――――――――――――――――\n",
      "\u001b[39m――――――――――――――――――――――――――――――――――――――――\n",
      "\u001b[32m2 | Tu resultado es correcto.\n",
      "\u001b[39m――――――――――――――――――――――――――――――――――――――――\n",
      "\u001b[39m――――――――――――――――――――――――――――――――――――――――\n",
      "\u001b[32m3 | Tu resultado es correcto.\n",
      "\u001b[39m――――――――――――――――――――――――――――――――――――――――\n",
      "\u001b[39m――――――――――――――――――――――――――――――――――――――――\n",
      "\u001b[32m4 | Tu resultado es correcto.\n",
      "\u001b[39m――――――――――――――――――――――――――――――――――――――――\n"
     ]
    }
   ],
   "source": [
    "# Evaluación de los resultados para el Dataset 1\n",
    "quiz.eval_numeric('1', 𝑥𝑚_1)\n",
    "quiz.eval_numeric('2', 𝑦𝑚_1)\n",
    "quiz.eval_numeric('3', 𝑠𝟸𝑥_1)\n",
    "quiz.eval_numeric('4', 𝑠𝟸𝑦_1)"
   ]
  },
  {
   "cell_type": "code",
   "execution_count": 6,
   "id": "3e0265db-26fb-4279-a251-81ae02dcf4fd",
   "metadata": {
    "nbgrader": {
     "grade": false,
     "grade_id": "cell-f0d5cd50d677d1c3",
     "locked": false,
     "schema_version": 3,
     "solution": true,
     "task": false
    }
   },
   "outputs": [
    {
     "name": "stdout",
     "output_type": "stream",
     "text": [
      " 𝑥𝑚_2 =  9.00\n",
      " 𝑦𝑚_2 =  7.50\n",
      " 𝑠𝟸𝑥_2 = 11.000\n",
      " 𝑠𝟸𝑦_2 =  4.128\n",
      "\n",
      "El directorio :/home/jovyan/PAPIME2025/.ans/linear-regression/ ya existe\n",
      "Respuestas y retroalimentación almacenadas.\n"
     ]
    }
   ],
   "source": [
    "# Dataset 2\n",
    "### BEGIN SOLUTION\n",
    "𝑥𝑚_2 = media(datos.x2)\n",
    "𝑦𝑚_2 = media(datos.y2)\n",
    "𝑠𝟸𝑥_2 = varianza(datos.x2)\n",
    "𝑠𝟸𝑦_2 = varianza(datos.y2)\n",
    "\n",
    "print(f\" 𝑥𝑚_2 = {𝑥𝑚_2:>5.2f}\")\n",
    "print(f\" 𝑦𝑚_2 = {𝑦𝑚_2:>5.2f}\")\n",
    "print(f\" 𝑠𝟸𝑥_2 = {𝑠𝟸𝑥_2:>6.3f}\")\n",
    "print(f\" 𝑠𝟸𝑦_2 = {𝑠𝟸𝑦_2:>6.3f}\\n\")\n",
    "\n",
    "file_answer.write('5', 𝑥𝑚_2, msg_1(\"x\",\"2\",\"media(X)\"))\n",
    "file_answer.write('6', 𝑦𝑚_2, msg_1(\"y\",\"2\",\"media(X)\"))\n",
    "file_answer.write('7', 𝑠𝟸𝑥_2, msg_1(\"x\",\"2\",\"varianza(X,Y)\"))\n",
    "file_answer.write('8', 𝑠𝟸𝑦_2, msg_1(\"y\",\"2\",\"varianza(X,Y)\"))\n",
    "file_answer.to_file(\"reg_lin_1\")\n",
    "### END SOLUTION"
   ]
  },
  {
   "cell_type": "code",
   "execution_count": 7,
   "id": "2535c375-83c4-4d66-94a5-efd35f3612c1",
   "metadata": {
    "nbgrader": {
     "grade": true,
     "grade_id": "cell-ac86307eaed51ca9",
     "locked": true,
     "points": 4,
     "schema_version": 3,
     "solution": false,
     "task": false
    }
   },
   "outputs": [
    {
     "name": "stdout",
     "output_type": "stream",
     "text": [
      "\u001b[39m――――――――――――――――――――――――――――――――――――――――\n",
      "\u001b[32m5 | Tu resultado es correcto.\n",
      "\u001b[39m――――――――――――――――――――――――――――――――――――――――\n",
      "\u001b[39m――――――――――――――――――――――――――――――――――――――――\n",
      "\u001b[32m6 | Tu resultado es correcto.\n",
      "\u001b[39m――――――――――――――――――――――――――――――――――――――――\n",
      "\u001b[39m――――――――――――――――――――――――――――――――――――――――\n",
      "\u001b[32m7 | Tu resultado es correcto.\n",
      "\u001b[39m――――――――――――――――――――――――――――――――――――――――\n",
      "\u001b[39m――――――――――――――――――――――――――――――――――――――――\n",
      "\u001b[32m8 | Tu resultado es correcto.\n",
      "\u001b[39m――――――――――――――――――――――――――――――――――――――――\n"
     ]
    }
   ],
   "source": [
    "# Evaluación de los resultados para el Dataset 2\n",
    "quiz.eval_numeric('5', 𝑥𝑚_2)\n",
    "quiz.eval_numeric('6', 𝑦𝑚_2)\n",
    "quiz.eval_numeric('7', 𝑠𝟸𝑥_2)\n",
    "quiz.eval_numeric('8', 𝑠𝟸𝑦_2)"
   ]
  },
  {
   "cell_type": "code",
   "execution_count": 8,
   "id": "dc34d8e0-75a3-44fc-9aef-60e0e37d866e",
   "metadata": {
    "nbgrader": {
     "grade": false,
     "grade_id": "cell-3412d7ac8ac8416c",
     "locked": false,
     "schema_version": 3,
     "solution": true,
     "task": false
    }
   },
   "outputs": [
    {
     "name": "stdout",
     "output_type": "stream",
     "text": [
      " 𝑥𝑚_3 =  9.00\n",
      " 𝑦𝑚_3 =  7.50\n",
      " 𝑠𝟸𝑥_3 = 11.000\n",
      " 𝑠𝟸𝑦_3 =  4.123\n",
      "\n",
      "El directorio :/home/jovyan/PAPIME2025/.ans/linear-regression/ ya existe\n",
      "Respuestas y retroalimentación almacenadas.\n"
     ]
    }
   ],
   "source": [
    "# Dataset 3\n",
    "### BEGIN SOLUTION\n",
    "𝑥𝑚_3 = media(datos.x3)\n",
    "𝑦𝑚_3 = media(datos.y3)\n",
    "𝑠𝟸𝑥_3 = varianza(datos.x3)\n",
    "𝑠𝟸𝑦_3 = varianza(datos.y3)\n",
    "\n",
    "print(f\" 𝑥𝑚_3 = {𝑥𝑚_3:>5.2f}\")\n",
    "print(f\" 𝑦𝑚_3 = {𝑦𝑚_3:>5.2f}\")\n",
    "print(f\" 𝑠𝟸𝑥_3 = {𝑠𝟸𝑥_3:>6.3f}\")\n",
    "print(f\" 𝑠𝟸𝑦_3 = {𝑠𝟸𝑦_3:>6.3f}\\n\")\n",
    "\n",
    "file_answer.write('9', 𝑥𝑚_3, msg_1(\"x\",\"3\",\"media(X)\"))\n",
    "file_answer.write('10', 𝑦𝑚_3, msg_1(\"y\",\"3\",\"media(X)\"))\n",
    "file_answer.write('11', 𝑠𝟸𝑥_3, msg_1(\"x\",\"3\",\"varianza(X,Y)\"))\n",
    "file_answer.write('12', 𝑠𝟸𝑦_3, msg_1(\"y\",\"3\",\"media(X)\"))\n",
    "file_answer.to_file(\"reg_lin_1\")\n",
    "### END SOLUTION"
   ]
  },
  {
   "cell_type": "code",
   "execution_count": 9,
   "id": "38aac954-3777-4ca2-a0df-8770ad927f3c",
   "metadata": {
    "nbgrader": {
     "grade": true,
     "grade_id": "cell-70e0d81401b3136f",
     "locked": true,
     "points": 4,
     "schema_version": 3,
     "solution": false,
     "task": false
    }
   },
   "outputs": [
    {
     "name": "stdout",
     "output_type": "stream",
     "text": [
      "\u001b[39m――――――――――――――――――――――――――――――――――――――――\n",
      "\u001b[32m9 | Tu resultado es correcto.\n",
      "\u001b[39m――――――――――――――――――――――――――――――――――――――――\n",
      "\u001b[39m――――――――――――――――――――――――――――――――――――――――\n",
      "\u001b[32m10 | Tu resultado es correcto.\n",
      "\u001b[39m――――――――――――――――――――――――――――――――――――――――\n",
      "\u001b[39m――――――――――――――――――――――――――――――――――――――――\n",
      "\u001b[32m11 | Tu resultado es correcto.\n",
      "\u001b[39m――――――――――――――――――――――――――――――――――――――――\n",
      "\u001b[39m――――――――――――――――――――――――――――――――――――――――\n",
      "\u001b[32m12 | Tu resultado es correcto.\n",
      "\u001b[39m――――――――――――――――――――――――――――――――――――――――\n"
     ]
    }
   ],
   "source": [
    "# Evaluación de los resultados para el Dataset 3\n",
    "quiz.eval_numeric('9', 𝑥𝑚_3)\n",
    "quiz.eval_numeric('10', 𝑦𝑚_3)\n",
    "quiz.eval_numeric('11', 𝑠𝟸𝑥_3)\n",
    "quiz.eval_numeric('12', 𝑠𝟸𝑦_3)"
   ]
  },
  {
   "cell_type": "code",
   "execution_count": 10,
   "id": "39ac5e32-ad5b-4e0d-8166-3e34ba005f86",
   "metadata": {
    "nbgrader": {
     "grade": false,
     "grade_id": "cell-1c0a1de3361b2431",
     "locked": false,
     "schema_version": 3,
     "solution": true,
     "task": false
    }
   },
   "outputs": [
    {
     "name": "stdout",
     "output_type": "stream",
     "text": [
      " 𝑥𝑚_4 =  9.00\n",
      " 𝑦𝑚_4 =  7.50\n",
      " 𝑠𝑥_4 = 11.000\n",
      " 𝑠𝑦_4 =  4.123\n",
      "\n",
      "El directorio :/home/jovyan/PAPIME2025/.ans/linear-regression/ ya existe\n",
      "Respuestas y retroalimentación almacenadas.\n"
     ]
    }
   ],
   "source": [
    "# Dataset 4\n",
    "### BEGIN SOLUTION\n",
    "𝑥𝑚_4 = media(datos.x4)\n",
    "𝑦𝑚_4 = media(datos.y4)\n",
    "𝑠𝟸𝑥_4 = varianza(datos.x4)\n",
    "𝑠𝟸𝑦_4 = varianza(datos.y4)\n",
    "\n",
    "print(f\" 𝑥𝑚_4 = {𝑥𝑚_4:>5.2f}\")\n",
    "print(f\" 𝑦𝑚_4 = {𝑦𝑚_4:>5.2f}\")\n",
    "print(f\" 𝑠𝑥_4 = {𝑠𝟸𝑥_4:>6.3f}\")\n",
    "print(f\" 𝑠𝑦_4 = {𝑠𝟸𝑦_4:>6.3f}\\n\")\n",
    "\n",
    "file_answer.write('13', 𝑥𝑚_4, msg_1(\"x\",\"4\",\"media(X)\"))\n",
    "file_answer.write('14', 𝑦𝑚_4, msg_1(\"y\",\"4\",\"media(X)\"))\n",
    "file_answer.write('15', 𝑠𝟸𝑥_4, msg_1(\"x\",\"4\",\"varianza(X,Y)\"))\n",
    "file_answer.write('16', 𝑠𝟸𝑦_4, msg_1(\"y\",\"4\",\"varianza(X,Y)\"))\n",
    "file_answer.to_file(\"reg_lin_1\")\n",
    "### END SOLUTION"
   ]
  },
  {
   "cell_type": "code",
   "execution_count": 11,
   "id": "c803d71f-72e9-4a19-b2aa-54e0c5b794d3",
   "metadata": {
    "nbgrader": {
     "grade": true,
     "grade_id": "cell-35308b3b6110c263",
     "locked": true,
     "points": 4,
     "schema_version": 3,
     "solution": false,
     "task": false
    }
   },
   "outputs": [
    {
     "name": "stdout",
     "output_type": "stream",
     "text": [
      "\u001b[39m――――――――――――――――――――――――――――――――――――――――\n",
      "\u001b[32m13 | Tu resultado es correcto.\n",
      "\u001b[39m――――――――――――――――――――――――――――――――――――――――\n",
      "\u001b[39m――――――――――――――――――――――――――――――――――――――――\n",
      "\u001b[32m14 | Tu resultado es correcto.\n",
      "\u001b[39m――――――――――――――――――――――――――――――――――――――――\n",
      "\u001b[39m――――――――――――――――――――――――――――――――――――――――\n",
      "\u001b[32m15 | Tu resultado es correcto.\n",
      "\u001b[39m――――――――――――――――――――――――――――――――――――――――\n",
      "\u001b[39m――――――――――――――――――――――――――――――――――――――――\n",
      "\u001b[32m16 | Tu resultado es correcto.\n",
      "\u001b[39m――――――――――――――――――――――――――――――――――――――――\n"
     ]
    }
   ],
   "source": [
    "# Evaluación de los resultados para el Dataset 4\n",
    "quiz.eval_numeric('13', 𝑥𝑚_4)\n",
    "quiz.eval_numeric('14', 𝑦𝑚_4)\n",
    "quiz.eval_numeric('15', 𝑠𝟸𝑥_4)\n",
    "quiz.eval_numeric('16', 𝑠𝟸𝑦_4)"
   ]
  },
  {
   "cell_type": "markdown",
   "id": "62606b71-f083-49c4-bfdc-5fe9c3e8a4b6",
   "metadata": {
    "nbgrader": {
     "grade": false,
     "grade_id": "cell-0615345cefdaf924",
     "locked": true,
     "schema_version": 3,
     "solution": false,
     "task": false
    }
   },
   "source": [
    "## Covarianza.\n",
    "\n",
    "La covarianza entre las variables $x$ y $y$ se define como sigue:\n",
    "\n",
    "$$\n",
    "S_{xy} = \\frac{1}{n-1} \\sum_{i=1}^{n} (x_i - \\bar{x})(y_i - \\bar{y})\n",
    "$$\n",
    "\n",
    "Ejecuta la siguiente celda de código para definir la función `covarianza(X)` que implementa la fórmula anterior."
   ]
  },
  {
   "cell_type": "code",
   "execution_count": 12,
   "id": "4df7fac8-253a-47f4-a0f3-ce6d0e815673",
   "metadata": {
    "nbgrader": {
     "grade": false,
     "grade_id": "cell-9210a0741984d6ba",
     "locked": true,
     "schema_version": 3,
     "solution": false,
     "task": false
    }
   },
   "outputs": [],
   "source": [
    "def covarianza(X, Y):\n",
    "    𝑥𝑚 = media(X)\n",
    "    𝑦𝑚 = media(Y)\n",
    "    suma = 0.0  \n",
    "    for xi, yi in zip(X, Y):\n",
    "        suma += (xi - 𝑥𝑚) * (yi - 𝑦𝑚)\n",
    "    \n",
    "    return suma / (len(X)-1)"
   ]
  },
  {
   "cell_type": "markdown",
   "id": "755b5ffd-241a-4c4b-948d-327f9b26b650",
   "metadata": {
    "nbgrader": {
     "grade": false,
     "grade_id": "cell-2f5d42d5da8c24ed",
     "locked": true,
     "schema_version": 3,
     "solution": false,
     "task": false
    }
   },
   "source": [
    "<div class=\"alert alert-success\">\n",
    "\n",
    "### Ejercicio 3. \n",
    "\n",
    "Calcula la covarianza entre $x$ y $y$ de cada conjunto de datos usando la función `covarianza(X, Y)`. Por ejemplo:\n",
    "\n",
    "```python\n",
    "𝑆𝑥𝑦_1 = covarianza(datos.x1, datos.y1)\n",
    "\n",
    "print(f\" 𝑆𝑥𝑦_1 = {𝑆𝑥𝑦_1:>5.2f}\")\n",
    "```\n",
    "<br>\n",
    "Completa el código para cada conjunto de datos y verifica que en todos los casos la covarianza es igual a $5.50$.\n",
    "</div>"
   ]
  },
  {
   "cell_type": "code",
   "execution_count": 13,
   "id": "4de9fe57-8c81-4352-bfb7-56d8648c43bf",
   "metadata": {
    "nbgrader": {
     "grade": false,
     "grade_id": "cell-30bddee2ce7d8c93",
     "locked": false,
     "schema_version": 3,
     "solution": true,
     "task": false
    }
   },
   "outputs": [
    {
     "name": "stdout",
     "output_type": "stream",
     "text": [
      " 𝑆𝑥𝑦_1 =  5.50\n",
      " 𝑆𝑥𝑦_2 =  5.50\n",
      " 𝑆𝑥𝑦_3 =  5.50\n",
      " 𝑆𝑥𝑦_4 =  5.50\n",
      "El directorio :/home/jovyan/PAPIME2025/.ans/linear-regression/ ya existe\n",
      "Respuestas y retroalimentación almacenadas.\n"
     ]
    }
   ],
   "source": [
    "# Calcula la covarianza entre las variables 'x' y 'y' de los cuatro conjuntos de datos\n",
    "### BEGIN SOLUTION\n",
    "𝑆𝑥𝑦_1 = covarianza(datos.x1, datos.y1)\n",
    "𝑆𝑥𝑦_2 = covarianza(datos.x2, datos.y2)\n",
    "𝑆𝑥𝑦_3 = covarianza(datos.x3, datos.y3)\n",
    "𝑆𝑥𝑦_4 = covarianza(datos.x4, datos.y4)\n",
    "\n",
    "print(f\" 𝑆𝑥𝑦_1 = {𝑆𝑥𝑦_1:>5.2f}\")\n",
    "print(f\" 𝑆𝑥𝑦_2 = {𝑆𝑥𝑦_2:>5.2f}\")\n",
    "print(f\" 𝑆𝑥𝑦_3 = {𝑆𝑥𝑦_3:>5.2f}\")\n",
    "print(f\" 𝑆𝑥𝑦_4 = {𝑆𝑥𝑦_4:>5.2f}\")\n",
    "\n",
    "def msg_2(n):\n",
    "    msg = f\"\"\"\n",
    "    * Asegurate de haber ejecutado la celda donde se \n",
    "    define la función 'covarianza(Y)'.\n",
    "    * Revisa que hayas pasado 'datos.x{n}' y 'datos.y{n}' \n",
    "    a la función 'covarianza(X,Y)'.\n",
    "    \"\"\"\n",
    "    return msg\n",
    "\n",
    "file_answer.write('17', 𝑆𝑥𝑦_1, msg_2(\"1\"))\n",
    "file_answer.write('18', 𝑆𝑥𝑦_2, msg_2(\"2\"))\n",
    "file_answer.write('19', 𝑆𝑥𝑦_3, msg_2(\"3\"))\n",
    "file_answer.write('20', 𝑆𝑥𝑦_4, msg_2(\"4\"))\n",
    "file_answer.to_file(\"reg_lin_1\")\n",
    "### END SOLUTION"
   ]
  },
  {
   "cell_type": "code",
   "execution_count": 14,
   "id": "e8331fac-fd2e-4090-b18f-2a2ca15e8d4b",
   "metadata": {
    "nbgrader": {
     "grade": true,
     "grade_id": "cell-e93a9d03711255bf",
     "locked": true,
     "points": 4,
     "schema_version": 3,
     "solution": false,
     "task": false
    }
   },
   "outputs": [
    {
     "name": "stdout",
     "output_type": "stream",
     "text": [
      "\u001b[39m――――――――――――――――――――――――――――――――――――――――\n",
      "\u001b[32m17 | Tu resultado es correcto.\n",
      "\u001b[39m――――――――――――――――――――――――――――――――――――――――\n",
      "\u001b[39m――――――――――――――――――――――――――――――――――――――――\n",
      "\u001b[32m18 | Tu resultado es correcto.\n",
      "\u001b[39m――――――――――――――――――――――――――――――――――――――――\n",
      "\u001b[39m――――――――――――――――――――――――――――――――――――――――\n",
      "\u001b[32m19 | Tu resultado es correcto.\n",
      "\u001b[39m――――――――――――――――――――――――――――――――――――――――\n",
      "\u001b[39m――――――――――――――――――――――――――――――――――――――――\n",
      "\u001b[32m20 | Tu resultado es correcto.\n",
      "\u001b[39m――――――――――――――――――――――――――――――――――――――――\n"
     ]
    }
   ],
   "source": [
    "# Evaluación del cálculo de la covarianza para todos los Datasets\n",
    "quiz.eval_numeric('17', 𝑆𝑥𝑦_1)\n",
    "quiz.eval_numeric('18', 𝑆𝑥𝑦_2)\n",
    "quiz.eval_numeric('19', 𝑆𝑥𝑦_3)\n",
    "quiz.eval_numeric('20', 𝑆𝑥𝑦_4)"
   ]
  },
  {
   "cell_type": "markdown",
   "id": "44ed46eb-68b2-4883-9b8f-69295fb6986d",
   "metadata": {
    "nbgrader": {
     "grade": false,
     "grade_id": "cell-4df81afd054ef15d",
     "locked": true,
     "schema_version": 3,
     "solution": false,
     "task": false
    }
   },
   "source": [
    "## Correlación.\n",
    "\n",
    "La correlación se define como sigue:\n",
    "\n",
    "$$\\rho_{xy} = \\dfrac{S_{xy}}{s_{x} s_{y}} $$\n",
    "\n",
    "donde $s_{x}$ y $s_{y}$ representan la desviación estándar de $x$ y $y$ respectivamente que se calculan como la raíz cuadrada de la varianza:\n",
    "\n",
    "$$s_{x} = \\sqrt{s_x^2} \\;\\;\\; \\text{y} \\;\\;\\; s_{y} = \\sqrt{s_y^2}$$"
   ]
  },
  {
   "cell_type": "markdown",
   "id": "f32295c8-60ff-4468-b666-9592dfa43294",
   "metadata": {
    "nbgrader": {
     "grade": false,
     "grade_id": "cell-48ef56a3c27a90be",
     "locked": true,
     "schema_version": 3,
     "solution": false,
     "task": false
    }
   },
   "source": [
    "<div class=\"alert alert-success\">\n",
    "\n",
    "### Ejercicio 4. \n",
    "\n",
    "Calcula la correlación entre $x$ y $y$ de cada conjunto de datos. Por ejemplo:\n",
    "\n",
    "```python\n",
    "𝜌𝑥𝑦_1 = 𝑆𝑥𝑦_1 / (np.sqrt(𝑠𝟸𝑥_1) * np.sqrt(𝑠𝟸𝑦_1) )\n",
    "\n",
    "print(f\" 𝜌𝑥𝑦_1 = {𝜌𝑥𝑦_1:>5.3f}\")\n",
    "```\n",
    "<br>\n",
    "Completa el código para cada conjutno de datos y verifica que en todos los casos la correlación es  $\\approx 0.816$.\n",
    "</div>"
   ]
  },
  {
   "cell_type": "code",
   "execution_count": 15,
   "id": "a2126c78-d33c-45ac-b4cb-c7b526850de0",
   "metadata": {
    "nbgrader": {
     "grade": false,
     "grade_id": "cell-66396ac4759f19e4",
     "locked": false,
     "schema_version": 3,
     "solution": true,
     "task": false
    }
   },
   "outputs": [
    {
     "name": "stdout",
     "output_type": "stream",
     "text": [
      " 𝜌𝑥𝑦_1 = 0.816\n",
      " 𝜌𝑥𝑦_2 = 0.816\n",
      " 𝜌𝑥𝑦_3 = 0.816\n",
      " 𝜌𝑥𝑦_4 = 0.817\n",
      "El directorio :/home/jovyan/PAPIME2025/.ans/linear-regression/ ya existe\n",
      "Respuestas y retroalimentación almacenadas.\n"
     ]
    }
   ],
   "source": [
    "# Calcula la correlacion entre las variables 'x' y 'y' de los cuatro conjuntos de datos\n",
    "### BEGIN SOLUTION\n",
    "𝜌𝑥𝑦_1 = 𝑆𝑥𝑦_1 / (np.sqrt(𝑠𝟸𝑥_1) * np.sqrt(𝑠𝟸𝑦_1) )\n",
    "𝜌𝑥𝑦_2 = 𝑆𝑥𝑦_2 / (np.sqrt(𝑠𝟸𝑥_2) * np.sqrt(𝑠𝟸𝑦_2) )\n",
    "𝜌𝑥𝑦_3 = 𝑆𝑥𝑦_3 / (np.sqrt(𝑠𝟸𝑥_3) * np.sqrt(𝑠𝟸𝑦_3) )\n",
    "𝜌𝑥𝑦_4 = 𝑆𝑥𝑦_4 / (np.sqrt(𝑠𝟸𝑥_4) * np.sqrt(𝑠𝟸𝑦_4) )\n",
    "\n",
    "print(f\" 𝜌𝑥𝑦_1 = {𝜌𝑥𝑦_1:>5.3f}\")\n",
    "print(f\" 𝜌𝑥𝑦_2 = {𝜌𝑥𝑦_2:>5.3f}\")\n",
    "print(f\" 𝜌𝑥𝑦_3 = {𝜌𝑥𝑦_3:>5.3f}\")\n",
    "print(f\" 𝜌𝑥𝑦_4 = {𝜌𝑥𝑦_4:>5.3f}\")\n",
    "\n",
    "def msg_3(n):\n",
    "    msg = f\"\"\"\n",
    "    * Asegurate de haber usado 𝑆𝑥𝑦_{n}, 𝑠𝟸𝑥_{n} y 𝑠𝟸𝑦_{n}\n",
    "    en el cálculo de 𝜌𝑥𝑦_{n}.\n",
    "    * No olvides sacar la raíz cuadrada de las varianzas\n",
    "    usando np.sqrt().\n",
    "    \"\"\"\n",
    "    return msg\n",
    "\n",
    "file_answer.write('21', 𝜌𝑥𝑦_1, msg_3(\"1\"))\n",
    "file_answer.write('22', 𝜌𝑥𝑦_2, msg_3(\"2\"))\n",
    "file_answer.write('23', 𝜌𝑥𝑦_3, msg_3(\"3\"))\n",
    "file_answer.write('24', 𝜌𝑥𝑦_4, msg_3(\"4\"))\n",
    "file_answer.to_file(\"reg_lin_1\")\n",
    "### END SOLUTION"
   ]
  },
  {
   "cell_type": "code",
   "execution_count": 16,
   "id": "f426b1c2-80d6-45d1-989b-f81aac9e0c1b",
   "metadata": {
    "nbgrader": {
     "grade": true,
     "grade_id": "cell-a8696f9ff46fd280",
     "locked": true,
     "points": 4,
     "schema_version": 3,
     "solution": false,
     "task": false
    }
   },
   "outputs": [
    {
     "name": "stdout",
     "output_type": "stream",
     "text": [
      "\u001b[39m――――――――――――――――――――――――――――――――――――――――\n",
      "\u001b[32m21 | Tu resultado es correcto.\n",
      "\u001b[39m――――――――――――――――――――――――――――――――――――――――\n",
      "\u001b[39m――――――――――――――――――――――――――――――――――――――――\n",
      "\u001b[32m22 | Tu resultado es correcto.\n",
      "\u001b[39m――――――――――――――――――――――――――――――――――――――――\n",
      "\u001b[39m――――――――――――――――――――――――――――――――――――――――\n",
      "\u001b[32m23 | Tu resultado es correcto.\n",
      "\u001b[39m――――――――――――――――――――――――――――――――――――――――\n",
      "\u001b[39m――――――――――――――――――――――――――――――――――――――――\n",
      "\u001b[32m24 | Tu resultado es correcto.\n",
      "\u001b[39m――――――――――――――――――――――――――――――――――――――――\n"
     ]
    }
   ],
   "source": [
    "# Evaluación del cálculo de la correlación para todos los Datasets\n",
    "quiz.eval_numeric('21', 𝜌𝑥𝑦_1)\n",
    "quiz.eval_numeric('22', 𝜌𝑥𝑦_2)\n",
    "quiz.eval_numeric('23', 𝜌𝑥𝑦_3)\n",
    "quiz.eval_numeric('24', 𝜌𝑥𝑦_4)"
   ]
  },
  {
   "cell_type": "markdown",
   "id": "0479daec-9035-4462-9f4f-12e955f693d4",
   "metadata": {
    "nbgrader": {
     "grade": false,
     "grade_id": "cell-0cb75d20e10f4ecb",
     "locked": true,
     "schema_version": 3,
     "solution": false,
     "task": false
    }
   },
   "source": [
    "## Regresión lineal simple.\n",
    "\n",
    "En una regresión lineal simple describe la relación de una variable independiente $x$ con la variable dependiente (respuesta) $y$ mediante el modelo lineal siguiente:\n",
    "\n",
    "$$\n",
    "y = \\beta_0 + \\beta_1 x\n",
    "$$\n",
    "\n",
    "donde $\\beta_{0}$ y $\\beta_{1}$ son constantes desconocidas llamadas coeficientes de regresión. $\\beta_{1}$ es la pendiente de la recta y $\\beta_0$ es la ordenada en el origen. \n",
    "\n",
    "Los parámetros $\\beta_{0}$ y $\\beta_{1}$ se deben estimar mediante los datos de la muestra. Supongamos que tenemos $n$ datos $\\{x_i, y_i\\}$ con $i = 1, \\dots, n$, entonces es posible estimar los parámetros utilizando el **método de mínimos cuadrados**, veáse sección . Estos parámetros se calculan como sigue:\n",
    "\n",
    "\n",
    "$$\n",
    "\\displaystyle \\beta_1 = \\frac{\\sum_{i=1}^n (x_i-\\bar{x})(y_i-\\bar{y})}{\\sum_{i=1}^n (x_i-\\bar{x})^2}\n",
    "\\quad\\text{y}\\quad\n",
    "\\displaystyle \\beta_0 = \\bar{y} - \\beta_1\\bar{x}.\n",
    "$$\n",
    "\n",
    "Observa que $\\beta_1$ se puede calcular en términos de las covarianzas $S_{xy}$ y $S_{xx}$ como sigue:\n",
    "\n",
    "$$\n",
    "\\beta_1=\\dfrac{S_{xy}}{S_{xx}}\n",
    "$$"
   ]
  },
  {
   "cell_type": "markdown",
   "id": "6caee2af-1bac-4566-9db9-cfc0de592525",
   "metadata": {
    "nbgrader": {
     "grade": false,
     "grade_id": "cell-90c4d5746ad57491",
     "locked": true,
     "schema_version": 3,
     "solution": false,
     "task": false
    }
   },
   "source": [
    "<div class=\"alert alert-success\">\n",
    "\n",
    "### Ejercicio 5.\n",
    "\n",
    "Calcula los coeficientes $\\beta_0$ y $\\beta_1$ del modelo de regresión lineal simple para los cuatro conjuntos de datos. Por ejemplo\n",
    "\n",
    "```python\n",
    "𝑆𝑥𝑥_1 = covarianza(datos.x1, datos.x1)\n",
    "𝛽𝟷_1 = 𝑆𝑥𝑦_1 / 𝑆𝑥𝑥_1\n",
    "𝛽𝟶_1 = 𝑦𝑚_1 - 𝛽𝟷_1 * 𝑥𝑚_1\n",
    "\n",
    "print(f\" 𝛽𝟶_1 = {𝛽𝟶_1:5.2f}\")\n",
    "print(f\" 𝛽𝟷_1 = {𝛽𝟷_1:5.2f}\\n\")\n",
    "```\n",
    "<br>\n",
    "Completa el código para cada conjunto de datos y verifica que $\\beta_0 = 3.0$ y $\\beta_1 = 0.5$ en todos los casos.\n",
    "\n",
    "</div>"
   ]
  },
  {
   "cell_type": "code",
   "execution_count": 17,
   "id": "2e644547-237b-4ca4-9610-48258b53df4c",
   "metadata": {
    "nbgrader": {
     "grade": false,
     "grade_id": "cell-da58dcd15e445177",
     "locked": false,
     "schema_version": 3,
     "solution": true,
     "task": false
    }
   },
   "outputs": [
    {
     "name": "stdout",
     "output_type": "stream",
     "text": [
      " 𝛽𝟶_1 =  3.00\n",
      " 𝛽𝟷_1 =  0.50\n",
      "\n",
      "El directorio :/home/jovyan/PAPIME2025/.ans/linear-regression/ ya existe\n",
      "Respuestas y retroalimentación almacenadas.\n"
     ]
    }
   ],
   "source": [
    "# Calcula los coeficientes 𝛽𝟶 y 𝛽𝟷 de la regresión lineal \n",
    "\n",
    "# Dataset 1\n",
    "### BEGIN SOLUTION\n",
    "𝑆𝑥𝑥_1 = covarianza(datos.x1, datos.x1)\n",
    "𝛽𝟷_1 = 𝑆𝑥𝑦_1 / 𝑆𝑥𝑥_1\n",
    "𝛽𝟶_1 = 𝑦𝑚_1 - 𝛽𝟷_1 * 𝑥𝑚_1\n",
    "\n",
    "print(f\" 𝛽𝟶_1 = {𝛽𝟶_1:5.2f}\")\n",
    "print(f\" 𝛽𝟷_1 = {𝛽𝟷_1:5.2f}\\n\")\n",
    "\n",
    "def msg_4(n,i):\n",
    "    if i == 1:\n",
    "        msg = f\"\"\"\n",
    "        * Asegurate de haber calculado correctamente la\n",
    "        covarianza 𝑆𝑥𝑥_{n}.\n",
    "        * Asegurate de haber usado 𝑆𝑥𝑦_{n} y 𝑆𝑥𝑥_{n} \n",
    "        en el cálculo de 𝛽𝟷_{n}.\n",
    "        \"\"\"\n",
    "    elif i == 0:\n",
    "        msg = f\"\"\"\n",
    "        * Asegurate de haber usado 𝑦𝑚_{n}, 𝛽𝟷_{n} y 𝑥𝑚_{n}\n",
    "        en el cálculo de 𝛽𝟶_{n}.\n",
    "        \"\"\"\n",
    "    return msg\n",
    "\n",
    "file_answer.write('25', 𝛽1_1, msg_4(\"1\",1))\n",
    "file_answer.write('26', 𝛽0_1, msg_4(\"1\",0))\n",
    "file_answer.to_file(\"reg_lin_1\")\n",
    "### END SOLUTION"
   ]
  },
  {
   "cell_type": "code",
   "execution_count": 18,
   "id": "01e2043a-4699-4228-93e4-64a920aeb616",
   "metadata": {
    "nbgrader": {
     "grade": true,
     "grade_id": "cell-ff5aee0c3ddfc130",
     "locked": true,
     "points": 2,
     "schema_version": 3,
     "solution": false,
     "task": false
    }
   },
   "outputs": [
    {
     "name": "stdout",
     "output_type": "stream",
     "text": [
      "\u001b[39m――――――――――――――――――――――――――――――――――――――――\n",
      "\u001b[32m25 | Tu resultado es correcto.\n",
      "\u001b[39m――――――――――――――――――――――――――――――――――――――――\n",
      "\u001b[39m――――――――――――――――――――――――――――――――――――――――\n",
      "\u001b[32m26 | Tu resultado es correcto.\n",
      "\u001b[39m――――――――――――――――――――――――――――――――――――――――\n"
     ]
    }
   ],
   "source": [
    "# Evaluación del los coeficientes 𝛽𝟶 y 𝛽𝟷 para el Dataset 1\n",
    "quiz.eval_numeric('25', 𝛽1_1)\n",
    "quiz.eval_numeric('26', 𝛽0_1)"
   ]
  },
  {
   "cell_type": "code",
   "execution_count": 19,
   "id": "dfdf1c5d-bf07-4548-a7a4-f86b65756d9f",
   "metadata": {
    "nbgrader": {
     "grade": false,
     "grade_id": "cell-633dbb91a433eed9",
     "locked": false,
     "schema_version": 3,
     "solution": true,
     "task": false
    }
   },
   "outputs": [
    {
     "name": "stdout",
     "output_type": "stream",
     "text": [
      " 𝛽𝟶_2 =  3.00\n",
      " 𝛽𝟷_2 =  0.50\n",
      "\n",
      "El directorio :/home/jovyan/PAPIME2025/.ans/linear-regression/ ya existe\n",
      "Respuestas y retroalimentación almacenadas.\n"
     ]
    }
   ],
   "source": [
    "# Dataset 2\n",
    "### BEGIN SOLUTION\n",
    "𝑆𝑥𝑥_2 = covarianza(datos.x2, datos.x2)\n",
    "𝛽𝟷_2 = 𝑆𝑥𝑦_2 / 𝑆𝑥𝑥_2\n",
    "𝛽𝟶_2 = 𝑦𝑚_2 - 𝛽𝟷_2 * 𝑥𝑚_2\n",
    "\n",
    "print(f\" 𝛽𝟶_2 = {𝛽𝟶_2:5.2f}\")\n",
    "print(f\" 𝛽𝟷_2 = {𝛽𝟷_2:5.2f}\\n\")\n",
    "\n",
    "file_answer.write('27', 𝛽1_2, msg_4(\"2\",1))\n",
    "file_answer.write('28', 𝛽0_2, msg_4(\"2\",0))\n",
    "file_answer.to_file(\"reg_lin_1\")\n",
    "### END SOLUTION"
   ]
  },
  {
   "cell_type": "code",
   "execution_count": 20,
   "id": "38385c82-25f2-4167-a6dc-73d680f308db",
   "metadata": {
    "nbgrader": {
     "grade": true,
     "grade_id": "cell-fb3ce688bd1d0f64",
     "locked": true,
     "points": 2,
     "schema_version": 3,
     "solution": false,
     "task": false
    }
   },
   "outputs": [
    {
     "name": "stdout",
     "output_type": "stream",
     "text": [
      "\u001b[39m――――――――――――――――――――――――――――――――――――――――\n",
      "\u001b[32m27 | Tu resultado es correcto.\n",
      "\u001b[39m――――――――――――――――――――――――――――――――――――――――\n",
      "\u001b[39m――――――――――――――――――――――――――――――――――――――――\n",
      "\u001b[32m28 | Tu resultado es correcto.\n",
      "\u001b[39m――――――――――――――――――――――――――――――――――――――――\n"
     ]
    }
   ],
   "source": [
    "# Evaluación del los coeficientes 𝛽𝟶 y 𝛽𝟷 para el Dataset 2\n",
    "quiz.eval_numeric('27', 𝛽1_2)\n",
    "quiz.eval_numeric('28', 𝛽0_2)"
   ]
  },
  {
   "cell_type": "code",
   "execution_count": 21,
   "id": "815807b8-1ab0-43d7-96e6-975d72c4792b",
   "metadata": {
    "nbgrader": {
     "grade": false,
     "grade_id": "cell-2d591ebd7a37ba6f",
     "locked": false,
     "schema_version": 3,
     "solution": true,
     "task": false
    }
   },
   "outputs": [
    {
     "name": "stdout",
     "output_type": "stream",
     "text": [
      " 𝛽𝟶_3 =  3.00\n",
      " 𝛽𝟷_3 =  0.50\n",
      "\n",
      "El directorio :/home/jovyan/PAPIME2025/.ans/linear-regression/ ya existe\n",
      "Respuestas y retroalimentación almacenadas.\n"
     ]
    }
   ],
   "source": [
    "# Dataset 3\n",
    "### BEGIN SOLUTION\n",
    "𝑆𝑥𝑥_3 = covarianza(datos.x3, datos.x3)\n",
    "𝛽𝟷_3 = 𝑆𝑥𝑦_3 / 𝑆𝑥𝑥_3\n",
    "𝛽𝟶_3 = 𝑦𝑚_3 - 𝛽𝟷_3 * 𝑥𝑚_3\n",
    "\n",
    "print(f\" 𝛽𝟶_3 = {𝛽𝟶_3:5.2f}\")\n",
    "print(f\" 𝛽𝟷_3 = {𝛽𝟷_3:5.2f}\\n\")\n",
    "\n",
    "file_answer.write('29', 𝛽1_3, msg_4(\"3\",1))\n",
    "file_answer.write('30', 𝛽0_3, msg_4(\"3\",0))\n",
    "file_answer.to_file(\"reg_lin_1\")\n",
    "### END SOLUTION"
   ]
  },
  {
   "cell_type": "code",
   "execution_count": 22,
   "id": "173b77d3-ac0e-418f-9b3a-b4ba928940ff",
   "metadata": {
    "nbgrader": {
     "grade": true,
     "grade_id": "cell-6c8a8218cedcbab9",
     "locked": true,
     "points": 2,
     "schema_version": 3,
     "solution": false,
     "task": false
    }
   },
   "outputs": [
    {
     "name": "stdout",
     "output_type": "stream",
     "text": [
      "\u001b[39m――――――――――――――――――――――――――――――――――――――――\n",
      "\u001b[32m29 | Tu resultado es correcto.\n",
      "\u001b[39m――――――――――――――――――――――――――――――――――――――――\n",
      "\u001b[39m――――――――――――――――――――――――――――――――――――――――\n",
      "\u001b[32m30 | Tu resultado es correcto.\n",
      "\u001b[39m――――――――――――――――――――――――――――――――――――――――\n"
     ]
    }
   ],
   "source": [
    "# Evaluación del los coeficientes 𝛽𝟶 y 𝛽𝟷 para el Dataset 3\n",
    "quiz.eval_numeric('29', 𝛽1_3)\n",
    "quiz.eval_numeric('30', 𝛽0_3)"
   ]
  },
  {
   "cell_type": "code",
   "execution_count": 23,
   "id": "24906fca-889f-4fa1-9eed-9307f96dbd52",
   "metadata": {
    "nbgrader": {
     "grade": false,
     "grade_id": "cell-e3d5990275a6d8e3",
     "locked": false,
     "schema_version": 3,
     "solution": true,
     "task": false
    }
   },
   "outputs": [
    {
     "name": "stdout",
     "output_type": "stream",
     "text": [
      " 𝛽𝟶_4 =  3.00\n",
      " 𝛽𝟷_4 =  0.50\n",
      "\n",
      "El directorio :/home/jovyan/PAPIME2025/.ans/linear-regression/ ya existe\n",
      "Respuestas y retroalimentación almacenadas.\n"
     ]
    }
   ],
   "source": [
    "# Dataset 4\n",
    "### BEGIN SOLUTION\n",
    "𝑆𝑥𝑥_4 = covarianza(datos.x4, datos.x4)\n",
    "𝛽𝟷_4 = 𝑆𝑥𝑦_4 / 𝑆𝑥𝑥_4\n",
    "𝛽𝟶_4 = 𝑦𝑚_4 - 𝛽𝟷_4 * 𝑥𝑚_4\n",
    "\n",
    "print(f\" 𝛽𝟶_4 = {𝛽𝟶_4:5.2f}\")\n",
    "print(f\" 𝛽𝟷_4 = {𝛽𝟷_4:5.2f}\\n\")\n",
    "\n",
    "file_answer.write('31', 𝛽1_4, msg_4(\"4\",1))\n",
    "file_answer.write('32', 𝛽0_4, msg_4(\"4\",0))\n",
    "file_answer.to_file(\"reg_lin_1\")\n",
    "### END SOLUTION"
   ]
  },
  {
   "cell_type": "code",
   "execution_count": 24,
   "id": "41c163fd-6fc9-46b5-8c33-08ffda315826",
   "metadata": {
    "nbgrader": {
     "grade": true,
     "grade_id": "cell-1c1fe78778ac08f8",
     "locked": true,
     "points": 2,
     "schema_version": 3,
     "solution": false,
     "task": false
    }
   },
   "outputs": [
    {
     "name": "stdout",
     "output_type": "stream",
     "text": [
      "\u001b[39m――――――――――――――――――――――――――――――――――――――――\n",
      "\u001b[32m31 | Tu resultado es correcto.\n",
      "\u001b[39m――――――――――――――――――――――――――――――――――――――――\n",
      "\u001b[39m――――――――――――――――――――――――――――――――――――――――\n",
      "\u001b[32m32 | Tu resultado es correcto.\n",
      "\u001b[39m――――――――――――――――――――――――――――――――――――――――\n"
     ]
    }
   ],
   "source": [
    "# Evaluación del los coeficientes 𝛽𝟶 y 𝛽𝟷 para el Dataset 4\n",
    "quiz.eval_numeric('31', 𝛽1_4)\n",
    "quiz.eval_numeric('32', 𝛽0_4)"
   ]
  },
  {
   "cell_type": "markdown",
   "id": "03af2a9a-c2da-489c-8af8-012550d3cd06",
   "metadata": {
    "nbgrader": {
     "grade": false,
     "grade_id": "cell-22177b944f842717",
     "locked": true,
     "schema_version": 3,
     "solution": false,
     "task": false
    }
   },
   "source": [
    "## Coeficiente de determinación.\n",
    "\n",
    "El coeficiente de determinación $R^2$ mide qué tan bien un modelo se ajusta a los datos. \n",
    "* Valor cercano a $1$ de $R^2$ indica un ajuste excelente.\n",
    "* Valor cercano a $0$ significa un mal ajuste.\n",
    "\n",
    "En el caso particular de una regresión lineal simple $R^2$ se calcula como:\n",
    "\n",
    "$$\n",
    "R^2 = \\dfrac{S_{xy}^2}{s_x^2 s_y^2}\n",
    "$$\n",
    "\n",
    "Observa que en este caso $R^2$ es igual al cuadrado del valor de la correlación $\\rho_{xy}$."
   ]
  },
  {
   "cell_type": "markdown",
   "id": "b0561b41-2eb9-41c7-a38f-6d5268fbb6e5",
   "metadata": {
    "nbgrader": {
     "grade": false,
     "grade_id": "cell-1c590f35ed371c1a",
     "locked": true,
     "schema_version": 3,
     "solution": false,
     "task": false
    }
   },
   "source": [
    "<div class=\"alert alert-success\">\n",
    "\n",
    "### Ejercicio 6.\n",
    "\n",
    "Calcula el coeficiente de determinación para cada conjunto de datos. Por ejemplo:\n",
    "\n",
    "```python\n",
    "𝑅𝟸_1 = 𝜌𝑥𝑦_1**2\n",
    "\n",
    "print(f\" 𝑅𝟸_1 = {𝑅𝟸_1:5.2f}\")\n",
    "```\n",
    "\n",
    "<br>\n",
    "Completa el código para cada conjunto de datos y verifica que $R^2 = 0.67$ en todos los casos.\n",
    "</div>"
   ]
  },
  {
   "cell_type": "code",
   "execution_count": 25,
   "id": "6eb292d5-8143-464a-84ee-ec076962ffd7",
   "metadata": {
    "nbgrader": {
     "grade": false,
     "grade_id": "cell-064e95f28ad16725",
     "locked": false,
     "schema_version": 3,
     "solution": true,
     "task": false
    }
   },
   "outputs": [
    {
     "name": "stdout",
     "output_type": "stream",
     "text": [
      " 𝑅𝟸_1 =  0.67\n",
      " 𝑅𝟸_2 =  0.67\n",
      " 𝑅𝟸_3 =  0.67\n",
      " 𝑅𝟸_4 =  0.67\n",
      "El directorio :/home/jovyan/PAPIME2025/.ans/linear-regression/ ya existe\n",
      "Respuestas y retroalimentación almacenadas.\n"
     ]
    }
   ],
   "source": [
    "# Calcula el coeficiente de determinación R2 para los cuatro conjuntos de datos.\n",
    "### BEGIN SOLUTION\n",
    "𝑅𝟸_1 = 𝜌𝑥𝑦_1**2\n",
    "𝑅𝟸_2 = 𝜌𝑥𝑦_2**2\n",
    "𝑅𝟸_3 = 𝜌𝑥𝑦_3**2\n",
    "𝑅𝟸_4 = 𝜌𝑥𝑦_4**2\n",
    "\n",
    "print(f\" 𝑅𝟸_1 = {𝑅𝟸_1:5.2f}\")\n",
    "print(f\" 𝑅𝟸_2 = {𝑅𝟸_2:5.2f}\")\n",
    "print(f\" 𝑅𝟸_3 = {𝑅𝟸_3:5.2f}\")\n",
    "print(f\" 𝑅𝟸_4 = {𝑅𝟸_4:5.2f}\")\n",
    "\n",
    "def msg_5(n):\n",
    "    msg = f\"\"\"\n",
    "    * Asegurate de haber usado 𝜌𝑥𝑦_{n} en el cálculo de 𝑅𝟸_{n}.\n",
    "    \"\"\"\n",
    "    return msg\n",
    "\n",
    "file_answer.write('33', 𝑅𝟸_1, msg_5(\"1\"))\n",
    "file_answer.write('34', 𝑅𝟸_2, msg_5(\"2\"))\n",
    "file_answer.write('35', 𝑅𝟸_3, msg_5(\"3\"))\n",
    "file_answer.write('36', 𝑅𝟸_4, msg_5(\"4\"))\n",
    "file_answer.to_file(\"reg_lin_1\")\n",
    "### END SOLUTION"
   ]
  },
  {
   "cell_type": "code",
   "execution_count": 26,
   "id": "44605182-f1da-415e-a20b-0954959d2059",
   "metadata": {
    "nbgrader": {
     "grade": true,
     "grade_id": "cell-ac84ec07321c2b82",
     "locked": true,
     "points": 4,
     "schema_version": 3,
     "solution": false,
     "task": false
    }
   },
   "outputs": [
    {
     "name": "stdout",
     "output_type": "stream",
     "text": [
      "\u001b[39m――――――――――――――――――――――――――――――――――――――――\n",
      "\u001b[32m33 | Tu resultado es correcto.\n",
      "\u001b[39m――――――――――――――――――――――――――――――――――――――――\n",
      "\u001b[39m――――――――――――――――――――――――――――――――――――――――\n",
      "\u001b[32m34 | Tu resultado es correcto.\n",
      "\u001b[39m――――――――――――――――――――――――――――――――――――――――\n",
      "\u001b[39m――――――――――――――――――――――――――――――――――――――――\n",
      "\u001b[32m35 | Tu resultado es correcto.\n",
      "\u001b[39m――――――――――――――――――――――――――――――――――――――――\n",
      "\u001b[39m――――――――――――――――――――――――――――――――――――――――\n",
      "\u001b[32m36 | Tu resultado es correcto.\n",
      "\u001b[39m――――――――――――――――――――――――――――――――――――――――\n"
     ]
    }
   ],
   "source": [
    "# Evaluación del cálculo de R2 para todos los Datasets\n",
    "quiz.eval_numeric('33', 𝑅𝟸_1)\n",
    "quiz.eval_numeric('34', 𝑅𝟸_2)\n",
    "quiz.eval_numeric('35', 𝑅𝟸_3)\n",
    "quiz.eval_numeric('36', 𝑅𝟸_4)"
   ]
  },
  {
   "cell_type": "markdown",
   "id": "3a6dfa39-fd12-4ba2-998f-2deb4da279dc",
   "metadata": {
    "nbgrader": {
     "grade": false,
     "grade_id": "cell-1d128e2cccbbc362",
     "locked": true,
     "schema_version": 3,
     "solution": false,
     "task": false
    }
   },
   "source": [
    "**¿Qué se puede decir de estos resultados?**"
   ]
  },
  {
   "cell_type": "markdown",
   "id": "b1a11b55",
   "metadata": {
    "nbgrader": {
     "grade": false,
     "grade_id": "cell-8da9ef8fd0026999",
     "locked": true,
     "schema_version": 3,
     "solution": false,
     "task": false
    },
    "slideshow": {
     "slide_type": "slide"
    }
   },
   "source": [
    "## Visualización.\n",
    "\n",
    "El proceso de transformar datos crudos en imágenes ayuda a mejorar las interpretaciones de grandes conjuntos de datos y eso permite obtener una perspectiva que podría pasarse por alto si se usarán solamente métodos estadísticos. Veamos como se ven los cuatro conjuntos de datos con el modelo de regresión lineal realizado."
   ]
  },
  {
   "cell_type": "markdown",
   "id": "207be63f-a129-4ef7-b0fc-2d60f50de2e7",
   "metadata": {
    "nbgrader": {
     "grade": false,
     "grade_id": "cell-1f17b3af90c482f0",
     "locked": true,
     "schema_version": 3,
     "solution": false,
     "task": false
    }
   },
   "source": [
    "<div class=\"alert alert-success\">\n",
    "\n",
    "### Ejercicio 7.\n",
    "\n",
    "Para visualizar los cuatro conjuntos de datos junto con el ajuste del modelo de regresión lineal, ejecuta la siguiente celda y observa el resultado.\n",
    "\n",
    "</div>"
   ]
  },
  {
   "cell_type": "code",
   "execution_count": 27,
   "id": "5649f448-8bcb-456b-a3fd-2c9e3c30c988",
   "metadata": {
    "nbgrader": {
     "grade": false,
     "grade_id": "cell-c039550f62988134",
     "locked": true,
     "schema_version": 3,
     "solution": false,
     "task": false
    }
   },
   "outputs": [
    {
     "data": {
      "image/png": "[encoded data removed]",
      "text/plain": [
       "<Figure size 480x480 with 4 Axes>"
      ]
     },
     "metadata": {},
     "output_type": "display_data"
    }
   ],
   "source": [
    "x = np.linspace(0,20,50)\n",
    "\n",
    "y1 = 𝛽𝟶_1 + 𝛽𝟷_1 * x\n",
    "y2 = 𝛽𝟶_2 + 𝛽𝟷_2 * x\n",
    "y3 = 𝛽𝟶_3 + 𝛽𝟷_3 * x\n",
    "y4 = 𝛽𝟶_4 + 𝛽𝟷_4 * x\n",
    "\n",
    "y = [y1, y2, y3, y4]\n",
    "columnas = list(datos.columns)\n",
    "\n",
    "fig, axes = plt.subplots(nrows=2, ncols=2, figsize=(6,6), sharey='row', sharex='col')\n",
    "ax = axes.flatten()\n",
    "\n",
    "for i, (xd, yd) in enumerate(zip(columnas[::2], columnas[1::2])):\n",
    "    ax[i].plot(x, y[i], c = \"mediumblue\", lw=2, label = \"Regresión lineal\")\n",
    "    ax[i].scatter(datos[xd], datos[yd], marker = 'o', s=40, \n",
    "                  fc='orange', ec='red', alpha = 0.75,  zorder=5, label=\"Datos\")\n",
    "    ax[i].set_xlim(0,20)\n",
    "    ax[i].set_ylim(0,15)\n",
    "    ax[i].set_aspect(\"equal\")\n",
    "    if i > 1:\n",
    "        ax[i].set_xlabel(\"x\")\n",
    "    if not i % 2:\n",
    "        ax[i].set_ylabel(\"y\")\n",
    "    ax[i].set_title(f\"Dataset {i+1}\", fontsize=10)\n",
    "    ax[i].grid()\n",
    "    ax[i].legend(loc=\"lower right\", fontsize=8)\n",
    "\n",
    "plt.tight_layout()\n",
    "plt.show()"
   ]
  },
  {
   "cell_type": "markdown",
   "id": "9b07cd50-788f-4e95-a6cb-63ef3f8bcbb8",
   "metadata": {
    "nbgrader": {
     "grade": false,
     "grade_id": "cell-a7fae9febd62b5b1",
     "locked": true,
     "schema_version": 3,
     "solution": false,
     "task": false
    }
   },
   "source": [
    "**Observaciones**.\n",
    "\n",
    "- Gráfica del Dataset 1: relación lineal simple entre dos variables correlacionadas.\n",
    "- Gráfica del Dataset 2: se observa una relación entre $x$ y $y$ pero no parece ser lineal.\n",
    "- Gráfica del Dataset 3: relación lineal pero la regresión obtenida se ve afectada por un valor atípico (*outlier*) que influye en el resultado final y altera el coeficiente de correlación de 1 a 0.816.\n",
    "- Gráfica del Dataset 4: se muestra como un valor atípico es suficiente para producir un coeficiente de correlación alto, aún cuando la relación entre las variables no es lineal."
   ]
  },
  {
   "cell_type": "markdown",
   "id": "e7547b09-d252-4d33-8900-553369d9a222",
   "metadata": {
    "nbgrader": {
     "grade": false,
     "grade_id": "cell-1919f3b7e834cf8a",
     "locked": true,
     "schema_version": 3,
     "solution": false,
     "task": false
    }
   },
   "source": [
    "## Deducción de los coeficientes $\\beta_0$ y $\\beta_1$.\n",
    "\n",
    "El modelo de regresión lineal se escribe como \n",
    "$$\n",
    "y_i = \\beta_0 + \\beta_1 x_i + \\varepsilon_i \\;\\; \\text{para} \\;\\; i=1,\\dots, n.\n",
    "$$\n",
    "Queremos elegir $\\beta_0,\\beta_1$ que minimicen la suma de los errores al cuadrado (SSE) es decir\n",
    "\n",
    "$$\n",
    "S(\\beta_0,\\beta_1)=\\sum_{i=1}^n \\big(y_i - \\beta_0 - \\beta_1 x_i\\big)^2.\n",
    "$$"
   ]
  },
  {
   "cell_type": "markdown",
   "id": "2030200a-d9eb-4ece-8d0f-3eaf86c56b95",
   "metadata": {
    "nbgrader": {
     "grade": false,
     "grade_id": "cell-eb7b32d843330c7f",
     "locked": true,
     "schema_version": 3,
     "solution": false,
     "task": false
    }
   },
   "source": [
    "### Paso 1 — derivadas parciales (ecuaciones normales).\n",
    "Minimizar $S$ implica anular sus derivadas parciales:\n",
    "\n",
    "$$\n",
    "\\frac{\\partial S}{\\partial \\beta_0} = -2\\sum_{i=1}^n \\big(y_i - \\beta_0 - \\beta_1 x_i\\big)=0\n",
    "$$\n",
    "\n",
    "$$\n",
    "\\frac{\\partial S}{\\partial \\beta_1} = -2\\sum_{i=1}^n x_i\\big(y_i - \\beta_0 - \\beta_1 x_i\\big)=0\n",
    "$$\n",
    "\n",
    "Quitando el factor $-2$ y reescribiendo obtenemos las **ecuaciones normales**:\n",
    "\n",
    "$$\n",
    "\\sum_{i=1}^n y_i = n\\beta_0 + \\beta_1\\sum_{i=1}^n x_i \\tag{1}\n",
    "$$\n",
    "\n",
    "$$\n",
    "\\sum_{i=1}^n x_i y_i = \\beta_0\\sum_{i=1}^n x_i + \\beta_1\\sum_{i=1}^n x_i^2 \\tag{2}\n",
    "$$"
   ]
  },
  {
   "cell_type": "markdown",
   "id": "8dfa848d-d0b4-47a8-a267-0699f383f664",
   "metadata": {
    "nbgrader": {
     "grade": false,
     "grade_id": "cell-ecddc5f20256fc92",
     "locked": true,
     "schema_version": 3,
     "solution": false,
     "task": false
    }
   },
   "source": [
    "### Paso 2 — resolver para $\\beta_0$ y $\\beta_1$.\n",
    "Recordando que las medias se escriben como\n",
    "$$\\bar x = \\dfrac{1}{n}\\sum_{i=1}^n x_i \\;\\; \\text{y} \\;\\; \\bar y = \\dfrac{1}{n}\\sum_{i=1}^n y_i$$\n",
    "\n",
    "Podemos despejar $\\beta_0$ de $(1)$ para obtener\n",
    "\n",
    "$$\n",
    "\\beta_0 = \\bar y - \\beta_1 \\bar x.\n",
    "$$\n",
    "\n",
    "Sustituimos en $(2)$:\n",
    "\n",
    "$$\n",
    "\\sum_{i=1}^n x_i y_i = (\\bar y - \\beta_1 \\bar x)\\sum_{i=1}^n x_i + \\beta_1\\sum_{i=1}^n x_i^2.\n",
    "$$\n",
    "\n",
    "Como $\\displaystyle \\sum_{i=1}^n x_i = n\\bar x$, simplificamos:\n",
    "\n",
    "$$\n",
    "\\sum_{i=1}^n x_i y_i = n\\bar x\\bar y - \\beta_1 n\\bar x^2 + \\beta_1\\sum_{i=1}^n x_i^2.\n",
    "$$\n",
    "\n",
    "Reordenando:\n",
    "\n",
    "$$\n",
    "\\beta_1\\Big(\\sum_{i=1}^n x_i^2 - n\\bar x^2\\Big) = \\sum_{i=1}^n x_i y_i - n\\bar x\\bar y.\n",
    "$$\n",
    "\n",
    "Observa que:\n",
    "\n",
    "$$\\sum_{i=1}^n x_i^2 - n\\bar x^2 = \\sum_{i=1}^n (x_i-\\bar x)^2$$ \n",
    "\n",
    "y \n",
    "\n",
    "$$\\sum_{i=1}^n x_i y_i - n\\bar x\\bar y = \\sum_{i=1}^n (x_i-\\bar x)(y_i-\\bar y)$$\n",
    "\n",
    "Por lo tanto\n",
    "\n",
    "$$\n",
    "\\displaystyle \\beta_1 = \\dfrac{\\sum_{i=1}^n (x_i-\\bar x)(y_i-\\bar y)}{\\sum_{i=1}^n (x_i-\\bar x)^2}\n",
    "\\quad\\text{y}\\quad\n",
    "\\boxed{\\displaystyle \\beta_0 = \\bar y - \\beta_1\\bar x.}\n",
    "$$"
   ]
  },
  {
   "cell_type": "code",
   "execution_count": null,
   "id": "a437c707-2b7e-4fbd-836c-131fff6612a3",
   "metadata": {},
   "outputs": [],
   "source": []
  }
 ],
 "metadata": {
  "kernelspec": {
   "display_name": "Python 3 (ipykernel)",
   "language": "python",
   "name": "python3"
  },
  "language_info": {
   "codemirror_mode": {
    "name": "ipython",
    "version": 3
   },
   "file_extension": ".py",
   "mimetype": "text/x-python",
   "name": "python",
   "nbconvert_exporter": "python",
   "pygments_lexer": "ipython3",
   "version": "3.11.6"
  }
 },
 "nbformat": 4,
 "nbformat_minor": 5
}
