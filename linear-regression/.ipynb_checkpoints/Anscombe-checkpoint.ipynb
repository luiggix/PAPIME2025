{
 "cells": [
  {
   "cell_type": "markdown",
   "id": "05920898",
   "metadata": {
    "slideshow": {
     "slide_type": "slide"
    }
   },
   "source": [
    "# Regresión lineal."
   ]
  },
  {
   "cell_type": "markdown",
   "id": "2b434eb5-e4bc-4796-9dea-9e43c4f5760b",
   "metadata": {},
   "source": [
    "## Introducción\n",
    "\n",
    "El concepto de regresión está relacionado con **intentar realizar predicciones acerca de cantidades del mundo real**. Por ejemplo, tratar de responder las siguientes preguntas:\n",
    "\n",
    "* ¿Si cambio el precio de un producto, cómo cambiará el volumen de las ventas?\n",
    "* ¿Cómo es que estas ventas pueden verse afectadas por el cambio en el clima?\n",
    "* ¿Cuantas personas asistirán a una conferencia dependiendo del título de la misma?\n",
    "* ¿Cómo bajará la grasa corporal dependiendo de la alimentación?\n",
    "* ¿A qué hora debo viajar para evitar carga en el tránsito vehicular? ¿y si llueve, cómo cambia el tránsito?\n",
    "* ¿Cuál es la probabilidad de que llueva en ciertos días de un cierto mes del año?\n",
    "\n",
    "La(s) respuesta(s) a estas preguntas se pueden construir como una combinanción de una o más variables (independientes). El papel de la regresión es **construir un modelo que pueda predecir la respuesta con base en esas variables**. Este proceso involucra la transición de los datos hacia un modelo de predicción.\n",
    "\n",
    "El modelo de predicción puede ser útil para diferentes tareas, tales como:\n",
    "\n",
    "1. Analizar el comportamiento de los datos (la relación entre la respuesta y las variables).\n",
    "2. Predecir valores en los datos (ya sea continuos o discretos).\n",
    "3. Encontrar variables importantes en el modelo (cuáles de ellas tienen más impacto).\n",
    "\n",
    "Existen varios tipos de regresión conocidos como regresión lineal simple, lineal múltiple o logística. En esta notebook veremos ejemplos de regresión lineal simple.\n"
   ]
  },
  {
   "cell_type": "markdown",
   "id": "b6bd74ef-1d41-4395-b82f-09124e6b2aef",
   "metadata": {},
   "source": [
    "<div class=\"alert alert-success\">\n",
    "\n",
    "## Ejercicio 1.\n",
    "\n",
    "Considera los siguientes cuatro conjuntos de datos.\n",
    "\n",
    "|`   ` Dataset 1||`   ` Dataset 2||`   ` Dataset 3||`   ` Dataset 4||\n",
    "|:---:|:-----:|:----:|:----:|:----:|:-----:|:----:|:-----:|\n",
    "| $x$ |  $y$  | $x$  | $y$  |  $x$ |  $y$  | $x$  |  $y$  |\n",
    "|10.0 | 8.04  | 10.0 | 9.14 | 10.0 | 7.46  | 8.0  | 6.58  |\n",
    "|8.0  | 6.95  | 8.0  | 8.14 | 8.0  | 6.77  | 8.0  | 5.76  |\n",
    "|13.0 | 7.58  | 13.0 | 8.74 | 13.0 | 12.74 | 8.0  | 7.71  |\n",
    "|9.0  | 8.81  | 9.0  | 8.77 | 9.0  | 7.11  | 8.0  | 8.84  |\n",
    "|11.0 | 8.33  | 11.0 | 9.26 | 11.0 | 7.81  | 8.0  | 8.47  |\n",
    "|14.0 | 9.96  | 14.0 | 8.10 | 14.0 | 8.84  | 8.0  | 7.04  |\n",
    "|6.0  | 7.24  | 6.0  | 6.13 | 6.0  | 6.08  | 8.0  | 5.25  |\n",
    "|4.0  | 4.26  | 4.0  | 3.10 | 4.0  | 5.39  | 19.0 | 12.50 |\n",
    "|12.0 | 10.84 | 12.0 | 9.13 | 12.0 | 8.15  | 8.0  | 5.56  |\n",
    "|7.0  | 4.82  | 7.0  | 7.26 | 7.0  | 6.42  | 8.0  | 7.91  |\n",
    "|5.0  | 5.68  | 5.0  | 4.74 | 5.0  | 5.73  | 8.0  | 6.89  |\n",
    "\n",
    "donde $x$ es la variable independiente y $y$ es la respuesta (variable dependiente).\n",
    "\n",
    "Estos cuatro conjuntos de datos se conocen cómo  [Anscombe's quartet](https://en.wikipedia.org/wiki/Anscombe%27s_quartet).\n",
    "Los cuatro conjuntos tienen las mismas propiedades estadísticas:\n",
    "\n",
    "| Propiedad | Valor   |\n",
    "|---|---|\n",
    "| Media $\\bar{x}$ | 9     |\n",
    "| Media $\\bar{y}$ | 7.50  |\n",
    "| Varianza muestral $s_x^2$   | 11    |\n",
    "| Varianza muestral $s_y^2$   | 4.125 |\n",
    "| Correlación entre $x$ y $y$ | 0.816 |\n",
    "| Regresión lineal | $y$ = 3.00 + 0.500$x$ |\n",
    "| Coef. de determinación $R^{2}$ | 0.67 |\n",
    "\n",
    "Referencia: Anscombe, F. J. (1973). \"Graphs in Statistical Analysis\". The American Statistician. 27 (1): 17–21. doi:10.2307/2682899. JSTOR 2682899. \n",
    "\n",
    "1. Leer el archivo `AnscombeQuartet.csv` e imprimir el conjunto de datos usando el siguiente código:\n",
    "\n",
    "```python\n",
    "import pandas as pd\n",
    "datos = pd.read_csv(\"AnscombeQuartet.csv\")\n",
    "datos\n",
    "```\n",
    "</div>"
   ]
  },
  {
   "cell_type": "code",
   "execution_count": 17,
   "id": "012533d5-c590-4c6e-a238-0ed613e5858a",
   "metadata": {},
   "outputs": [],
   "source": [
    "# Ejecuta esta celda para importar las bibliotecas que usaremos en este ejemplo.\n",
    "import pandas as pd\n",
    "import numpy as np\n",
    "import matplotlib.pyplot as plt"
   ]
  },
  {
   "cell_type": "code",
   "execution_count": 18,
   "id": "57ee03df-a71d-4faf-a9a4-2e893992c594",
   "metadata": {},
   "outputs": [
    {
     "data": {
      "text/html": [
       "<div>\n",
       "<style scoped>\n",
       "    .dataframe tbody tr th:only-of-type {\n",
       "        vertical-align: middle;\n",
       "    }\n",
       "\n",
       "    .dataframe tbody tr th {\n",
       "        vertical-align: top;\n",
       "    }\n",
       "\n",
       "    .dataframe thead th {\n",
       "        text-align: right;\n",
       "    }\n",
       "</style>\n",
       "<table border=\"1\" class=\"dataframe\">\n",
       "  <thead>\n",
       "    <tr style=\"text-align: right;\">\n",
       "      <th></th>\n",
       "      <th>x1</th>\n",
       "      <th>y1</th>\n",
       "      <th>x2</th>\n",
       "      <th>y2</th>\n",
       "      <th>x3</th>\n",
       "      <th>y3</th>\n",
       "      <th>x4</th>\n",
       "      <th>y4</th>\n",
       "    </tr>\n",
       "  </thead>\n",
       "  <tbody>\n",
       "    <tr>\n",
       "      <th>0</th>\n",
       "      <td>10.0</td>\n",
       "      <td>8.04</td>\n",
       "      <td>10.0</td>\n",
       "      <td>9.14</td>\n",
       "      <td>10.0</td>\n",
       "      <td>7.46</td>\n",
       "      <td>8.0</td>\n",
       "      <td>6.58</td>\n",
       "    </tr>\n",
       "    <tr>\n",
       "      <th>1</th>\n",
       "      <td>8.0</td>\n",
       "      <td>6.95</td>\n",
       "      <td>8.0</td>\n",
       "      <td>8.14</td>\n",
       "      <td>8.0</td>\n",
       "      <td>6.77</td>\n",
       "      <td>8.0</td>\n",
       "      <td>5.76</td>\n",
       "    </tr>\n",
       "    <tr>\n",
       "      <th>2</th>\n",
       "      <td>13.0</td>\n",
       "      <td>7.58</td>\n",
       "      <td>13.0</td>\n",
       "      <td>8.74</td>\n",
       "      <td>13.0</td>\n",
       "      <td>12.74</td>\n",
       "      <td>8.0</td>\n",
       "      <td>7.71</td>\n",
       "    </tr>\n",
       "    <tr>\n",
       "      <th>3</th>\n",
       "      <td>9.0</td>\n",
       "      <td>8.81</td>\n",
       "      <td>9.0</td>\n",
       "      <td>8.77</td>\n",
       "      <td>9.0</td>\n",
       "      <td>7.11</td>\n",
       "      <td>8.0</td>\n",
       "      <td>8.84</td>\n",
       "    </tr>\n",
       "    <tr>\n",
       "      <th>4</th>\n",
       "      <td>11.0</td>\n",
       "      <td>8.33</td>\n",
       "      <td>11.0</td>\n",
       "      <td>9.26</td>\n",
       "      <td>11.0</td>\n",
       "      <td>7.81</td>\n",
       "      <td>8.0</td>\n",
       "      <td>8.47</td>\n",
       "    </tr>\n",
       "    <tr>\n",
       "      <th>5</th>\n",
       "      <td>14.0</td>\n",
       "      <td>9.96</td>\n",
       "      <td>14.0</td>\n",
       "      <td>8.10</td>\n",
       "      <td>14.0</td>\n",
       "      <td>8.84</td>\n",
       "      <td>8.0</td>\n",
       "      <td>7.04</td>\n",
       "    </tr>\n",
       "    <tr>\n",
       "      <th>6</th>\n",
       "      <td>6.0</td>\n",
       "      <td>7.24</td>\n",
       "      <td>6.0</td>\n",
       "      <td>6.13</td>\n",
       "      <td>6.0</td>\n",
       "      <td>6.08</td>\n",
       "      <td>8.0</td>\n",
       "      <td>5.25</td>\n",
       "    </tr>\n",
       "    <tr>\n",
       "      <th>7</th>\n",
       "      <td>4.0</td>\n",
       "      <td>4.26</td>\n",
       "      <td>4.0</td>\n",
       "      <td>3.10</td>\n",
       "      <td>4.0</td>\n",
       "      <td>5.39</td>\n",
       "      <td>19.0</td>\n",
       "      <td>12.50</td>\n",
       "    </tr>\n",
       "    <tr>\n",
       "      <th>8</th>\n",
       "      <td>12.0</td>\n",
       "      <td>10.84</td>\n",
       "      <td>12.0</td>\n",
       "      <td>9.13</td>\n",
       "      <td>12.0</td>\n",
       "      <td>8.15</td>\n",
       "      <td>8.0</td>\n",
       "      <td>5.56</td>\n",
       "    </tr>\n",
       "    <tr>\n",
       "      <th>9</th>\n",
       "      <td>7.0</td>\n",
       "      <td>4.82</td>\n",
       "      <td>7.0</td>\n",
       "      <td>7.26</td>\n",
       "      <td>7.0</td>\n",
       "      <td>6.42</td>\n",
       "      <td>8.0</td>\n",
       "      <td>7.91</td>\n",
       "    </tr>\n",
       "    <tr>\n",
       "      <th>10</th>\n",
       "      <td>5.0</td>\n",
       "      <td>5.68</td>\n",
       "      <td>5.0</td>\n",
       "      <td>4.74</td>\n",
       "      <td>5.0</td>\n",
       "      <td>5.73</td>\n",
       "      <td>8.0</td>\n",
       "      <td>6.89</td>\n",
       "    </tr>\n",
       "  </tbody>\n",
       "</table>\n",
       "</div>"
      ],
      "text/plain": [
       "      x1     y1    x2    y2    x3     y3    x4     y4\n",
       "0   10.0   8.04  10.0  9.14  10.0   7.46   8.0   6.58\n",
       "1    8.0   6.95   8.0  8.14   8.0   6.77   8.0   5.76\n",
       "2   13.0   7.58  13.0  8.74  13.0  12.74   8.0   7.71\n",
       "3    9.0   8.81   9.0  8.77   9.0   7.11   8.0   8.84\n",
       "4   11.0   8.33  11.0  9.26  11.0   7.81   8.0   8.47\n",
       "5   14.0   9.96  14.0  8.10  14.0   8.84   8.0   7.04\n",
       "6    6.0   7.24   6.0  6.13   6.0   6.08   8.0   5.25\n",
       "7    4.0   4.26   4.0  3.10   4.0   5.39  19.0  12.50\n",
       "8   12.0  10.84  12.0  9.13  12.0   8.15   8.0   5.56\n",
       "9    7.0   4.82   7.0  7.26   7.0   6.42   8.0   7.91\n",
       "10   5.0   5.68   5.0  4.74   5.0   5.73   8.0   6.89"
      ]
     },
     "execution_count": 18,
     "metadata": {},
     "output_type": "execute_result"
    }
   ],
   "source": [
    "# 1. Lectura de los datos.\n",
    "### BEGIN SOLUTION\n",
    "datos = pd.read_csv(\"AnscombeQuartet.csv\")\n",
    "datos\n",
    "### END SOLUTION"
   ]
  },
  {
   "cell_type": "markdown",
   "id": "d6f9a484-6fd0-4d4a-a7f9-4b2a91c987bb",
   "metadata": {},
   "source": [
    "<div class=\"alert alert-success\">\n",
    "\n",
    "2. Usando la funciones `media(X)` y `varianza(X)`, definidas en la celda siguiente, calcula la media y la varianza, respectivamente, para cada uno de los conjuntos de datos (Datasets).\n",
    "\n",
    "Por ejemplo:\n",
    "\n",
    "```python\n",
    "μ_x1 = media(datos.x1)\n",
    "μ_y1 = media(datos.y1)\n",
    "sx_1 = varianza(datos.x1)\n",
    "sy_1 = varianza(datos.y1)\n",
    "\n",
    "μ_x2 = μ_x1 = media(datos.x2)\n",
    "μ_y2 = ...\n",
    "...\n",
    "\n",
    "print(f\" μ_x1 = {μ_x1:>5.2f}\")\n",
    "print(f\" μ_y1 = {μ_y1:>5.2f}\")\n",
    "print(f\" sx_1 = {sx_1:>6.3f}\")\n",
    "print(f\" sy_1 = {sy_1:>6.3f}\\n\")\n",
    "\n",
    "print(f\" μ_x2 = {μ_x2:>5.2f}\")\n",
    "...\n",
    "\n",
    "```\n",
    "\n",
    "<br>\n",
    "completa el código para todos los Datasets y comprueba que la media y la varianza tienen los valores antes mencionados.\n",
    "</div>"
   ]
  },
  {
   "cell_type": "code",
   "execution_count": 19,
   "id": "a7d8d56d-6405-49f1-a574-d47ff85f6445",
   "metadata": {},
   "outputs": [],
   "source": [
    "# Ejecuta esta celda para definir las funciones\n",
    "\n",
    "def media(X):\n",
    "    suma = 0\n",
    "    for xi in X:\n",
    "        suma += xi\n",
    "    \n",
    "    return suma / len(X)\n",
    "\n",
    "def varianza(X):\n",
    "    μ = media(X)\n",
    "    suma = 0\n",
    "    for xi in X:\n",
    "        suma += (xi - μ)**2\n",
    "    \n",
    "    return suma / (len(X)-1)"
   ]
  },
  {
   "cell_type": "code",
   "execution_count": 22,
   "id": "39ac5e32-ad5b-4e0d-8166-3e34ba005f86",
   "metadata": {},
   "outputs": [
    {
     "name": "stdout",
     "output_type": "stream",
     "text": [
      " μ_x1 =  9.00\n",
      " μ_y1 =  7.50\n",
      " sx_1 = 11.000\n",
      " sy_1 =  4.127\n",
      " μ_x2 =  9.00\n",
      " μ_y2 =  7.50\n",
      " sx_2 = 11.000\n",
      " sy_2 =  4.128\n",
      " μ_x3 =  9.00\n",
      " μ_y3 =  7.50\n",
      " sx_3 = 11.000\n",
      " sy_3 =  4.123\n",
      " μ_x4 =  9.00\n",
      " μ_y4 =  7.50\n",
      " sx_4 = 11.000\n",
      " sy_4 =  4.123\n"
     ]
    }
   ],
   "source": [
    "# 2. Calcula e imprime la media y la varianza de todos los Datasets\n",
    "### BEGIN SOLUTION\n",
    "μ_x1 = media(datos.x1)\n",
    "μ_y1 = media(datos.y1)\n",
    "sx_1 = varianza(datos.x1)\n",
    "sy_1 = varianza(datos.y1)\n",
    "\n",
    "μ_x2 = media(datos.x2)\n",
    "μ_y2 = media(datos.y2)\n",
    "sx_2 = varianza(datos.x2)\n",
    "sy_2 = varianza(datos.y2)\n",
    "\n",
    "μ_x3 = media(datos.x3)\n",
    "μ_y3 = media(datos.y3)\n",
    "sx_3 = varianza(datos.x3)\n",
    "sy_3 = varianza(datos.y3)\n",
    "\n",
    "μ_x4 = media(datos.x4)\n",
    "μ_y4 = media(datos.y4)\n",
    "sx_4 = varianza(datos.x4)\n",
    "sy_4 = varianza(datos.y4)\n",
    "\n",
    "print(f\" μ_x1 = {μ_x1:>5.2f}\")\n",
    "print(f\" μ_y1 = {μ_y1:>5.2f}\")\n",
    "print(f\" sx_1 = {sx_1:>6.3f}\")\n",
    "print(f\" sy_1 = {sy_1:>6.3f}\")\n",
    "\n",
    "print(f\" μ_x2 = {μ_x2:>5.2f}\")\n",
    "print(f\" μ_y2 = {μ_y2:>5.2f}\")\n",
    "print(f\" sx_2 = {sx_2:>6.3f}\")\n",
    "print(f\" sy_2 = {sy_2:>6.3f}\")\n",
    "\n",
    "print(f\" μ_x3 = {μ_x3:>5.2f}\")\n",
    "print(f\" μ_y3 = {μ_y3:>5.2f}\")\n",
    "print(f\" sx_3 = {sx_3:>6.3f}\")\n",
    "print(f\" sy_3 = {sy_3:>6.3f}\")\n",
    "\n",
    "print(f\" μ_x4 = {μ_x4:>5.2f}\")\n",
    "print(f\" μ_y4 = {μ_y4:>5.2f}\")\n",
    "print(f\" sx_4 = {sx_4:>6.3f}\")\n",
    "print(f\" sy_4 = {sy_4:>6.3f}\")\n",
    "### END SOLUTION"
   ]
  },
  {
   "cell_type": "markdown",
   "id": "f32295c8-60ff-4468-b666-9592dfa43294",
   "metadata": {},
   "source": [
    "<div class=\"alert alert-success\">\n",
    "\n",
    "3. Recordando que la desviación estándar, $\\sigma_x$ se calcula como la raíz cuadrada de la varianza $s_x$ calcula la desviación estándar de cada variable. Por ejemplo para $x_1$ sería lo siguiente:\n",
    "\n",
    "```python\n",
    "σ_x1 = \n",
    "```\n",
    "</div>"
   ]
  },
  {
   "cell_type": "code",
   "execution_count": 16,
   "id": "50844ec8-2189-4a6e-b085-e251b258eafb",
   "metadata": {},
   "outputs": [],
   "source": [
    "def covarianza(X, Y):\n",
    "    μx = media(X)\n",
    "    μy = media(Y)\n",
    "    suma = 0.0  \n",
    "    for xi, yi in zip(X, Y):\n",
    "        suma += (xi - μx) * (yi - μy)\n",
    "    \n",
    "    return suma / (len(X)-1)"
   ]
  },
  {
   "cell_type": "code",
   "execution_count": 71,
   "id": "84330ce2-3377-4141-a211-b7aa10a10db3",
   "metadata": {},
   "outputs": [
    {
     "name": "stdout",
     "output_type": "stream",
     "text": [
      "9.0 7.500909090909093\n"
     ]
    }
   ],
   "source": [
    "μ_x1 = media(datos.x1)\n",
    "μ_y1 = media(datos.y1)\n",
    "print(μ_x1, μ_y1)"
   ]
  },
  {
   "cell_type": "code",
   "execution_count": 76,
   "id": "85203166-8de3-4307-9ee9-3877b592bc2e",
   "metadata": {},
   "outputs": [
    {
     "name": "stdout",
     "output_type": "stream",
     "text": [
      "11.0 4.127269090909091\n"
     ]
    }
   ],
   "source": [
    "σ_x1 = varianza(datos.x1)\n",
    "σ_y1 = varianza(datos.y1)\n",
    "print(σ_x1, σ_y1)"
   ]
  },
  {
   "cell_type": "code",
   "execution_count": 77,
   "id": "033f4dfe-b28c-4d68-9979-f0ed5f545f8f",
   "metadata": {},
   "outputs": [
    {
     "name": "stdout",
     "output_type": "stream",
     "text": [
      "5.501\n"
     ]
    }
   ],
   "source": [
    "S_xy1 = covarianza(datos.x1, datos.y1)\n",
    "print(S_xy1)"
   ]
  },
  {
   "cell_type": "code",
   "execution_count": 78,
   "id": "a2126c78-d33c-45ac-b4cb-c7b526850de0",
   "metadata": {},
   "outputs": [
    {
     "name": "stdout",
     "output_type": "stream",
     "text": [
      "0.8164205163448399\n"
     ]
    }
   ],
   "source": [
    "rho = S_xy1 / (np.sqrt(σ_x1) * np.sqrt(σ_y1) )\n",
    "print(rho)"
   ]
  },
  {
   "cell_type": "code",
   "execution_count": 79,
   "id": "0b7045aa-0dc6-426e-96c3-311494b1de51",
   "metadata": {},
   "outputs": [
    {
     "name": "stdout",
     "output_type": "stream",
     "text": [
      "0.666542459508775\n"
     ]
    }
   ],
   "source": [
    "print(rho**2)"
   ]
  },
  {
   "cell_type": "markdown",
   "id": "b1a11b55",
   "metadata": {
    "slideshow": {
     "slide_type": "slide"
    }
   },
   "source": [
    "## ¿Porqué Visualizar?\n",
    "\n",
    "El proceso de transformar datos crudos en imágenes ayuda a mejorar las interpretaciones de grandes conjuntos de datos y eso permite obtener una perspectiva que podría pasarse por alto si se usarán solamente métodos estadísticos.\n",
    "\n",
    "<h3>\n",
    "Ejemplo: <a href=\"https://en.wikipedia.org/wiki/Anscombe%27s_quartet\"> Anscombe's quartet </a>\n",
    "</h3>\n",
    "    \n",
    "Consiste de cuatro conjuntos de datos que tienen las mismas propiedades estadísticas:\n",
    "</div>\n",
    "\n",
    "| Propiedad | Valor   |\n",
    "|---|---|\n",
    "| Media $\\bar{x}$ | 9     |\n",
    "| Media $\\bar{y}$ | 7.50  |\n",
    "| Varianza muestral $s_x^2$   | 11    |\n",
    "| Varianza muestral $s_y^2$   | 4.125 |\n",
    "| Correlación entre $x$ y $y$ | 0.816 |\n",
    "| Regresión lineal | $y$ = 3.00 + 0.500$x$ |\n",
    "| Coef. de determinación $R^{2}$ | 0.67 |\n",
    "\n",
    "Cada conjunto consiste de once puntos (x, y) y fueron construidos por el estadístico F. J. Anscombe.\n",
    "\n",
    "Referencia: Anscombe, F. J. (1973). \"Graphs in Statistical Analysis\". The American Statistician. 27 (1): 17–21. doi:10.2307/2682899. JSTOR 2682899. "
   ]
  },
  {
   "cell_type": "code",
   "execution_count": 2,
   "id": "ad7b4675",
   "metadata": {},
   "outputs": [],
   "source": [
    "import numpy as np\n",
    "import pandas as pd \n",
    "from sklearn.linear_model import LinearRegression\n",
    "#import macti.visual"
   ]
  },
  {
   "cell_type": "markdown",
   "id": "8122ce7e-547a-496f-a72b-fffb85adceb5",
   "metadata": {},
   "source": [
    "Leer el archivo con la información y ponerla en un DataFrame"
   ]
  },
  {
   "cell_type": "code",
   "execution_count": 3,
   "id": "15b188af",
   "metadata": {
    "slideshow": {
     "slide_type": "subslide"
    }
   },
   "outputs": [
    {
     "data": {
      "text/html": [
       "<div>\n",
       "<style scoped>\n",
       "    .dataframe tbody tr th:only-of-type {\n",
       "        vertical-align: middle;\n",
       "    }\n",
       "\n",
       "    .dataframe tbody tr th {\n",
       "        vertical-align: top;\n",
       "    }\n",
       "\n",
       "    .dataframe thead th {\n",
       "        text-align: right;\n",
       "    }\n",
       "</style>\n",
       "<table border=\"1\" class=\"dataframe\">\n",
       "  <thead>\n",
       "    <tr style=\"text-align: right;\">\n",
       "      <th></th>\n",
       "      <th>0</th>\n",
       "      <th>1</th>\n",
       "      <th>2</th>\n",
       "      <th>3</th>\n",
       "      <th>4</th>\n",
       "      <th>5</th>\n",
       "      <th>6</th>\n",
       "      <th>7</th>\n",
       "    </tr>\n",
       "  </thead>\n",
       "  <tbody>\n",
       "    <tr>\n",
       "      <th>0</th>\n",
       "      <td>10.0</td>\n",
       "      <td>8.04</td>\n",
       "      <td>10.0</td>\n",
       "      <td>9.14</td>\n",
       "      <td>10.0</td>\n",
       "      <td>7.46</td>\n",
       "      <td>8.0</td>\n",
       "      <td>6.58</td>\n",
       "    </tr>\n",
       "    <tr>\n",
       "      <th>1</th>\n",
       "      <td>8.0</td>\n",
       "      <td>6.95</td>\n",
       "      <td>8.0</td>\n",
       "      <td>8.14</td>\n",
       "      <td>8.0</td>\n",
       "      <td>6.77</td>\n",
       "      <td>8.0</td>\n",
       "      <td>5.76</td>\n",
       "    </tr>\n",
       "    <tr>\n",
       "      <th>2</th>\n",
       "      <td>13.0</td>\n",
       "      <td>7.58</td>\n",
       "      <td>13.0</td>\n",
       "      <td>8.74</td>\n",
       "      <td>13.0</td>\n",
       "      <td>12.74</td>\n",
       "      <td>8.0</td>\n",
       "      <td>7.71</td>\n",
       "    </tr>\n",
       "    <tr>\n",
       "      <th>3</th>\n",
       "      <td>9.0</td>\n",
       "      <td>8.81</td>\n",
       "      <td>9.0</td>\n",
       "      <td>8.77</td>\n",
       "      <td>9.0</td>\n",
       "      <td>7.11</td>\n",
       "      <td>8.0</td>\n",
       "      <td>8.84</td>\n",
       "    </tr>\n",
       "    <tr>\n",
       "      <th>4</th>\n",
       "      <td>11.0</td>\n",
       "      <td>8.33</td>\n",
       "      <td>11.0</td>\n",
       "      <td>9.26</td>\n",
       "      <td>11.0</td>\n",
       "      <td>7.81</td>\n",
       "      <td>8.0</td>\n",
       "      <td>8.47</td>\n",
       "    </tr>\n",
       "    <tr>\n",
       "      <th>5</th>\n",
       "      <td>14.0</td>\n",
       "      <td>9.96</td>\n",
       "      <td>14.0</td>\n",
       "      <td>8.10</td>\n",
       "      <td>14.0</td>\n",
       "      <td>8.84</td>\n",
       "      <td>8.0</td>\n",
       "      <td>7.04</td>\n",
       "    </tr>\n",
       "    <tr>\n",
       "      <th>6</th>\n",
       "      <td>6.0</td>\n",
       "      <td>7.24</td>\n",
       "      <td>6.0</td>\n",
       "      <td>6.13</td>\n",
       "      <td>6.0</td>\n",
       "      <td>6.08</td>\n",
       "      <td>8.0</td>\n",
       "      <td>5.25</td>\n",
       "    </tr>\n",
       "    <tr>\n",
       "      <th>7</th>\n",
       "      <td>4.0</td>\n",
       "      <td>4.26</td>\n",
       "      <td>4.0</td>\n",
       "      <td>3.10</td>\n",
       "      <td>4.0</td>\n",
       "      <td>5.39</td>\n",
       "      <td>19.0</td>\n",
       "      <td>12.50</td>\n",
       "    </tr>\n",
       "    <tr>\n",
       "      <th>8</th>\n",
       "      <td>12.0</td>\n",
       "      <td>10.84</td>\n",
       "      <td>12.0</td>\n",
       "      <td>9.13</td>\n",
       "      <td>12.0</td>\n",
       "      <td>8.15</td>\n",
       "      <td>8.0</td>\n",
       "      <td>5.56</td>\n",
       "    </tr>\n",
       "    <tr>\n",
       "      <th>9</th>\n",
       "      <td>7.0</td>\n",
       "      <td>4.82</td>\n",
       "      <td>7.0</td>\n",
       "      <td>7.26</td>\n",
       "      <td>7.0</td>\n",
       "      <td>6.42</td>\n",
       "      <td>8.0</td>\n",
       "      <td>7.91</td>\n",
       "    </tr>\n",
       "    <tr>\n",
       "      <th>10</th>\n",
       "      <td>5.0</td>\n",
       "      <td>5.68</td>\n",
       "      <td>5.0</td>\n",
       "      <td>4.74</td>\n",
       "      <td>5.0</td>\n",
       "      <td>5.73</td>\n",
       "      <td>8.0</td>\n",
       "      <td>6.89</td>\n",
       "    </tr>\n",
       "  </tbody>\n",
       "</table>\n",
       "</div>"
      ],
      "text/plain": [
       "       0      1     2     3     4      5     6      7\n",
       "0   10.0   8.04  10.0  9.14  10.0   7.46   8.0   6.58\n",
       "1    8.0   6.95   8.0  8.14   8.0   6.77   8.0   5.76\n",
       "2   13.0   7.58  13.0  8.74  13.0  12.74   8.0   7.71\n",
       "3    9.0   8.81   9.0  8.77   9.0   7.11   8.0   8.84\n",
       "4   11.0   8.33  11.0  9.26  11.0   7.81   8.0   8.47\n",
       "5   14.0   9.96  14.0  8.10  14.0   8.84   8.0   7.04\n",
       "6    6.0   7.24   6.0  6.13   6.0   6.08   8.0   5.25\n",
       "7    4.0   4.26   4.0  3.10   4.0   5.39  19.0  12.50\n",
       "8   12.0  10.84  12.0  9.13  12.0   8.15   8.0   5.56\n",
       "9    7.0   4.82   7.0  7.26   7.0   6.42   8.0   7.91\n",
       "10   5.0   5.68   5.0  4.74   5.0   5.73   8.0   6.89"
      ]
     },
     "execution_count": 3,
     "metadata": {},
     "output_type": "execute_result"
    }
   ],
   "source": [
    "data = pd.read_csv('AnscombeQuartet.txt', sep='\\t', header=None)\n",
    "data"
   ]
  },
  {
   "cell_type": "code",
   "execution_count": 6,
   "id": "57f8e33b-9624-4431-9477-ba41fa8317e2",
   "metadata": {},
   "outputs": [
    {
     "name": "stdout",
     "output_type": "stream",
     "text": [
      "[10.  8. 13.  9. 11. 14.  6.  4. 12.  7.  5.]\n"
     ]
    }
   ],
   "source": [
    "x1 = np.array(data[0])\n",
    "print(x1)"
   ]
  },
  {
   "cell_type": "code",
   "execution_count": 11,
   "id": "bc39ede2-dc4a-4dcc-aca4-7f0930e27324",
   "metadata": {},
   "outputs": [
    {
     "ename": "TypeError",
     "evalue": "open() got an unexpected keyword argument 'delimiter'",
     "output_type": "error",
     "traceback": [
      "\u001b[31m---------------------------------------------------\u001b[39m",
      "\u001b[31mTypeError\u001b[39m         Traceback (most recent call last)",
      "\u001b[36mCell\u001b[39m\u001b[36m \u001b[39m\u001b[32mIn[11]\u001b[39m\u001b[32m, line 3\u001b[39m\n\u001b[32m      1\u001b[39m \u001b[38;5;28;01mimport\u001b[39;00m\u001b[38;5;250m \u001b[39m\u001b[34;01mcsv\u001b[39;00m\n\u001b[32m----> \u001b[39m\u001b[32m3\u001b[39m \u001b[38;5;28;01mwith\u001b[39;00m \u001b[38;5;28;43mopen\u001b[39;49m\u001b[43m(\u001b[49m\u001b[33;43m\"\u001b[39;49m\u001b[33;43mAnscombeQuartet.txt\u001b[39;49m\u001b[33;43m\"\u001b[39;49m\u001b[43m,\u001b[49m\u001b[43m \u001b[49m\u001b[43mnewline\u001b[49m\u001b[43m=\u001b[49m\u001b[33;43m'\u001b[39;49m\u001b[33;43m'\u001b[39;49m\u001b[43m,\u001b[49m\u001b[43m \u001b[49m\u001b[43mdelimiter\u001b[49m\u001b[43m=\u001b[49m\u001b[33;43m\"\u001b[39;49m\u001b[38;5;130;43;01m\\t\u001b[39;49;00m\u001b[33;43m\"\u001b[39;49m\u001b[43m)\u001b[49m \u001b[38;5;28;01mas\u001b[39;00m f:\n\u001b[32m      4\u001b[39m     reader = csv.reader(f)\n\u001b[32m      6\u001b[39m     \u001b[38;5;28;01mfor\u001b[39;00m i \u001b[38;5;129;01min\u001b[39;00m reader:\n",
      "\u001b[36mFile \u001b[39m\u001b[32m~\\AppData\\Local\\Programs\\Python\\Python313\\Lib\\site-packages\\IPython\\core\\interactiveshell.py:326\u001b[39m, in \u001b[36m_modified_open\u001b[39m\u001b[34m(file, *args, **kwargs)\u001b[39m\n\u001b[32m    319\u001b[39m \u001b[38;5;28;01mif\u001b[39;00m file \u001b[38;5;129;01min\u001b[39;00m {\u001b[32m0\u001b[39m, \u001b[32m1\u001b[39m, \u001b[32m2\u001b[39m}:\n\u001b[32m    320\u001b[39m     \u001b[38;5;28;01mraise\u001b[39;00m \u001b[38;5;167;01mValueError\u001b[39;00m(\n\u001b[32m    321\u001b[39m         \u001b[33mf\u001b[39m\u001b[33m\"\u001b[39m\u001b[33mIPython won\u001b[39m\u001b[33m'\u001b[39m\u001b[33mt let you open fd=\u001b[39m\u001b[38;5;132;01m{\u001b[39;00mfile\u001b[38;5;132;01m}\u001b[39;00m\u001b[33m by default \u001b[39m\u001b[33m\"\u001b[39m\n\u001b[32m    322\u001b[39m         \u001b[33m\"\u001b[39m\u001b[33mas it is likely to crash IPython. If you know what you are doing, \u001b[39m\u001b[33m\"\u001b[39m\n\u001b[32m    323\u001b[39m         \u001b[33m\"\u001b[39m\u001b[33myou can use builtins\u001b[39m\u001b[33m'\u001b[39m\u001b[33m open.\u001b[39m\u001b[33m\"\u001b[39m\n\u001b[32m    324\u001b[39m     )\n\u001b[32m--> \u001b[39m\u001b[32m326\u001b[39m \u001b[38;5;28;01mreturn\u001b[39;00m \u001b[43mio_open\u001b[49m\u001b[43m(\u001b[49m\u001b[43mfile\u001b[49m\u001b[43m,\u001b[49m\u001b[43m \u001b[49m\u001b[43m*\u001b[49m\u001b[43margs\u001b[49m\u001b[43m,\u001b[49m\u001b[43m \u001b[49m\u001b[43m*\u001b[49m\u001b[43m*\u001b[49m\u001b[43mkwargs\u001b[49m\u001b[43m)\u001b[49m\n",
      "\u001b[31mTypeError\u001b[39m: open() got an unexpected keyword argument 'delimiter'"
     ]
    }
   ],
   "source": [
    "import csv\n",
    "\n",
    "with open(\"AnscombeQuartet.txt\", newline='', delimiter=\"\\t\") as f:\n",
    "    reader = csv.reader(f)\n",
    "\n",
    "    for i in reader:\n",
    "        print(i)"
   ]
  },
  {
   "cell_type": "markdown",
   "id": "83321d5f-6c42-4f6f-8b2f-7785389ac465",
   "metadata": {},
   "source": [
    "Organicemos un poco el DataFrame"
   ]
  },
  {
   "cell_type": "code",
   "execution_count": 3,
   "id": "cccf6e6d",
   "metadata": {
    "slideshow": {
     "slide_type": "slide"
    }
   },
   "outputs": [
    {
     "data": {
      "text/html": [
       "<div>\n",
       "<style scoped>\n",
       "    .dataframe tbody tr th:only-of-type {\n",
       "        vertical-align: middle;\n",
       "    }\n",
       "\n",
       "    .dataframe tbody tr th {\n",
       "        vertical-align: top;\n",
       "    }\n",
       "\n",
       "    .dataframe thead tr th {\n",
       "        text-align: left;\n",
       "    }\n",
       "</style>\n",
       "<table border=\"1\" class=\"dataframe\">\n",
       "  <thead>\n",
       "    <tr>\n",
       "      <th>dat</th>\n",
       "      <th colspan=\"2\" halign=\"left\">Dataset 1</th>\n",
       "      <th colspan=\"2\" halign=\"left\">Dataset 2</th>\n",
       "      <th colspan=\"2\" halign=\"left\">Dataset 3</th>\n",
       "      <th colspan=\"2\" halign=\"left\">Dataset 4</th>\n",
       "    </tr>\n",
       "    <tr>\n",
       "      <th>val</th>\n",
       "      <th>x</th>\n",
       "      <th>y</th>\n",
       "      <th>x</th>\n",
       "      <th>y</th>\n",
       "      <th>x</th>\n",
       "      <th>y</th>\n",
       "      <th>x</th>\n",
       "      <th>y</th>\n",
       "    </tr>\n",
       "  </thead>\n",
       "  <tbody>\n",
       "    <tr>\n",
       "      <th>1</th>\n",
       "      <td>10.0</td>\n",
       "      <td>8.04</td>\n",
       "      <td>10.0</td>\n",
       "      <td>9.14</td>\n",
       "      <td>10.0</td>\n",
       "      <td>7.46</td>\n",
       "      <td>8.0</td>\n",
       "      <td>6.58</td>\n",
       "    </tr>\n",
       "    <tr>\n",
       "      <th>2</th>\n",
       "      <td>8.0</td>\n",
       "      <td>6.95</td>\n",
       "      <td>8.0</td>\n",
       "      <td>8.14</td>\n",
       "      <td>8.0</td>\n",
       "      <td>6.77</td>\n",
       "      <td>8.0</td>\n",
       "      <td>5.76</td>\n",
       "    </tr>\n",
       "    <tr>\n",
       "      <th>3</th>\n",
       "      <td>13.0</td>\n",
       "      <td>7.58</td>\n",
       "      <td>13.0</td>\n",
       "      <td>8.74</td>\n",
       "      <td>13.0</td>\n",
       "      <td>12.74</td>\n",
       "      <td>8.0</td>\n",
       "      <td>7.71</td>\n",
       "    </tr>\n",
       "    <tr>\n",
       "      <th>4</th>\n",
       "      <td>9.0</td>\n",
       "      <td>8.81</td>\n",
       "      <td>9.0</td>\n",
       "      <td>8.77</td>\n",
       "      <td>9.0</td>\n",
       "      <td>7.11</td>\n",
       "      <td>8.0</td>\n",
       "      <td>8.84</td>\n",
       "    </tr>\n",
       "    <tr>\n",
       "      <th>5</th>\n",
       "      <td>11.0</td>\n",
       "      <td>8.33</td>\n",
       "      <td>11.0</td>\n",
       "      <td>9.26</td>\n",
       "      <td>11.0</td>\n",
       "      <td>7.81</td>\n",
       "      <td>8.0</td>\n",
       "      <td>8.47</td>\n",
       "    </tr>\n",
       "    <tr>\n",
       "      <th>6</th>\n",
       "      <td>14.0</td>\n",
       "      <td>9.96</td>\n",
       "      <td>14.0</td>\n",
       "      <td>8.10</td>\n",
       "      <td>14.0</td>\n",
       "      <td>8.84</td>\n",
       "      <td>8.0</td>\n",
       "      <td>7.04</td>\n",
       "    </tr>\n",
       "    <tr>\n",
       "      <th>7</th>\n",
       "      <td>6.0</td>\n",
       "      <td>7.24</td>\n",
       "      <td>6.0</td>\n",
       "      <td>6.13</td>\n",
       "      <td>6.0</td>\n",
       "      <td>6.08</td>\n",
       "      <td>8.0</td>\n",
       "      <td>5.25</td>\n",
       "    </tr>\n",
       "    <tr>\n",
       "      <th>8</th>\n",
       "      <td>4.0</td>\n",
       "      <td>4.26</td>\n",
       "      <td>4.0</td>\n",
       "      <td>3.10</td>\n",
       "      <td>4.0</td>\n",
       "      <td>5.39</td>\n",
       "      <td>19.0</td>\n",
       "      <td>12.50</td>\n",
       "    </tr>\n",
       "    <tr>\n",
       "      <th>9</th>\n",
       "      <td>12.0</td>\n",
       "      <td>10.84</td>\n",
       "      <td>12.0</td>\n",
       "      <td>9.13</td>\n",
       "      <td>12.0</td>\n",
       "      <td>8.15</td>\n",
       "      <td>8.0</td>\n",
       "      <td>5.56</td>\n",
       "    </tr>\n",
       "    <tr>\n",
       "      <th>10</th>\n",
       "      <td>7.0</td>\n",
       "      <td>4.82</td>\n",
       "      <td>7.0</td>\n",
       "      <td>7.26</td>\n",
       "      <td>7.0</td>\n",
       "      <td>6.42</td>\n",
       "      <td>8.0</td>\n",
       "      <td>7.91</td>\n",
       "    </tr>\n",
       "    <tr>\n",
       "      <th>11</th>\n",
       "      <td>5.0</td>\n",
       "      <td>5.68</td>\n",
       "      <td>5.0</td>\n",
       "      <td>4.74</td>\n",
       "      <td>5.0</td>\n",
       "      <td>5.73</td>\n",
       "      <td>8.0</td>\n",
       "      <td>6.89</td>\n",
       "    </tr>\n",
       "  </tbody>\n",
       "</table>\n",
       "</div>"
      ],
      "text/plain": [
       "dat Dataset 1        Dataset 2       Dataset 3        Dataset 4       \n",
       "val         x      y         x     y         x      y         x      y\n",
       "1        10.0   8.04      10.0  9.14      10.0   7.46       8.0   6.58\n",
       "2         8.0   6.95       8.0  8.14       8.0   6.77       8.0   5.76\n",
       "3        13.0   7.58      13.0  8.74      13.0  12.74       8.0   7.71\n",
       "4         9.0   8.81       9.0  8.77       9.0   7.11       8.0   8.84\n",
       "5        11.0   8.33      11.0  9.26      11.0   7.81       8.0   8.47\n",
       "6        14.0   9.96      14.0  8.10      14.0   8.84       8.0   7.04\n",
       "7         6.0   7.24       6.0  6.13       6.0   6.08       8.0   5.25\n",
       "8         4.0   4.26       4.0  3.10       4.0   5.39      19.0  12.50\n",
       "9        12.0  10.84      12.0  9.13      12.0   8.15       8.0   5.56\n",
       "10        7.0   4.82       7.0  7.26       7.0   6.42       8.0   7.91\n",
       "11        5.0   5.68       5.0  4.74       5.0   5.73       8.0   6.89"
      ]
     },
     "execution_count": 3,
     "metadata": {},
     "output_type": "execute_result"
    }
   ],
   "source": [
    "header = pd.MultiIndex.from_product([['Dataset 1','Dataset 2', \n",
    "                                      'Dataset 3', 'Dataset 4'],\n",
    "                                     ['x', 'y']],\n",
    "                                    names=['dat','val'])\n",
    "data.columns = header\n",
    "data.index = [1,2,3,4,5,6,7,8,9,10,11]\n",
    "data"
   ]
  },
  {
   "cell_type": "code",
   "execution_count": 4,
   "id": "7c8bef92",
   "metadata": {},
   "outputs": [
    {
     "data": {
      "text/plain": [
       "dat        val\n",
       "Dataset 1  x      9.000000\n",
       "           y      7.500909\n",
       "Dataset 2  x      9.000000\n",
       "           y      7.500909\n",
       "Dataset 3  x      9.000000\n",
       "           y      7.500000\n",
       "Dataset 4  x      9.000000\n",
       "           y      7.500909\n",
       "dtype: float64"
      ]
     },
     "execution_count": 4,
     "metadata": {},
     "output_type": "execute_result"
    }
   ],
   "source": [
    "data.mean(axis=0) # Calculamos la media de todos los conjuntos de datos"
   ]
  },
  {
   "cell_type": "code",
   "execution_count": 5,
   "id": "3de8ecca",
   "metadata": {},
   "outputs": [
    {
     "data": {
      "text/plain": [
       "dat        val\n",
       "Dataset 1  x      11.000000\n",
       "           y       4.127269\n",
       "Dataset 2  x      11.000000\n",
       "           y       4.127629\n",
       "Dataset 3  x      11.000000\n",
       "           y       4.122620\n",
       "Dataset 4  x      11.000000\n",
       "           y       4.123249\n",
       "dtype: float64"
      ]
     },
     "execution_count": 5,
     "metadata": {},
     "output_type": "execute_result"
    }
   ],
   "source": [
    "data.var(axis=0) # Calculamos la varianza muestral de todos los conjuntos de datos"
   ]
  },
  {
   "cell_type": "code",
   "execution_count": 6,
   "id": "193f7db7",
   "metadata": {},
   "outputs": [
    {
     "data": {
      "text/html": [
       "<div>\n",
       "<style scoped>\n",
       "    .dataframe tbody tr th:only-of-type {\n",
       "        vertical-align: middle;\n",
       "    }\n",
       "\n",
       "    .dataframe tbody tr th {\n",
       "        vertical-align: top;\n",
       "    }\n",
       "\n",
       "    .dataframe thead th {\n",
       "        text-align: right;\n",
       "    }\n",
       "</style>\n",
       "<table border=\"1\" class=\"dataframe\">\n",
       "  <thead>\n",
       "    <tr style=\"text-align: right;\">\n",
       "      <th>val</th>\n",
       "      <th>x</th>\n",
       "      <th>y</th>\n",
       "    </tr>\n",
       "    <tr>\n",
       "      <th>val</th>\n",
       "      <th></th>\n",
       "      <th></th>\n",
       "    </tr>\n",
       "  </thead>\n",
       "  <tbody>\n",
       "    <tr>\n",
       "      <th>x</th>\n",
       "      <td>1.000000</td>\n",
       "      <td>0.816421</td>\n",
       "    </tr>\n",
       "    <tr>\n",
       "      <th>y</th>\n",
       "      <td>0.816421</td>\n",
       "      <td>1.000000</td>\n",
       "    </tr>\n",
       "  </tbody>\n",
       "</table>\n",
       "</div>"
      ],
      "text/plain": [
       "val         x         y\n",
       "val                    \n",
       "x    1.000000  0.816421\n",
       "y    0.816421  1.000000"
      ]
     },
     "execution_count": 6,
     "metadata": {},
     "output_type": "execute_result"
    }
   ],
   "source": [
    "data['Dataset 1'].corr() # Correlación\n",
    "                        # Cambiar el número del dataset"
   ]
  },
  {
   "cell_type": "code",
   "execution_count": 7,
   "id": "dd5fcb08",
   "metadata": {},
   "outputs": [
    {
     "data": {
      "text/plain": [
       "array([[10.],\n",
       "       [ 8.],\n",
       "       [13.],\n",
       "       [ 9.],\n",
       "       [11.],\n",
       "       [14.],\n",
       "       [ 6.],\n",
       "       [ 4.],\n",
       "       [12.],\n",
       "       [ 7.],\n",
       "       [ 5.]])"
      ]
     },
     "execution_count": 7,
     "metadata": {},
     "output_type": "execute_result"
    }
   ],
   "source": [
    "# Convertir los valores en un arreglo columna de numpy\n",
    "X = data.iloc[:, 0].values.reshape(-1, 1)\n",
    "X"
   ]
  },
  {
   "cell_type": "code",
   "execution_count": 8,
   "id": "7d8d8ab5",
   "metadata": {},
   "outputs": [],
   "source": [
    "def regresionLineal(data, i):\n",
    "    X = data.iloc[:, i].values.reshape(-1, 1)   # Vector columna X\n",
    "    Y = data.iloc[:, i+1].values.reshape(-1, 1) # Vector columna Y\n",
    "    \n",
    "#    if i == 4:\n",
    "#        X = np.delete(X, 2).reshape(-1,1)\n",
    "#        Y = np.delete(Y, 2).reshape(-1,1)\n",
    "\n",
    "    linear_regressor = LinearRegression() # Objeto para la regresión lineal\n",
    "    linear_regressor.fit(X, Y)            # Se realiza la regresión lineal\n",
    "    R2 = linear_regressor.score(X,Y)      # Coeficiente de determinación\n",
    "    m = linear_regressor.coef_            # Coeficientes de la regresión\n",
    "    b = linear_regressor.intercept_       # lineal y = mx + b \n",
    "\n",
    "    X_pred = np.arange(0,21,1)\n",
    "    X_pred.shape = (-1,1) # vector columna\n",
    "    Y_pred = linear_regressor.predict(X_pred)  # Se realiza la predicción\n",
    "    \n",
    "    return X, Y, X_pred, Y_pred, R2, m[0][0], b[0]"
   ]
  },
  {
   "cell_type": "code",
   "execution_count": 9,
   "id": "77d744a7",
   "metadata": {},
   "outputs": [
    {
     "name": "stdout",
     "output_type": "stream",
     "text": [
      "R2 = 0.666 \t m = 0.500 \t b = 3.002\n"
     ]
    }
   ],
   "source": [
    "# Cálculo de la regresión para el Dataset 1\n",
    "X, Y, X_pred, Y_pred, R2, m, b = regresionLineal(data, 4)\n",
    "print('R2 = {:0.3f} \\t m = {:0.3f} \\t b = {:0.3f}'.format(R2, m, b))"
   ]
  },
  {
   "cell_type": "code",
   "execution_count": 10,
   "id": "9cfccd9d",
   "metadata": {},
   "outputs": [
    {
     "name": "stdout",
     "output_type": "stream",
     "text": [
      "Dataset 1 : R2 = 0.667 \t m = 0.500 \t b = 3.000\n",
      "Dataset 2 : R2 = 0.666 \t m = 0.500 \t b = 3.001\n",
      "Dataset 3 : R2 = 0.666 \t m = 0.500 \t b = 3.002\n",
      "Dataset 4 : R2 = 0.667 \t m = 0.500 \t b = 3.002\n"
     ]
    }
   ],
   "source": [
    "# Cálculo de la regresión para todo los Dataset's\n",
    "for i in range(0,7,2):\n",
    "    X, Y, X_pred, Y_pred, R2, m, b = regresionLineal(data, i)\n",
    "    print('Dataset {:} : R2 = {:0.3f} \\t m = {:0.3f} \\t b = {:0.3f}'.format(i//2+1, R2, m, b))"
   ]
  },
  {
   "cell_type": "markdown",
   "id": "3a6dfa39-fd12-4ba2-998f-2deb4da279dc",
   "metadata": {},
   "source": [
    "**¿Qué se puede decir de estos resultados?**"
   ]
  },
  {
   "cell_type": "code",
   "execution_count": 11,
   "id": "46ad417e",
   "metadata": {},
   "outputs": [
    {
     "data": {
      "image/png": "[encoded data removed]",
      "text/plain": [
       "<Figure size 1120x640 with 4 Axes>"
      ]
     },
     "metadata": {},
     "output_type": "display_data"
    }
   ],
   "source": [
    "import matplotlib.pyplot as plt\n",
    "params = {'legend.fontsize': 16,\n",
    "         'axes.labelsize':16,\n",
    "         'axes.titlesize':16,\n",
    "         'xtick.labelsize':16,\n",
    "         'ytick.labelsize':16}\n",
    "plt.rcParams.update(params)\n",
    "\n",
    "fig, axes = plt.subplots(nrows=2, ncols=2, figsize=(14,8))\n",
    "\n",
    "num = 1\n",
    "for a in axes:\n",
    "    for ax in a:\n",
    "        X, Y, X_pred, Y_pred, R2, m, b = regresionLineal(data, (num - 1)*2)\n",
    "        ax.scatter(X, Y, marker = 'o', c='orange', s=75, edgecolor='red')\n",
    "        leyenda = 'R2 : {:0.3f}, m : {:0.3f}, b : {:0.3f}'.format(R2, m, b)\n",
    "        ax.plot(X_pred, Y_pred, lw=2.0, label=leyenda)\n",
    "        ax.set_xlim(2,20)\n",
    "        ax.set_aspect(aspect=1.0)\n",
    "        ax.set_xlabel('x')\n",
    "        ax.set_ylabel('y')\n",
    "        ax.set_title('Dataset {}'.format(num))\n",
    "        ax.legend()\n",
    "        num += 1\n",
    "plt.tight_layout()\n",
    "plt.savefig('anscombe.png', dpi=300)\n"
   ]
  },
  {
   "cell_type": "markdown",
   "id": "9b07cd50-788f-4e95-a6cb-63ef3f8bcbb8",
   "metadata": {},
   "source": [
    "**¿Qué puede decir de estos gráficos**\n",
    "\n",
    "- Gráfica del Dataset 1: relación lineal simple entre dos variables correlacionadas.\n",
    "- Gráfica del Dataset 2: se observa una relación entre $x$ y $y$ pero no parece ser lineal.\n",
    "- Gráfica del Dataset 3: relación lineal pero la regresión obtenida se ve afectada por el dato extremo que influye en el resultado final y altera el coeficiente de correlación de 1 a 0.816.\n",
    "- Gráfica del Dataset 4: se muestra como un valor atípico es suficiente para producir un coeficiente de correlación alto, aún cuando la relación entre las variables no es lineal.\n",
    "\n",
    "Este cuarteto es usado todavía en la actualidad para ilustrar la importancia de graficar los datos antes de realizar cualquier análisis estadístico. También se muestra el efecto de los valores atípicos. \n",
    "\n",
    "La intención fue cambiar la impresión de que **“los cálculos numéricos son exactos, pero los gráficos aproximados”**.\n",
    "\n",
    "<a href='https://es.wikipedia.org/wiki/Edward_Tufte'>Edward Tufte</a> usó el cuarteto en la primera página del primer capítulo de su libro <a href='https://archive.org/details/visualdisplayofq00tuft/mode/2up'>*The Visual Display of Quantitative Information*</a>, para enfatizar la importancia de mirar los datos antes de analizarlos. "
   ]
  },
  {
   "cell_type": "code",
   "execution_count": null,
   "id": "5b749df4",
   "metadata": {},
   "outputs": [],
   "source": []
  }
 ],
 "metadata": {
  "kernelspec": {
   "display_name": "Python 3 (ipykernel)",
   "language": "python",
   "name": "python3"
  },
  "language_info": {
   "codemirror_mode": {
    "name": "ipython",
    "version": 3
   },
   "file_extension": ".py",
   "mimetype": "text/x-python",
   "name": "python",
   "nbconvert_exporter": "python",
   "pygments_lexer": "ipython3",
   "version": "3.12.3"
  }
 },
 "nbformat": 4,
 "nbformat_minor": 5
}
