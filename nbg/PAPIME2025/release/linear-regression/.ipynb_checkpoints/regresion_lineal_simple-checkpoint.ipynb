{
 "cells": [
  {
   "cell_type": "markdown",
   "id": "1ada6523",
   "metadata": {},
   "source": [
    "**Proyecto PAPIME PE106025**"
   ]
  },
  {
   "cell_type": "markdown",
   "id": "e337cdcf",
   "metadata": {},
   "source": [
    "<div class=\"alert alert-block alert-info\">\n",
    "\n",
    "**Instrucciones.**\n",
    "\n",
    "1. Antes de comenzar reinicia el kernel. En la barra de menu selecciona:\n",
    "    - `Kernel` $\\rightarrow$ `Restart Kernel and Clear Outputs of All Cells...`\n",
    "2. Ejecuta todas las celdas de código como se indica en la notebook.\n",
    "    - Para ejecutar una celda haz clic en ella y luego presiona las teclas `<Shift> + <Enter>`.\n",
    "3. Asegurate de realizar todos los ejercicios y escribir los códigos donde encuentres el texto: `YOUR CODE HERE`.\n",
    "    - No olvides comentar o eliminar las líneas de código que dicen:\n",
    "        + `raise NotImplementedError()`\n",
    "4. NO DUPLIQUES CELDAS. Si necesitas realizar algunas pruebas, abre una nueva celda y copia ahí el código que deseas probar.\n",
    "    - Algunas celdas solo con de tipo READ ONLY por lo que no podrás modificarlas. Si deseas probar código de esas celdas, puedes abrir una nueva celda y copiar el código en esta útlima para hacer tus pruebas.\n",
    "  \n",
    "5. Para evaluar tus respuestas, ejecuta las celdas que contienen código como el siguiente:\n",
    "    - `quiz.eval_numeric('1', 𝑥𝑚_1)`\n",
    "    - Estas celdas te dirán si el trabajo está correctamente realizado y en caso de error te avisará y te dará algunas pistas.  \n",
    "6. Si las cosas se complican y obtienes muchos errores que no se pueden solucionar, regresa al paso 1 y vuelve a comenzar. ¡No te preocupes!, tu trabajo estará a salvo, solo se reiniciará el kernel para eliminar de la memoria la basura acumulada.\n",
    "</div>"
   ]
  },
  {
   "cell_type": "markdown",
   "id": "9de7a734",
   "metadata": {},
   "source": [
    "---"
   ]
  },
  {
   "cell_type": "markdown",
   "id": "05920898",
   "metadata": {
    "deletable": false,
    "editable": false,
    "nbgrader": {
     "cell_type": "markdown",
     "checksum": "f1b560930e1c86e003442ec0bff89fc1",
     "grade": false,
     "grade_id": "cell-e5c6d0d2cb469069",
     "locked": true,
     "schema_version": 3,
     "solution": false,
     "task": false
    },
    "slideshow": {
     "slide_type": "slide"
    }
   },
   "source": [
    "# Regresión lineal."
   ]
  },
  {
   "cell_type": "markdown",
   "id": "2b434eb5-e4bc-4796-9dea-9e43c4f5760b",
   "metadata": {
    "deletable": false,
    "editable": false,
    "nbgrader": {
     "cell_type": "markdown",
     "checksum": "91fa13f33093105f9824e5d4c638d861",
     "grade": false,
     "grade_id": "cell-d7da176a64269906",
     "locked": true,
     "schema_version": 3,
     "solution": false,
     "task": false
    }
   },
   "source": [
    "## Introducción\n",
    "\n",
    "El concepto de regresión está relacionado con **intentar realizar predicciones acerca de cantidades del mundo real**. Por ejemplo, tratar de responder las siguientes preguntas:\n",
    "\n",
    "* ¿Si cambio el precio de un producto, cómo cambiará el volumen de las ventas?\n",
    "* ¿Cómo es que estas ventas pueden verse afectadas por el cambio en el clima?\n",
    "* ¿A qué hora debo viajar para evitar carga en el tránsito vehicular? ¿y si llueve, cómo cambia el tránsito?\n",
    "* ¿Cuál es la probabilidad de que llueva en ciertos días de un cierto mes del año?\n",
    "\n",
    "La(s) respuesta(s) a estas preguntas se pueden construir como una combinanción de una o más variables (independientes). El papel de la regresión es **construir un modelo que pueda predecir la respuesta con base en esas variables**. Este proceso involucra la transición de los datos hacia un modelo de predicción.\n",
    "\n",
    "El modelo de predicción puede ser útil para diferentes tareas, tales como:\n",
    "\n",
    "1. Analizar el comportamiento de los datos (la relación entre la respuesta y las variables).\n",
    "2. Predecir valores en los datos (ya sea continuos o discretos).\n",
    "3. Encontrar variables importantes en el modelo (cuáles de ellas tienen más impacto).\n",
    "\n",
    "Existen varios tipos de regresión conocidos como regresión lineal simple, lineal múltiple o logística. \n",
    "\n",
    "En esta notebook veremos ejemplos de regresión lineal simple.\n"
   ]
  },
  {
   "cell_type": "markdown",
   "id": "b6bd74ef-1d41-4395-b82f-09124e6b2aef",
   "metadata": {
    "deletable": false,
    "editable": false,
    "nbgrader": {
     "cell_type": "markdown",
     "checksum": "4aba0ac0142f848e56581bae6f8d7ad8",
     "grade": false,
     "grade_id": "cell-91d9c605564c5678",
     "locked": true,
     "schema_version": 3,
     "solution": false,
     "task": false
    }
   },
   "source": [
    "<div class=\"alert alert-info\">\n",
    "\n",
    "## Definición de datos.\n",
    "\n",
    "Considera los siguientes cuatro conjuntos de datos.\n",
    "\n",
    "|`   ` Dataset 1||`   ` Dataset 2||`   ` Dataset 3||`   ` Dataset 4||\n",
    "|:---:|:-----:|:----:|:----:|:----:|:-----:|:----:|:-----:|\n",
    "| $x$ |  $y$  | $x$  | $y$  |  $x$ |  $y$  | $x$  |  $y$  |\n",
    "|10.0 | 8.04  | 10.0 | 9.14 | 10.0 | 7.46  | 8.0  | 6.58  |\n",
    "|8.0  | 6.95  | 8.0  | 8.14 | 8.0  | 6.77  | 8.0  | 5.76  |\n",
    "|13.0 | 7.58  | 13.0 | 8.74 | 13.0 | 12.74 | 8.0  | 7.71  |\n",
    "|9.0  | 8.81  | 9.0  | 8.77 | 9.0  | 7.11  | 8.0  | 8.84  |\n",
    "|11.0 | 8.33  | 11.0 | 9.26 | 11.0 | 7.81  | 8.0  | 8.47  |\n",
    "|14.0 | 9.96  | 14.0 | 8.10 | 14.0 | 8.84  | 8.0  | 7.04  |\n",
    "|6.0  | 7.24  | 6.0  | 6.13 | 6.0  | 6.08  | 8.0  | 5.25  |\n",
    "|4.0  | 4.26  | 4.0  | 3.10 | 4.0  | 5.39  | 19.0 | 12.50 |\n",
    "|12.0 | 10.84 | 12.0 | 9.13 | 12.0 | 8.15  | 8.0  | 5.56  |\n",
    "|7.0  | 4.82  | 7.0  | 7.26 | 7.0  | 6.42  | 8.0  | 7.91  |\n",
    "|5.0  | 5.68  | 5.0  | 4.74 | 5.0  | 5.73  | 8.0  | 6.89  |\n",
    "\n",
    "donde $x$ es la variable independiente y $y$ es la respuesta (variable dependiente).\n",
    "\n",
    "Estos cuatro conjuntos de datos se conocen cómo  [Anscombe's quartet](https://en.wikipedia.org/wiki/Anscombe%27s_quartet).\n",
    "Los cuatro conjuntos tienen las mismas propiedades estadísticas:\n",
    "\n",
    "| Propiedad | Valor   |\n",
    "|---:|---|\n",
    "| Media $\\bar{x}$ | 9     |\n",
    "| Media $\\bar{y}$ | 7.50  |\n",
    "| Varianza muestral $s_x^2$   | 11    |\n",
    "| Varianza muestral $s_y^2$   | 4.125 |\n",
    "| Correlación entre $x$ y $y$ | 0.816 |\n",
    "| Regresión lineal | $y$ = 3.00 + 0.500$x$ |\n",
    "| Coef. de determinación $R^{2}$ | 0.67 |\n",
    "\n",
    "Referencia: Anscombe, F. J. (1973). \"Graphs in Statistical Analysis\". The American Statistician. 27 (1): 17–21. doi:10.2307/2682899. JSTOR 2682899. \n",
    "</div>"
   ]
  },
  {
   "cell_type": "markdown",
   "id": "4e967de6-5763-4226-afc8-4ee47cf53b8f",
   "metadata": {
    "deletable": false,
    "editable": false,
    "nbgrader": {
     "cell_type": "markdown",
     "checksum": "a7bf36da5fbf5729595181bf9bc0212c",
     "grade": false,
     "grade_id": "cell-8e23cb980b892144",
     "locked": true,
     "schema_version": 3,
     "solution": false,
     "task": false
    }
   },
   "source": [
    "<div class=\"alert alert-success\">\n",
    "\n",
    "### Ejercicio 1.\n",
    "\n",
    "Leer el archivo `AnscombeQuartet.csv` e imprimir el conjunto de datos usando el siguiente código:\n",
    "\n",
    "```python\n",
    "datos = pd.read_csv(\"AnscombeQuartet.csv\")\n",
    "datos\n",
    "```\n",
    "</div>"
   ]
  },
  {
   "cell_type": "code",
   "execution_count": null,
   "id": "012533d5-c590-4c6e-a238-0ed613e5858a",
   "metadata": {
    "deletable": false,
    "editable": false,
    "nbgrader": {
     "cell_type": "code",
     "checksum": "56d371379d898e9f9991d4ee506b177c",
     "grade": false,
     "grade_id": "cell-590e8325f37467aa",
     "locked": true,
     "schema_version": 3,
     "solution": false,
     "task": false
    }
   },
   "outputs": [],
   "source": [
    "# Ejecuta esta celda para importar las bibliotecas que usaremos en este ejemplo.\n",
    "import pandas as pd\n",
    "import numpy as np\n",
    "import matplotlib.pyplot as plt\n",
    "from macti.eval import Quiz \n",
    "quiz = Quiz(\"reg_lin_1\", \"PAPIME2025\")"
   ]
  },
  {
   "cell_type": "code",
   "execution_count": null,
   "id": "57ee03df-a71d-4faf-a9a4-2e893992c594",
   "metadata": {
    "deletable": false,
    "nbgrader": {
     "cell_type": "code",
     "checksum": "fdeb8f24fcc1b482a9c75012d0ca9e70",
     "grade": false,
     "grade_id": "cell-651db6fad2488ad1",
     "locked": false,
     "schema_version": 3,
     "solution": true,
     "task": false
    }
   },
   "outputs": [],
   "source": [
    "# Copia aquí el código para la lectura de los datos.\n",
    "# YOUR CODE HERE\n",
    "raise NotImplementedError()"
   ]
  },
  {
   "cell_type": "markdown",
   "id": "72e54b8e-fa32-4c24-bbcd-009e8cd38072",
   "metadata": {
    "deletable": false,
    "editable": false,
    "nbgrader": {
     "cell_type": "markdown",
     "checksum": "e4c099904ca6aade83c3f85cd92d2f81",
     "grade": false,
     "grade_id": "cell-8c1c5710c51a2841",
     "locked": true,
     "schema_version": 3,
     "solution": false,
     "task": false
    }
   },
   "source": [
    "## Media y varianza\n",
    "\n",
    "Dados los $n$ números $\\{x_{1},x_{2},\\ldots ,x_{n}\\}$, la media se define como:\n",
    "\n",
    "$$\n",
    "\\bar{x}={\\frac{1}{n}}\\sum_{i=1}^{n}x_{i}\n",
    "$$\n",
    "\n",
    "\n",
    "y la varianza muestral se define como:\n",
    "\n",
    "$$\n",
    "s_x^2 = \\frac{1}{n-1} \\sum_{i=1}^{n} (x_i - \\bar{x})^2\n",
    "$$\n",
    "\n",
    "Ejecuta la siguiente celda para definir las funciones `media(X)` y `varianza(X)` que implementan las dos fórmulas anteriores."
   ]
  },
  {
   "cell_type": "code",
   "execution_count": null,
   "id": "a7d8d56d-6405-49f1-a574-d47ff85f6445",
   "metadata": {
    "deletable": false,
    "editable": false,
    "nbgrader": {
     "cell_type": "code",
     "checksum": "caedad0cc169a4ac5d46895d52daa25b",
     "grade": false,
     "grade_id": "cell-a158b53919f22540",
     "locked": true,
     "schema_version": 3,
     "solution": false,
     "task": false
    }
   },
   "outputs": [],
   "source": [
    "def media(X):\n",
    "    suma = 0\n",
    "    for xi in X:\n",
    "        suma += xi\n",
    "    \n",
    "    return suma / len(X)\n",
    "\n",
    "def varianza(X):\n",
    "    𝑥𝑚 = media(X)\n",
    "    suma = 0\n",
    "    for xi in X:\n",
    "        suma += (xi - 𝑥𝑚)**2\n",
    "    \n",
    "    return suma / (len(X)-1)"
   ]
  },
  {
   "cell_type": "markdown",
   "id": "d6f9a484-6fd0-4d4a-a7f9-4b2a91c987bb",
   "metadata": {
    "deletable": false,
    "editable": false,
    "nbgrader": {
     "cell_type": "markdown",
     "checksum": "8df0c86fa5057e0f3e0512607956d17d",
     "grade": false,
     "grade_id": "cell-957d70532357b524",
     "locked": true,
     "schema_version": 3,
     "solution": false,
     "task": false
    }
   },
   "source": [
    "<div class=\"alert alert-success\">\n",
    "\n",
    "### Ejercicio 2.\n",
    "Usando la funciones `media(X)` y `varianza(Y)`, calcula la media y la varianza de $x$ y $y$ para cada uno de los conjuntos de datos (*Datasets*).\n",
    "\n",
    "Por ejemplo:\n",
    "\n",
    "```python\n",
    "# Dataset 1\n",
    "𝑥𝑚_1 = media(datos.x1)\n",
    "𝑦𝑚_1 = media(datos.y1)\n",
    "𝑠𝟸𝑥_1 = varianza(datos.x1)\n",
    "𝑠𝟸𝑦_1 = varianza(datos.y1)\n",
    "\n",
    "print(f\" 𝑥𝑚_1 = {𝑥𝑚_1:>5.2f}\")\n",
    "print(f\" 𝑦𝑚_1 = {𝑦𝑚_1:>5.2f}\")\n",
    "print(f\" 𝑠𝑥_1 = {𝑠𝟸𝑥_1:>6.3f}\")\n",
    "print(f\" 𝑠𝑦_1 = {𝑠𝟸𝑦_1:>6.3f}\\n\")\n",
    "\n",
    "# Dataset 2\n",
    "...\n",
    "```\n",
    "\n",
    "<br>\n",
    "\n",
    "Completa el código para todos los *Datasets* y comprueba que la media y la varianza tienen los valores mencionados por Anscombe.\n",
    "\n",
    "</div>"
   ]
  },
  {
   "cell_type": "code",
   "execution_count": null,
   "id": "e9787987-7bb1-4582-a186-06ce9a7cd511",
   "metadata": {
    "deletable": false,
    "nbgrader": {
     "cell_type": "code",
     "checksum": "c8bf81ac1d8b4df4e537efd00f499d4b",
     "grade": false,
     "grade_id": "cell-41f12092dd88d7b7",
     "locked": false,
     "schema_version": 3,
     "solution": true,
     "task": false
    }
   },
   "outputs": [],
   "source": [
    "# Calcula e imprime la media y la varianza.\n",
    "# Dataset 1\n",
    "# YOUR CODE HERE\n",
    "raise NotImplementedError()"
   ]
  },
  {
   "cell_type": "code",
   "execution_count": null,
   "id": "8ae051de-b7f1-449a-83c3-805febcbd3bb",
   "metadata": {
    "deletable": false,
    "editable": false,
    "nbgrader": {
     "cell_type": "code",
     "checksum": "4aa7ec20999c20be74258e6b3f215036",
     "grade": true,
     "grade_id": "cell-eaee200cdf757c8a",
     "locked": true,
     "points": 4,
     "schema_version": 3,
     "solution": false,
     "task": false
    }
   },
   "outputs": [],
   "source": [
    "# Evaluación de los resultados para el Dataset 1\n",
    "quiz.eval_numeric('1', 𝑥𝑚_1)\n",
    "quiz.eval_numeric('2', 𝑦𝑚_1)\n",
    "quiz.eval_numeric('3', 𝑠𝟸𝑥_1)\n",
    "quiz.eval_numeric('4', 𝑠𝟸𝑦_1)"
   ]
  },
  {
   "cell_type": "code",
   "execution_count": null,
   "id": "3e0265db-26fb-4279-a251-81ae02dcf4fd",
   "metadata": {
    "deletable": false,
    "nbgrader": {
     "cell_type": "code",
     "checksum": "438834d2cdc5a0941efee0343b0dc764",
     "grade": false,
     "grade_id": "cell-f0d5cd50d677d1c3",
     "locked": false,
     "schema_version": 3,
     "solution": true,
     "task": false
    }
   },
   "outputs": [],
   "source": [
    "# Dataset 2\n",
    "# YOUR CODE HERE\n",
    "raise NotImplementedError()"
   ]
  },
  {
   "cell_type": "code",
   "execution_count": null,
   "id": "2535c375-83c4-4d66-94a5-efd35f3612c1",
   "metadata": {
    "deletable": false,
    "editable": false,
    "nbgrader": {
     "cell_type": "code",
     "checksum": "6c923c764e280bef06daba1b57e3db6b",
     "grade": true,
     "grade_id": "cell-ac86307eaed51ca9",
     "locked": true,
     "points": 4,
     "schema_version": 3,
     "solution": false,
     "task": false
    }
   },
   "outputs": [],
   "source": [
    "# Evaluación de los resultados para el Dataset 2\n",
    "quiz.eval_numeric('5', 𝑥𝑚_2)\n",
    "quiz.eval_numeric('6', 𝑦𝑚_2)\n",
    "quiz.eval_numeric('7', 𝑠𝟸𝑥_2)\n",
    "quiz.eval_numeric('8', 𝑠𝟸𝑦_2)"
   ]
  },
  {
   "cell_type": "code",
   "execution_count": null,
   "id": "dc34d8e0-75a3-44fc-9aef-60e0e37d866e",
   "metadata": {
    "deletable": false,
    "nbgrader": {
     "cell_type": "code",
     "checksum": "9640a6ea371ca27c3d7bad394a014553",
     "grade": false,
     "grade_id": "cell-3412d7ac8ac8416c",
     "locked": false,
     "schema_version": 3,
     "solution": true,
     "task": false
    }
   },
   "outputs": [],
   "source": [
    "# Dataset 3\n",
    "# YOUR CODE HERE\n",
    "raise NotImplementedError()"
   ]
  },
  {
   "cell_type": "code",
   "execution_count": null,
   "id": "38aac954-3777-4ca2-a0df-8770ad927f3c",
   "metadata": {
    "deletable": false,
    "editable": false,
    "nbgrader": {
     "cell_type": "code",
     "checksum": "9dd0458b47c16c10c9e69ab05616aca1",
     "grade": true,
     "grade_id": "cell-70e0d81401b3136f",
     "locked": true,
     "points": 4,
     "schema_version": 3,
     "solution": false,
     "task": false
    }
   },
   "outputs": [],
   "source": [
    "# Evaluación de los resultados para el Dataset 3\n",
    "quiz.eval_numeric('9', 𝑥𝑚_3)\n",
    "quiz.eval_numeric('10', 𝑦𝑚_3)\n",
    "quiz.eval_numeric('11', 𝑠𝟸𝑥_3)\n",
    "quiz.eval_numeric('12', 𝑠𝟸𝑦_3)"
   ]
  },
  {
   "cell_type": "code",
   "execution_count": null,
   "id": "39ac5e32-ad5b-4e0d-8166-3e34ba005f86",
   "metadata": {
    "deletable": false,
    "nbgrader": {
     "cell_type": "code",
     "checksum": "18467ad69c814eb18c194eeee8d28838",
     "grade": false,
     "grade_id": "cell-1c0a1de3361b2431",
     "locked": false,
     "schema_version": 3,
     "solution": true,
     "task": false
    }
   },
   "outputs": [],
   "source": [
    "# Dataset 4\n",
    "# YOUR CODE HERE\n",
    "raise NotImplementedError()"
   ]
  },
  {
   "cell_type": "code",
   "execution_count": null,
   "id": "c803d71f-72e9-4a19-b2aa-54e0c5b794d3",
   "metadata": {
    "deletable": false,
    "editable": false,
    "nbgrader": {
     "cell_type": "code",
     "checksum": "1fc2d566c9d17b2340edabfa10ed576c",
     "grade": true,
     "grade_id": "cell-35308b3b6110c263",
     "locked": true,
     "points": 4,
     "schema_version": 3,
     "solution": false,
     "task": false
    }
   },
   "outputs": [],
   "source": [
    "# Evaluación de los resultados para el Dataset 4\n",
    "quiz.eval_numeric('13', 𝑥𝑚_4)\n",
    "quiz.eval_numeric('14', 𝑦𝑚_4)\n",
    "quiz.eval_numeric('15', 𝑠𝟸𝑥_4)\n",
    "quiz.eval_numeric('16', 𝑠𝟸𝑦_4)"
   ]
  },
  {
   "cell_type": "markdown",
   "id": "62606b71-f083-49c4-bfdc-5fe9c3e8a4b6",
   "metadata": {
    "deletable": false,
    "editable": false,
    "nbgrader": {
     "cell_type": "markdown",
     "checksum": "aff39e18bc1499861627fa11b12ec371",
     "grade": false,
     "grade_id": "cell-0615345cefdaf924",
     "locked": true,
     "schema_version": 3,
     "solution": false,
     "task": false
    }
   },
   "source": [
    "## Covarianza.\n",
    "\n",
    "La covarianza entre las variables $x$ y $y$ se define como sigue:\n",
    "\n",
    "$$\n",
    "S_{xy} = \\frac{1}{n-1} \\sum_{i=1}^{n} (x_i - \\bar{x})(y_i - \\bar{y})\n",
    "$$\n",
    "\n",
    "Ejecuta la siguiente celda de código para definir la función `covarianza(X)` que implementa la fórmula anterior."
   ]
  },
  {
   "cell_type": "code",
   "execution_count": null,
   "id": "4df7fac8-253a-47f4-a0f3-ce6d0e815673",
   "metadata": {
    "deletable": false,
    "editable": false,
    "nbgrader": {
     "cell_type": "code",
     "checksum": "01c598b7dbdc15ae6db2e6e7d97f17ed",
     "grade": false,
     "grade_id": "cell-9210a0741984d6ba",
     "locked": true,
     "schema_version": 3,
     "solution": false,
     "task": false
    }
   },
   "outputs": [],
   "source": [
    "def covarianza(X, Y):\n",
    "    𝑥𝑚 = media(X)\n",
    "    𝑦𝑚 = media(Y)\n",
    "    suma = 0.0  \n",
    "    for xi, yi in zip(X, Y):\n",
    "        suma += (xi - 𝑥𝑚) * (yi - 𝑦𝑚)\n",
    "    \n",
    "    return suma / (len(X)-1)"
   ]
  },
  {
   "cell_type": "markdown",
   "id": "755b5ffd-241a-4c4b-948d-327f9b26b650",
   "metadata": {
    "deletable": false,
    "editable": false,
    "nbgrader": {
     "cell_type": "markdown",
     "checksum": "db2db1a6c909117e5d20b576a250bab7",
     "grade": false,
     "grade_id": "cell-2f5d42d5da8c24ed",
     "locked": true,
     "schema_version": 3,
     "solution": false,
     "task": false
    }
   },
   "source": [
    "<div class=\"alert alert-success\">\n",
    "\n",
    "### Ejercicio 3. \n",
    "\n",
    "Calcula la covarianza entre $x$ y $y$ de cada conjunto de datos usando la función `covarianza(X, Y)`. Por ejemplo:\n",
    "\n",
    "```python\n",
    "𝑆𝑥𝑦_1 = covarianza(datos.x1, datos.y1)\n",
    "\n",
    "print(f\" 𝑆𝑥𝑦_1 = {𝑆𝑥𝑦_1:>5.2f}\")\n",
    "```\n",
    "<br>\n",
    "Completa el código para cada conjunto de datos y verifica que en todos los casos la covarianza es igual a $5.50$.\n",
    "</div>"
   ]
  },
  {
   "cell_type": "code",
   "execution_count": null,
   "id": "4de9fe57-8c81-4352-bfb7-56d8648c43bf",
   "metadata": {
    "deletable": false,
    "nbgrader": {
     "cell_type": "code",
     "checksum": "285b1b9091ed5fde9fb41adc07654a46",
     "grade": false,
     "grade_id": "cell-30bddee2ce7d8c93",
     "locked": false,
     "schema_version": 3,
     "solution": true,
     "task": false
    }
   },
   "outputs": [],
   "source": [
    "# Calcula la covarianza entre las variables 'x' y 'y' de los cuatro conjuntos de datos\n",
    "# YOUR CODE HERE\n",
    "raise NotImplementedError()"
   ]
  },
  {
   "cell_type": "code",
   "execution_count": null,
   "id": "e8331fac-fd2e-4090-b18f-2a2ca15e8d4b",
   "metadata": {
    "deletable": false,
    "editable": false,
    "nbgrader": {
     "cell_type": "code",
     "checksum": "58396f006c33a7320a2913a9d29f6698",
     "grade": true,
     "grade_id": "cell-e93a9d03711255bf",
     "locked": true,
     "points": 4,
     "schema_version": 3,
     "solution": false,
     "task": false
    }
   },
   "outputs": [],
   "source": [
    "# Evaluación del cálculo de la covarianza para todos los Datasets\n",
    "quiz.eval_numeric('17', 𝑆𝑥𝑦_1)\n",
    "quiz.eval_numeric('18', 𝑆𝑥𝑦_2)\n",
    "quiz.eval_numeric('19', 𝑆𝑥𝑦_3)\n",
    "quiz.eval_numeric('20', 𝑆𝑥𝑦_4)"
   ]
  },
  {
   "cell_type": "markdown",
   "id": "44ed46eb-68b2-4883-9b8f-69295fb6986d",
   "metadata": {
    "deletable": false,
    "editable": false,
    "nbgrader": {
     "cell_type": "markdown",
     "checksum": "5182df89fd6f5efffc249c0b587e365b",
     "grade": false,
     "grade_id": "cell-4df81afd054ef15d",
     "locked": true,
     "schema_version": 3,
     "solution": false,
     "task": false
    }
   },
   "source": [
    "## Correlación.\n",
    "\n",
    "La correlación se define como sigue:\n",
    "\n",
    "$$\\rho_{xy} = \\dfrac{S_{xy}}{s_{x} s_{y}} $$\n",
    "\n",
    "donde $s_{x}$ y $s_{y}$ representan la desviación estándar de $x$ y $y$ respectivamente que se calculan como la raíz cuadrada de la varianza:\n",
    "\n",
    "$$s_{x} = \\sqrt{s_x^2} \\;\\;\\; \\text{y} \\;\\;\\; s_{y} = \\sqrt{s_y^2}$$"
   ]
  },
  {
   "cell_type": "markdown",
   "id": "f32295c8-60ff-4468-b666-9592dfa43294",
   "metadata": {
    "deletable": false,
    "editable": false,
    "nbgrader": {
     "cell_type": "markdown",
     "checksum": "ef72baeb69a5d2f753b52f09a03001a1",
     "grade": false,
     "grade_id": "cell-48ef56a3c27a90be",
     "locked": true,
     "schema_version": 3,
     "solution": false,
     "task": false
    }
   },
   "source": [
    "<div class=\"alert alert-success\">\n",
    "\n",
    "### Ejercicio 4. \n",
    "\n",
    "Calcula la correlación entre $x$ y $y$ de cada conjunto de datos. Por ejemplo:\n",
    "\n",
    "```python\n",
    "𝜌𝑥𝑦_1 = 𝑆𝑥𝑦_1 / (np.sqrt(𝑠𝟸𝑥_1) * np.sqrt(𝑠𝟸𝑦_1) )\n",
    "\n",
    "print(f\" 𝜌𝑥𝑦_1 = {𝜌𝑥𝑦_1:>5.3f}\")\n",
    "```\n",
    "<br>\n",
    "Completa el código para cada conjutno de datos y verifica que en todos los casos la correlación es  $\\approx 0.816$.\n",
    "</div>"
   ]
  },
  {
   "cell_type": "code",
   "execution_count": null,
   "id": "a2126c78-d33c-45ac-b4cb-c7b526850de0",
   "metadata": {
    "deletable": false,
    "nbgrader": {
     "cell_type": "code",
     "checksum": "432667244c50c971144dfd399348d2d6",
     "grade": false,
     "grade_id": "cell-66396ac4759f19e4",
     "locked": false,
     "schema_version": 3,
     "solution": true,
     "task": false
    }
   },
   "outputs": [],
   "source": [
    "# Calcula la correlacion entre las variables 'x' y 'y' de los cuatro conjuntos de datos\n",
    "# YOUR CODE HERE\n",
    "raise NotImplementedError()"
   ]
  },
  {
   "cell_type": "code",
   "execution_count": null,
   "id": "f426b1c2-80d6-45d1-989b-f81aac9e0c1b",
   "metadata": {
    "deletable": false,
    "editable": false,
    "nbgrader": {
     "cell_type": "code",
     "checksum": "f1da9d8decd03c1d3367f1b7f9627791",
     "grade": true,
     "grade_id": "cell-a8696f9ff46fd280",
     "locked": true,
     "points": 4,
     "schema_version": 3,
     "solution": false,
     "task": false
    }
   },
   "outputs": [],
   "source": [
    "# Evaluación del cálculo de la correlación para todos los Datasets\n",
    "quiz.eval_numeric('21', 𝜌𝑥𝑦_1)\n",
    "quiz.eval_numeric('22', 𝜌𝑥𝑦_2)\n",
    "quiz.eval_numeric('23', 𝜌𝑥𝑦_3)\n",
    "quiz.eval_numeric('24', 𝜌𝑥𝑦_4)"
   ]
  },
  {
   "cell_type": "markdown",
   "id": "0479daec-9035-4462-9f4f-12e955f693d4",
   "metadata": {
    "deletable": false,
    "editable": false,
    "nbgrader": {
     "cell_type": "markdown",
     "checksum": "6542a83f05b6503799736e137022f60c",
     "grade": false,
     "grade_id": "cell-0cb75d20e10f4ecb",
     "locked": true,
     "schema_version": 3,
     "solution": false,
     "task": false
    }
   },
   "source": [
    "## Regresión lineal simple.\n",
    "\n",
    "En una regresión lineal simple describe la relación de una variable independiente $x$ con la variable dependiente (respuesta) $y$ mediante el modelo lineal siguiente:\n",
    "\n",
    "$$\n",
    "y = \\beta_0 + \\beta_1 x\n",
    "$$\n",
    "\n",
    "donde $\\beta_{0}$ y $\\beta_{1}$ son constantes desconocidas llamadas coeficientes de regresión. $\\beta_{1}$ es la pendiente de la recta y $\\beta_0$ es la ordenada en el origen. \n",
    "\n",
    "Los parámetros $\\beta_{0}$ y $\\beta_{1}$ se deben estimar mediante los datos de la muestra. Supongamos que tenemos $n$ datos $\\{x_i, y_i\\}$ con $i = 1, \\dots, n$, entonces es posible estimar los parámetros utilizando el **método de mínimos cuadrados**, veáse sección . Estos parámetros se calculan como sigue:\n",
    "\n",
    "\n",
    "$$\n",
    "\\displaystyle \\beta_1 = \\frac{\\sum_{i=1}^n (x_i-\\bar{x})(y_i-\\bar{y})}{\\sum_{i=1}^n (x_i-\\bar{x})^2}\n",
    "\\quad\\text{y}\\quad\n",
    "\\displaystyle \\beta_0 = \\bar{y} - \\beta_1\\bar{x}.\n",
    "$$\n",
    "\n",
    "Observa que $\\beta_1$ se puede calcular en términos de las covarianzas $S_{xy}$ y $S_{xx}$ como sigue:\n",
    "\n",
    "$$\n",
    "\\beta_1=\\dfrac{S_{xy}}{S_{xx}}\n",
    "$$"
   ]
  },
  {
   "cell_type": "markdown",
   "id": "6caee2af-1bac-4566-9db9-cfc0de592525",
   "metadata": {
    "deletable": false,
    "editable": false,
    "nbgrader": {
     "cell_type": "markdown",
     "checksum": "27b084aa7ff550c753a0667132d61cfd",
     "grade": false,
     "grade_id": "cell-90c4d5746ad57491",
     "locked": true,
     "schema_version": 3,
     "solution": false,
     "task": false
    }
   },
   "source": [
    "<div class=\"alert alert-success\">\n",
    "\n",
    "### Ejercicio 5.\n",
    "\n",
    "Calcula los coeficientes $\\beta_0$ y $\\beta_1$ del modelo de regresión lineal simple para los cuatro conjuntos de datos. Por ejemplo\n",
    "\n",
    "```python\n",
    "𝑆𝑥𝑥_1 = covarianza(datos.x1, datos.x1)\n",
    "𝛽𝟷_1 = 𝑆𝑥𝑦_1 / 𝑆𝑥𝑥_1\n",
    "𝛽𝟶_1 = 𝑦𝑚_1 - 𝛽𝟷_1 * 𝑥𝑚_1\n",
    "\n",
    "print(f\" 𝛽𝟶_1 = {𝛽𝟶_1:5.2f}\")\n",
    "print(f\" 𝛽𝟷_1 = {𝛽𝟷_1:5.2f}\\n\")\n",
    "```\n",
    "<br>\n",
    "Completa el código para cada conjunto de datos y verifica que $\\beta_0 = 3.0$ y $\\beta_1 = 0.5$ en todos los casos.\n",
    "\n",
    "</div>"
   ]
  },
  {
   "cell_type": "code",
   "execution_count": null,
   "id": "2e644547-237b-4ca4-9610-48258b53df4c",
   "metadata": {
    "deletable": false,
    "nbgrader": {
     "cell_type": "code",
     "checksum": "bc0369b123078d8ea82d79b3ab17599e",
     "grade": false,
     "grade_id": "cell-da58dcd15e445177",
     "locked": false,
     "schema_version": 3,
     "solution": true,
     "task": false
    }
   },
   "outputs": [],
   "source": [
    "# Calcula los coeficientes 𝛽𝟶 y 𝛽𝟷 de la regresión lineal \n",
    "\n",
    "# Dataset 1\n",
    "# YOUR CODE HERE\n",
    "raise NotImplementedError()"
   ]
  },
  {
   "cell_type": "code",
   "execution_count": null,
   "id": "01e2043a-4699-4228-93e4-64a920aeb616",
   "metadata": {
    "deletable": false,
    "editable": false,
    "nbgrader": {
     "cell_type": "code",
     "checksum": "5db07c80206c831226d4d6be6f31610c",
     "grade": true,
     "grade_id": "cell-ff5aee0c3ddfc130",
     "locked": true,
     "points": 2,
     "schema_version": 3,
     "solution": false,
     "task": false
    }
   },
   "outputs": [],
   "source": [
    "# Evaluación del los coeficientes 𝛽𝟶 y 𝛽𝟷 para el Dataset 1\n",
    "quiz.eval_numeric('25', 𝛽1_1)\n",
    "quiz.eval_numeric('26', 𝛽0_1)"
   ]
  },
  {
   "cell_type": "code",
   "execution_count": null,
   "id": "dfdf1c5d-bf07-4548-a7a4-f86b65756d9f",
   "metadata": {
    "deletable": false,
    "nbgrader": {
     "cell_type": "code",
     "checksum": "7210df5cc1b3f68b0120c5df37d98862",
     "grade": false,
     "grade_id": "cell-633dbb91a433eed9",
     "locked": false,
     "schema_version": 3,
     "solution": true,
     "task": false
    }
   },
   "outputs": [],
   "source": [
    "# Dataset 2\n",
    "# YOUR CODE HERE\n",
    "raise NotImplementedError()"
   ]
  },
  {
   "cell_type": "code",
   "execution_count": null,
   "id": "38385c82-25f2-4167-a6dc-73d680f308db",
   "metadata": {
    "deletable": false,
    "editable": false,
    "nbgrader": {
     "cell_type": "code",
     "checksum": "b9ded5b7516a01d18631d521e59e5a51",
     "grade": true,
     "grade_id": "cell-fb3ce688bd1d0f64",
     "locked": true,
     "points": 2,
     "schema_version": 3,
     "solution": false,
     "task": false
    }
   },
   "outputs": [],
   "source": [
    "# Evaluación del los coeficientes 𝛽𝟶 y 𝛽𝟷 para el Dataset 2\n",
    "quiz.eval_numeric('27', 𝛽1_2)\n",
    "quiz.eval_numeric('28', 𝛽0_2)"
   ]
  },
  {
   "cell_type": "code",
   "execution_count": null,
   "id": "815807b8-1ab0-43d7-96e6-975d72c4792b",
   "metadata": {
    "deletable": false,
    "nbgrader": {
     "cell_type": "code",
     "checksum": "e93f2487fb752bfb8204612a961bc7b1",
     "grade": false,
     "grade_id": "cell-2d591ebd7a37ba6f",
     "locked": false,
     "schema_version": 3,
     "solution": true,
     "task": false
    }
   },
   "outputs": [],
   "source": [
    "# Dataset 3\n",
    "# YOUR CODE HERE\n",
    "raise NotImplementedError()"
   ]
  },
  {
   "cell_type": "code",
   "execution_count": null,
   "id": "173b77d3-ac0e-418f-9b3a-b4ba928940ff",
   "metadata": {
    "deletable": false,
    "editable": false,
    "nbgrader": {
     "cell_type": "code",
     "checksum": "32086531fca5064693882e72091d36fe",
     "grade": true,
     "grade_id": "cell-6c8a8218cedcbab9",
     "locked": true,
     "points": 2,
     "schema_version": 3,
     "solution": false,
     "task": false
    }
   },
   "outputs": [],
   "source": [
    "# Evaluación del los coeficientes 𝛽𝟶 y 𝛽𝟷 para el Dataset 3\n",
    "quiz.eval_numeric('29', 𝛽1_3)\n",
    "quiz.eval_numeric('30', 𝛽0_3)"
   ]
  },
  {
   "cell_type": "code",
   "execution_count": null,
   "id": "24906fca-889f-4fa1-9eed-9307f96dbd52",
   "metadata": {
    "deletable": false,
    "nbgrader": {
     "cell_type": "code",
     "checksum": "d823484a234c73e0cc096c73f21b266f",
     "grade": false,
     "grade_id": "cell-e3d5990275a6d8e3",
     "locked": false,
     "schema_version": 3,
     "solution": true,
     "task": false
    }
   },
   "outputs": [],
   "source": [
    "# Dataset 4\n",
    "# YOUR CODE HERE\n",
    "raise NotImplementedError()"
   ]
  },
  {
   "cell_type": "code",
   "execution_count": null,
   "id": "41c163fd-6fc9-46b5-8c33-08ffda315826",
   "metadata": {
    "deletable": false,
    "editable": false,
    "nbgrader": {
     "cell_type": "code",
     "checksum": "15f35e84e0def14aac02f53eae3f25b3",
     "grade": true,
     "grade_id": "cell-1c1fe78778ac08f8",
     "locked": true,
     "points": 2,
     "schema_version": 3,
     "solution": false,
     "task": false
    }
   },
   "outputs": [],
   "source": [
    "# Evaluación del los coeficientes 𝛽𝟶 y 𝛽𝟷 para el Dataset 4\n",
    "quiz.eval_numeric('31', 𝛽1_4)\n",
    "quiz.eval_numeric('32', 𝛽0_4)"
   ]
  },
  {
   "cell_type": "markdown",
   "id": "03af2a9a-c2da-489c-8af8-012550d3cd06",
   "metadata": {
    "deletable": false,
    "editable": false,
    "nbgrader": {
     "cell_type": "markdown",
     "checksum": "e4565792f088116bc706c7ac8499aef6",
     "grade": false,
     "grade_id": "cell-22177b944f842717",
     "locked": true,
     "schema_version": 3,
     "solution": false,
     "task": false
    }
   },
   "source": [
    "## Coeficiente de determinación.\n",
    "\n",
    "El coeficiente de determinación $R^2$ mide qué tan bien un modelo se ajusta a los datos. \n",
    "* Valor cercano a $1$ de $R^2$ indica un ajuste excelente.\n",
    "* Valor cercano a $0$ significa un mal ajuste.\n",
    "\n",
    "En el caso particular de una regresión lineal simple $R^2$ se calcula como:\n",
    "\n",
    "$$\n",
    "R^2 = \\dfrac{S_{xy}^2}{s_x^2 s_y^2}\n",
    "$$\n",
    "\n",
    "Observa que en este caso $R^2$ es igual al cuadrado del valor de la correlación $\\rho_{xy}$."
   ]
  },
  {
   "cell_type": "markdown",
   "id": "b0561b41-2eb9-41c7-a38f-6d5268fbb6e5",
   "metadata": {
    "deletable": false,
    "editable": false,
    "nbgrader": {
     "cell_type": "markdown",
     "checksum": "636fa12b82f456355a7c494639a414af",
     "grade": false,
     "grade_id": "cell-1c590f35ed371c1a",
     "locked": true,
     "schema_version": 3,
     "solution": false,
     "task": false
    }
   },
   "source": [
    "<div class=\"alert alert-success\">\n",
    "\n",
    "### Ejercicio 6.\n",
    "\n",
    "Calcula el coeficiente de determinación para cada conjunto de datos. Por ejemplo:\n",
    "\n",
    "```python\n",
    "𝑅𝟸_1 = 𝜌𝑥𝑦_1**2\n",
    "\n",
    "print(f\" 𝑅𝟸_1 = {𝑅𝟸_1:5.2f}\")\n",
    "```\n",
    "\n",
    "<br>\n",
    "Completa el código para cada conjunto de datos y verifica que $R^2 = 0.67$ en todos los casos.\n",
    "</div>"
   ]
  },
  {
   "cell_type": "code",
   "execution_count": null,
   "id": "6eb292d5-8143-464a-84ee-ec076962ffd7",
   "metadata": {
    "deletable": false,
    "nbgrader": {
     "cell_type": "code",
     "checksum": "fa98d503c6abca40225efa329385eed1",
     "grade": false,
     "grade_id": "cell-064e95f28ad16725",
     "locked": false,
     "schema_version": 3,
     "solution": true,
     "task": false
    }
   },
   "outputs": [],
   "source": [
    "# Calcula el coeficiente de determinación R2 para los cuatro conjuntos de datos.\n",
    "# YOUR CODE HERE\n",
    "raise NotImplementedError()"
   ]
  },
  {
   "cell_type": "code",
   "execution_count": null,
   "id": "44605182-f1da-415e-a20b-0954959d2059",
   "metadata": {
    "deletable": false,
    "editable": false,
    "nbgrader": {
     "cell_type": "code",
     "checksum": "78785c5d592fa1c77a6bfac042b55e60",
     "grade": true,
     "grade_id": "cell-ac84ec07321c2b82",
     "locked": true,
     "points": 4,
     "schema_version": 3,
     "solution": false,
     "task": false
    }
   },
   "outputs": [],
   "source": [
    "# Evaluación del cálculo de R2 para todos los Datasets\n",
    "quiz.eval_numeric('33', 𝑅𝟸_1)\n",
    "quiz.eval_numeric('34', 𝑅𝟸_2)\n",
    "quiz.eval_numeric('35', 𝑅𝟸_3)\n",
    "quiz.eval_numeric('36', 𝑅𝟸_4)"
   ]
  },
  {
   "cell_type": "markdown",
   "id": "3a6dfa39-fd12-4ba2-998f-2deb4da279dc",
   "metadata": {
    "deletable": false,
    "editable": false,
    "nbgrader": {
     "cell_type": "markdown",
     "checksum": "5a6c4a614aef2440780e8881a23cb967",
     "grade": false,
     "grade_id": "cell-1d128e2cccbbc362",
     "locked": true,
     "schema_version": 3,
     "solution": false,
     "task": false
    }
   },
   "source": [
    "**¿Qué se puede decir de estos resultados?**"
   ]
  },
  {
   "cell_type": "markdown",
   "id": "b1a11b55",
   "metadata": {
    "deletable": false,
    "editable": false,
    "nbgrader": {
     "cell_type": "markdown",
     "checksum": "017eb4e99a0d60f63dd7a9f604147ee7",
     "grade": false,
     "grade_id": "cell-8da9ef8fd0026999",
     "locked": true,
     "schema_version": 3,
     "solution": false,
     "task": false
    },
    "slideshow": {
     "slide_type": "slide"
    }
   },
   "source": [
    "## Visualización.\n",
    "\n",
    "El proceso de transformar datos crudos en imágenes ayuda a mejorar las interpretaciones de grandes conjuntos de datos y eso permite obtener una perspectiva que podría pasarse por alto si se usarán solamente métodos estadísticos. Veamos como se ven los cuatro conjuntos de datos con el modelo de regresión lineal realizado."
   ]
  },
  {
   "cell_type": "markdown",
   "id": "207be63f-a129-4ef7-b0fc-2d60f50de2e7",
   "metadata": {
    "deletable": false,
    "editable": false,
    "nbgrader": {
     "cell_type": "markdown",
     "checksum": "4f954d21d881ff018a2e61ef3475b3cb",
     "grade": false,
     "grade_id": "cell-1f17b3af90c482f0",
     "locked": true,
     "schema_version": 3,
     "solution": false,
     "task": false
    }
   },
   "source": [
    "<div class=\"alert alert-success\">\n",
    "\n",
    "### Ejercicio 7.\n",
    "\n",
    "Para visualizar los cuatro conjuntos de datos junto con el ajuste del modelo de regresión lineal, ejecuta la siguiente celda y observa el resultado.\n",
    "\n",
    "</div>"
   ]
  },
  {
   "cell_type": "code",
   "execution_count": null,
   "id": "5649f448-8bcb-456b-a3fd-2c9e3c30c988",
   "metadata": {
    "deletable": false,
    "editable": false,
    "nbgrader": {
     "cell_type": "code",
     "checksum": "c03ae05692ec3fe3cbee6ed58a9c3603",
     "grade": false,
     "grade_id": "cell-c039550f62988134",
     "locked": true,
     "schema_version": 3,
     "solution": false,
     "task": false
    }
   },
   "outputs": [],
   "source": [
    "x = np.linspace(0,20,50)\n",
    "\n",
    "y1 = 𝛽𝟶_1 + 𝛽𝟷_1 * x\n",
    "y2 = 𝛽𝟶_2 + 𝛽𝟷_2 * x\n",
    "y3 = 𝛽𝟶_3 + 𝛽𝟷_3 * x\n",
    "y4 = 𝛽𝟶_4 + 𝛽𝟷_4 * x\n",
    "\n",
    "y = [y1, y2, y3, y4]\n",
    "columnas = list(datos.columns)\n",
    "\n",
    "fig, axes = plt.subplots(nrows=2, ncols=2, figsize=(6,6), sharey='row', sharex='col')\n",
    "ax = axes.flatten()\n",
    "\n",
    "for i, (xd, yd) in enumerate(zip(columnas[::2], columnas[1::2])):\n",
    "    ax[i].plot(x, y[i], c = \"mediumblue\", lw=2, label = \"Regresión lineal\")\n",
    "    ax[i].scatter(datos[xd], datos[yd], marker = 'o', s=40, \n",
    "                  fc='orange', ec='red', alpha = 0.75,  zorder=5, label=\"Datos\")\n",
    "    ax[i].set_xlim(0,20)\n",
    "    ax[i].set_ylim(0,15)\n",
    "    ax[i].set_aspect(\"equal\")\n",
    "    if i > 1:\n",
    "        ax[i].set_xlabel(\"x\")\n",
    "    if not i % 2:\n",
    "        ax[i].set_ylabel(\"y\")\n",
    "    ax[i].set_title(f\"Dataset {i+1}\", fontsize=10)\n",
    "    ax[i].grid()\n",
    "    ax[i].legend(loc=\"lower right\", fontsize=8)\n",
    "\n",
    "plt.tight_layout()\n",
    "plt.show()"
   ]
  },
  {
   "cell_type": "markdown",
   "id": "9b07cd50-788f-4e95-a6cb-63ef3f8bcbb8",
   "metadata": {
    "deletable": false,
    "editable": false,
    "nbgrader": {
     "cell_type": "markdown",
     "checksum": "423dcf0e44d02be1d06dd7aa5de27e9a",
     "grade": false,
     "grade_id": "cell-a7fae9febd62b5b1",
     "locked": true,
     "schema_version": 3,
     "solution": false,
     "task": false
    }
   },
   "source": [
    "**Observaciones**.\n",
    "\n",
    "- Gráfica del Dataset 1: relación lineal simple entre dos variables correlacionadas.\n",
    "- Gráfica del Dataset 2: se observa una relación entre $x$ y $y$ pero no parece ser lineal.\n",
    "- Gráfica del Dataset 3: relación lineal pero la regresión obtenida se ve afectada por un valor atípico (*outlier*) que influye en el resultado final y altera el coeficiente de correlación de 1 a 0.816.\n",
    "- Gráfica del Dataset 4: se muestra como un valor atípico es suficiente para producir un coeficiente de correlación alto, aún cuando la relación entre las variables no es lineal."
   ]
  },
  {
   "cell_type": "markdown",
   "id": "e7547b09-d252-4d33-8900-553369d9a222",
   "metadata": {
    "deletable": false,
    "editable": false,
    "nbgrader": {
     "cell_type": "markdown",
     "checksum": "93745e28042dc806ac090974ef2d5a70",
     "grade": false,
     "grade_id": "cell-1919f3b7e834cf8a",
     "locked": true,
     "schema_version": 3,
     "solution": false,
     "task": false
    }
   },
   "source": [
    "## Deducción de los coeficientes $\\beta_0$ y $\\beta_1$.\n",
    "\n",
    "El modelo de regresión lineal se escribe como \n",
    "$$\n",
    "y_i = \\beta_0 + \\beta_1 x_i + \\varepsilon_i \\;\\; \\text{para} \\;\\; i=1,\\dots, n.\n",
    "$$\n",
    "Queremos elegir $\\beta_0,\\beta_1$ que minimicen la suma de los errores al cuadrado (SSE) es decir\n",
    "\n",
    "$$\n",
    "S(\\beta_0,\\beta_1)=\\sum_{i=1}^n \\big(y_i - \\beta_0 - \\beta_1 x_i\\big)^2.\n",
    "$$"
   ]
  },
  {
   "cell_type": "markdown",
   "id": "2030200a-d9eb-4ece-8d0f-3eaf86c56b95",
   "metadata": {
    "deletable": false,
    "editable": false,
    "nbgrader": {
     "cell_type": "markdown",
     "checksum": "10ad83ea7427df454e53dd0db4b72bb0",
     "grade": false,
     "grade_id": "cell-eb7b32d843330c7f",
     "locked": true,
     "schema_version": 3,
     "solution": false,
     "task": false
    }
   },
   "source": [
    "### Paso 1 — derivadas parciales (ecuaciones normales).\n",
    "Minimizar $S$ implica anular sus derivadas parciales:\n",
    "\n",
    "$$\n",
    "\\frac{\\partial S}{\\partial \\beta_0} = -2\\sum_{i=1}^n \\big(y_i - \\beta_0 - \\beta_1 x_i\\big)=0\n",
    "$$\n",
    "\n",
    "$$\n",
    "\\frac{\\partial S}{\\partial \\beta_1} = -2\\sum_{i=1}^n x_i\\big(y_i - \\beta_0 - \\beta_1 x_i\\big)=0\n",
    "$$\n",
    "\n",
    "Quitando el factor $-2$ y reescribiendo obtenemos las **ecuaciones normales**:\n",
    "\n",
    "$$\n",
    "\\sum_{i=1}^n y_i = n\\beta_0 + \\beta_1\\sum_{i=1}^n x_i \\tag{1}\n",
    "$$\n",
    "\n",
    "$$\n",
    "\\sum_{i=1}^n x_i y_i = \\beta_0\\sum_{i=1}^n x_i + \\beta_1\\sum_{i=1}^n x_i^2 \\tag{2}\n",
    "$$"
   ]
  },
  {
   "cell_type": "markdown",
   "id": "8dfa848d-d0b4-47a8-a267-0699f383f664",
   "metadata": {
    "deletable": false,
    "editable": false,
    "nbgrader": {
     "cell_type": "markdown",
     "checksum": "c2c8d5c25420ce8ab0ab49463a59ff00",
     "grade": false,
     "grade_id": "cell-ecddc5f20256fc92",
     "locked": true,
     "schema_version": 3,
     "solution": false,
     "task": false
    }
   },
   "source": [
    "### Paso 2 — resolver para $\\beta_0$ y $\\beta_1$.\n",
    "Recordando que las medias se escriben como\n",
    "$$\\bar x = \\dfrac{1}{n}\\sum_{i=1}^n x_i \\;\\; \\text{y} \\;\\; \\bar y = \\dfrac{1}{n}\\sum_{i=1}^n y_i$$\n",
    "\n",
    "Podemos despejar $\\beta_0$ de $(1)$ para obtener\n",
    "\n",
    "$$\n",
    "\\beta_0 = \\bar y - \\beta_1 \\bar x.\n",
    "$$\n",
    "\n",
    "Sustituimos en $(2)$:\n",
    "\n",
    "$$\n",
    "\\sum_{i=1}^n x_i y_i = (\\bar y - \\beta_1 \\bar x)\\sum_{i=1}^n x_i + \\beta_1\\sum_{i=1}^n x_i^2.\n",
    "$$\n",
    "\n",
    "Como $\\displaystyle \\sum_{i=1}^n x_i = n\\bar x$, simplificamos:\n",
    "\n",
    "$$\n",
    "\\sum_{i=1}^n x_i y_i = n\\bar x\\bar y - \\beta_1 n\\bar x^2 + \\beta_1\\sum_{i=1}^n x_i^2.\n",
    "$$\n",
    "\n",
    "Reordenando:\n",
    "\n",
    "$$\n",
    "\\beta_1\\Big(\\sum_{i=1}^n x_i^2 - n\\bar x^2\\Big) = \\sum_{i=1}^n x_i y_i - n\\bar x\\bar y.\n",
    "$$\n",
    "\n",
    "Observa que:\n",
    "\n",
    "$$\\sum_{i=1}^n x_i^2 - n\\bar x^2 = \\sum_{i=1}^n (x_i-\\bar x)^2$$ \n",
    "\n",
    "y \n",
    "\n",
    "$$\\sum_{i=1}^n x_i y_i - n\\bar x\\bar y = \\sum_{i=1}^n (x_i-\\bar x)(y_i-\\bar y)$$\n",
    "\n",
    "Por lo tanto\n",
    "\n",
    "$$\n",
    "\\displaystyle \\beta_1 = \\dfrac{\\sum_{i=1}^n (x_i-\\bar x)(y_i-\\bar y)}{\\sum_{i=1}^n (x_i-\\bar x)^2}\n",
    "\\quad\\text{y}\\quad\n",
    "\\boxed{\\displaystyle \\beta_0 = \\bar y - \\beta_1\\bar x.}\n",
    "$$"
   ]
  },
  {
   "cell_type": "code",
   "execution_count": null,
   "id": "a437c707-2b7e-4fbd-836c-131fff6612a3",
   "metadata": {},
   "outputs": [],
   "source": []
  }
 ],
 "metadata": {
  "kernelspec": {
   "display_name": "Python 3 (ipykernel)",
   "language": "python",
   "name": "python3"
  },
  "language_info": {
   "codemirror_mode": {
    "name": "ipython",
    "version": 3
   },
   "file_extension": ".py",
   "mimetype": "text/x-python",
   "name": "python",
   "nbconvert_exporter": "python",
   "pygments_lexer": "ipython3",
   "version": "3.11.6"
  }
 },
 "nbformat": 4,
 "nbformat_minor": 5
}
