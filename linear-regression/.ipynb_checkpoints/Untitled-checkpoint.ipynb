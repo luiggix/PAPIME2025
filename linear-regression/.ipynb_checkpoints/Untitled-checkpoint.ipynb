{
 "cells": [
  {
   "cell_type": "markdown",
   "id": "c2b3786a-4c9f-45f0-a4e2-4c58c68b5bcf",
   "metadata": {},
   "source": [
    "## Medidas de tendencia central \n",
    "\n",
    "Las variables con datos medidos o de conteo pueden tener miles de valores distintos. Un paso fundamental para explorar los datos es obtener un \"valor típico\" para cada característica (variable). Este valor será una estimación de dónde se ubica la mayor parte de los datos, es decir, su tendencia central. Por esta razón a estos valores se les conoce como medidas de tendencia central o estimaciones de ubicación. Algunos conceptos clave de estas medidas de tendencia central son los siguientes:\n",
    "\n",
    "| Nombre | Definición | Otros nombres |\n",
    "|---|---|---|\n",
    "|Media|La suma de todos los valores dividida por el número total de valores.| Promedio, media aritmética.|\n",
    "|Media ponderada | La suma de todos los valores, cada uno de ellos multiplicado por su ponderación, dividida entre la suma de los pesos. |promedio ponderado |\n",
    "|Mediana| El valor tal que la mitad de los datos se encuentra por encima y por debajo del mismo. |Percentile 50|.\n",
    "|Valor atípico| Un valor que es muy diferente de la mayoría de los datos. |Outlier, valor extremo|\n"
   ]
  },
  {
   "cell_type": "markdown",
   "id": "64c003db-9700-4008-8152-4284748a8587",
   "metadata": {},
   "source": [
    "# Medidas de variabilidad\n",
    "\n",
    "Las medidas de tendencia central son solo una dimensión para resumir una característica. Una segunda dimensión es la variabilidad, también conocida como dispersión. La variabilidad mide si los valores de los datos están muy agrupados o dispersos. La variabilidad es fundamental en la estadística: medirla, reducirla, distinguir la variabilidad aleatoria de la real, identificar las diversas fuentes de variabilidad real y tomar decisiones en función de ella. Algunos conceptos clave de estas medidas de tendencia central son los siguientes:\n",
    "\n",
    "| Nombre | Definición | Otros nombres |\n",
    "|---|---|---|\n",
    "|Desviaciones| La diferencia entre los valores observados y las medidas de tendencia central | Errores, residuales |\n",
    "|Varianza| La suma de las desviaciones de la media dividad por $N-1$ donde $N$ es el número total de valores | Error cuadrático medio|\n",
    "|Desviación estandar| La raíz cuadrada de la varianza| Norma L2, norma Euclideana|\n"
   ]
  },
  {
   "cell_type": "code",
   "execution_count": null,
   "id": "a86ca18c-e965-4334-9a31-ab7e0387dc57",
   "metadata": {},
   "outputs": [],
   "source": []
  }
 ],
 "metadata": {
  "kernelspec": {
   "display_name": "Python 3 (ipykernel)",
   "language": "python",
   "name": "python3"
  },
  "language_info": {
   "codemirror_mode": {
    "name": "ipython",
    "version": 3
   },
   "file_extension": ".py",
   "mimetype": "text/x-python",
   "name": "python",
   "nbconvert_exporter": "python",
   "pygments_lexer": "ipython3",
   "version": "3.13.3"
  }
 },
 "nbformat": 4,
 "nbformat_minor": 5
}
